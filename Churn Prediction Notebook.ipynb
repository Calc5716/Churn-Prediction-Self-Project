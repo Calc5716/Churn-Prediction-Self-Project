{
  "nbformat": 4,
  "nbformat_minor": 0,
  "metadata": {
    "colab": {
      "provenance": []
    },
    "kernelspec": {
      "name": "python3",
      "display_name": "Python 3"
    },
    "language_info": {
      "name": "python"
    },
    "widgets": {
      "application/vnd.jupyter.widget-state+json": {
        "60d5109f61f24b01a0786b713fade7bb": {
          "model_module": "@jupyter-widgets/controls",
          "model_name": "HBoxModel",
          "model_module_version": "1.5.0",
          "state": {
            "_dom_classes": [],
            "_model_module": "@jupyter-widgets/controls",
            "_model_module_version": "1.5.0",
            "_model_name": "HBoxModel",
            "_view_count": null,
            "_view_module": "@jupyter-widgets/controls",
            "_view_module_version": "1.5.0",
            "_view_name": "HBoxView",
            "box_style": "",
            "children": [
              "IPY_MODEL_e10d0a366d8a4b0599f847572550d509",
              "IPY_MODEL_b6c5c29f2c1a4e59aef92b3f4e3411a0",
              "IPY_MODEL_a6959ce686f64e01b172d7d426cde201"
            ],
            "layout": "IPY_MODEL_6b61aa4d6f9a488291393cba2f826c2f"
          }
        },
        "e10d0a366d8a4b0599f847572550d509": {
          "model_module": "@jupyter-widgets/controls",
          "model_name": "HTMLModel",
          "model_module_version": "1.5.0",
          "state": {
            "_dom_classes": [],
            "_model_module": "@jupyter-widgets/controls",
            "_model_module_version": "1.5.0",
            "_model_name": "HTMLModel",
            "_view_count": null,
            "_view_module": "@jupyter-widgets/controls",
            "_view_module_version": "1.5.0",
            "_view_name": "HTMLView",
            "description": "",
            "description_tooltip": null,
            "layout": "IPY_MODEL_00fe8a7f52154a71aab61f1c4057b2e8",
            "placeholder": "​",
            "style": "IPY_MODEL_916bb7153b16435386e30d4db96caa1e",
            "value": "Summarize dataset: 100%"
          }
        },
        "b6c5c29f2c1a4e59aef92b3f4e3411a0": {
          "model_module": "@jupyter-widgets/controls",
          "model_name": "FloatProgressModel",
          "model_module_version": "1.5.0",
          "state": {
            "_dom_classes": [],
            "_model_module": "@jupyter-widgets/controls",
            "_model_module_version": "1.5.0",
            "_model_name": "FloatProgressModel",
            "_view_count": null,
            "_view_module": "@jupyter-widgets/controls",
            "_view_module_version": "1.5.0",
            "_view_name": "ProgressView",
            "bar_style": "success",
            "description": "",
            "description_tooltip": null,
            "layout": "IPY_MODEL_4d24d4010cd04065b903e3c9f2707267",
            "max": 5,
            "min": 0,
            "orientation": "horizontal",
            "style": "IPY_MODEL_b469a6508fa64443a195aee637ad1702",
            "value": 5
          }
        },
        "a6959ce686f64e01b172d7d426cde201": {
          "model_module": "@jupyter-widgets/controls",
          "model_name": "HTMLModel",
          "model_module_version": "1.5.0",
          "state": {
            "_dom_classes": [],
            "_model_module": "@jupyter-widgets/controls",
            "_model_module_version": "1.5.0",
            "_model_name": "HTMLModel",
            "_view_count": null,
            "_view_module": "@jupyter-widgets/controls",
            "_view_module_version": "1.5.0",
            "_view_name": "HTMLView",
            "description": "",
            "description_tooltip": null,
            "layout": "IPY_MODEL_482f1c9fdee644d79c41fabd5c5e8c31",
            "placeholder": "​",
            "style": "IPY_MODEL_73a3e310dc1445d4a412b2ed68875af8",
            "value": " 38/38 [00:02&lt;00:00,  8.71it/s, Completed]"
          }
        },
        "6b61aa4d6f9a488291393cba2f826c2f": {
          "model_module": "@jupyter-widgets/base",
          "model_name": "LayoutModel",
          "model_module_version": "1.2.0",
          "state": {
            "_model_module": "@jupyter-widgets/base",
            "_model_module_version": "1.2.0",
            "_model_name": "LayoutModel",
            "_view_count": null,
            "_view_module": "@jupyter-widgets/base",
            "_view_module_version": "1.2.0",
            "_view_name": "LayoutView",
            "align_content": null,
            "align_items": null,
            "align_self": null,
            "border": null,
            "bottom": null,
            "display": null,
            "flex": null,
            "flex_flow": null,
            "grid_area": null,
            "grid_auto_columns": null,
            "grid_auto_flow": null,
            "grid_auto_rows": null,
            "grid_column": null,
            "grid_gap": null,
            "grid_row": null,
            "grid_template_areas": null,
            "grid_template_columns": null,
            "grid_template_rows": null,
            "height": null,
            "justify_content": null,
            "justify_items": null,
            "left": null,
            "margin": null,
            "max_height": null,
            "max_width": null,
            "min_height": null,
            "min_width": null,
            "object_fit": null,
            "object_position": null,
            "order": null,
            "overflow": null,
            "overflow_x": null,
            "overflow_y": null,
            "padding": null,
            "right": null,
            "top": null,
            "visibility": null,
            "width": null
          }
        },
        "00fe8a7f52154a71aab61f1c4057b2e8": {
          "model_module": "@jupyter-widgets/base",
          "model_name": "LayoutModel",
          "model_module_version": "1.2.0",
          "state": {
            "_model_module": "@jupyter-widgets/base",
            "_model_module_version": "1.2.0",
            "_model_name": "LayoutModel",
            "_view_count": null,
            "_view_module": "@jupyter-widgets/base",
            "_view_module_version": "1.2.0",
            "_view_name": "LayoutView",
            "align_content": null,
            "align_items": null,
            "align_self": null,
            "border": null,
            "bottom": null,
            "display": null,
            "flex": null,
            "flex_flow": null,
            "grid_area": null,
            "grid_auto_columns": null,
            "grid_auto_flow": null,
            "grid_auto_rows": null,
            "grid_column": null,
            "grid_gap": null,
            "grid_row": null,
            "grid_template_areas": null,
            "grid_template_columns": null,
            "grid_template_rows": null,
            "height": null,
            "justify_content": null,
            "justify_items": null,
            "left": null,
            "margin": null,
            "max_height": null,
            "max_width": null,
            "min_height": null,
            "min_width": null,
            "object_fit": null,
            "object_position": null,
            "order": null,
            "overflow": null,
            "overflow_x": null,
            "overflow_y": null,
            "padding": null,
            "right": null,
            "top": null,
            "visibility": null,
            "width": null
          }
        },
        "916bb7153b16435386e30d4db96caa1e": {
          "model_module": "@jupyter-widgets/controls",
          "model_name": "DescriptionStyleModel",
          "model_module_version": "1.5.0",
          "state": {
            "_model_module": "@jupyter-widgets/controls",
            "_model_module_version": "1.5.0",
            "_model_name": "DescriptionStyleModel",
            "_view_count": null,
            "_view_module": "@jupyter-widgets/base",
            "_view_module_version": "1.2.0",
            "_view_name": "StyleView",
            "description_width": ""
          }
        },
        "4d24d4010cd04065b903e3c9f2707267": {
          "model_module": "@jupyter-widgets/base",
          "model_name": "LayoutModel",
          "model_module_version": "1.2.0",
          "state": {
            "_model_module": "@jupyter-widgets/base",
            "_model_module_version": "1.2.0",
            "_model_name": "LayoutModel",
            "_view_count": null,
            "_view_module": "@jupyter-widgets/base",
            "_view_module_version": "1.2.0",
            "_view_name": "LayoutView",
            "align_content": null,
            "align_items": null,
            "align_self": null,
            "border": null,
            "bottom": null,
            "display": null,
            "flex": null,
            "flex_flow": null,
            "grid_area": null,
            "grid_auto_columns": null,
            "grid_auto_flow": null,
            "grid_auto_rows": null,
            "grid_column": null,
            "grid_gap": null,
            "grid_row": null,
            "grid_template_areas": null,
            "grid_template_columns": null,
            "grid_template_rows": null,
            "height": null,
            "justify_content": null,
            "justify_items": null,
            "left": null,
            "margin": null,
            "max_height": null,
            "max_width": null,
            "min_height": null,
            "min_width": null,
            "object_fit": null,
            "object_position": null,
            "order": null,
            "overflow": null,
            "overflow_x": null,
            "overflow_y": null,
            "padding": null,
            "right": null,
            "top": null,
            "visibility": null,
            "width": null
          }
        },
        "b469a6508fa64443a195aee637ad1702": {
          "model_module": "@jupyter-widgets/controls",
          "model_name": "ProgressStyleModel",
          "model_module_version": "1.5.0",
          "state": {
            "_model_module": "@jupyter-widgets/controls",
            "_model_module_version": "1.5.0",
            "_model_name": "ProgressStyleModel",
            "_view_count": null,
            "_view_module": "@jupyter-widgets/base",
            "_view_module_version": "1.2.0",
            "_view_name": "StyleView",
            "bar_color": null,
            "description_width": ""
          }
        },
        "482f1c9fdee644d79c41fabd5c5e8c31": {
          "model_module": "@jupyter-widgets/base",
          "model_name": "LayoutModel",
          "model_module_version": "1.2.0",
          "state": {
            "_model_module": "@jupyter-widgets/base",
            "_model_module_version": "1.2.0",
            "_model_name": "LayoutModel",
            "_view_count": null,
            "_view_module": "@jupyter-widgets/base",
            "_view_module_version": "1.2.0",
            "_view_name": "LayoutView",
            "align_content": null,
            "align_items": null,
            "align_self": null,
            "border": null,
            "bottom": null,
            "display": null,
            "flex": null,
            "flex_flow": null,
            "grid_area": null,
            "grid_auto_columns": null,
            "grid_auto_flow": null,
            "grid_auto_rows": null,
            "grid_column": null,
            "grid_gap": null,
            "grid_row": null,
            "grid_template_areas": null,
            "grid_template_columns": null,
            "grid_template_rows": null,
            "height": null,
            "justify_content": null,
            "justify_items": null,
            "left": null,
            "margin": null,
            "max_height": null,
            "max_width": null,
            "min_height": null,
            "min_width": null,
            "object_fit": null,
            "object_position": null,
            "order": null,
            "overflow": null,
            "overflow_x": null,
            "overflow_y": null,
            "padding": null,
            "right": null,
            "top": null,
            "visibility": null,
            "width": null
          }
        },
        "73a3e310dc1445d4a412b2ed68875af8": {
          "model_module": "@jupyter-widgets/controls",
          "model_name": "DescriptionStyleModel",
          "model_module_version": "1.5.0",
          "state": {
            "_model_module": "@jupyter-widgets/controls",
            "_model_module_version": "1.5.0",
            "_model_name": "DescriptionStyleModel",
            "_view_count": null,
            "_view_module": "@jupyter-widgets/base",
            "_view_module_version": "1.2.0",
            "_view_name": "StyleView",
            "description_width": ""
          }
        },
        "592125dd4b774a929f604220b827b440": {
          "model_module": "@jupyter-widgets/controls",
          "model_name": "HBoxModel",
          "model_module_version": "1.5.0",
          "state": {
            "_dom_classes": [],
            "_model_module": "@jupyter-widgets/controls",
            "_model_module_version": "1.5.0",
            "_model_name": "HBoxModel",
            "_view_count": null,
            "_view_module": "@jupyter-widgets/controls",
            "_view_module_version": "1.5.0",
            "_view_name": "HBoxView",
            "box_style": "",
            "children": [
              "IPY_MODEL_2d2f1d5c35d44ec88d91d28daf595075",
              "IPY_MODEL_255426bed1f64b41a7ae9d0af5251615",
              "IPY_MODEL_cc343672e00743429067796a9429c9a6"
            ],
            "layout": "IPY_MODEL_6854a629a7b9447caff08d1886714d39"
          }
        },
        "2d2f1d5c35d44ec88d91d28daf595075": {
          "model_module": "@jupyter-widgets/controls",
          "model_name": "HTMLModel",
          "model_module_version": "1.5.0",
          "state": {
            "_dom_classes": [],
            "_model_module": "@jupyter-widgets/controls",
            "_model_module_version": "1.5.0",
            "_model_name": "HTMLModel",
            "_view_count": null,
            "_view_module": "@jupyter-widgets/controls",
            "_view_module_version": "1.5.0",
            "_view_name": "HTMLView",
            "description": "",
            "description_tooltip": null,
            "layout": "IPY_MODEL_0c644fa264ea4bdc9662e703cf16f5b2",
            "placeholder": "​",
            "style": "IPY_MODEL_bc00f3a0bab24e31adc639a9acaa6b79",
            "value": "Generate report structure: 100%"
          }
        },
        "255426bed1f64b41a7ae9d0af5251615": {
          "model_module": "@jupyter-widgets/controls",
          "model_name": "FloatProgressModel",
          "model_module_version": "1.5.0",
          "state": {
            "_dom_classes": [],
            "_model_module": "@jupyter-widgets/controls",
            "_model_module_version": "1.5.0",
            "_model_name": "FloatProgressModel",
            "_view_count": null,
            "_view_module": "@jupyter-widgets/controls",
            "_view_module_version": "1.5.0",
            "_view_name": "ProgressView",
            "bar_style": "success",
            "description": "",
            "description_tooltip": null,
            "layout": "IPY_MODEL_4fb433e2ba83458ba78ed26bf86662a6",
            "max": 1,
            "min": 0,
            "orientation": "horizontal",
            "style": "IPY_MODEL_404bb1f36e7a40a89924fbaefa97619e",
            "value": 1
          }
        },
        "cc343672e00743429067796a9429c9a6": {
          "model_module": "@jupyter-widgets/controls",
          "model_name": "HTMLModel",
          "model_module_version": "1.5.0",
          "state": {
            "_dom_classes": [],
            "_model_module": "@jupyter-widgets/controls",
            "_model_module_version": "1.5.0",
            "_model_name": "HTMLModel",
            "_view_count": null,
            "_view_module": "@jupyter-widgets/controls",
            "_view_module_version": "1.5.0",
            "_view_name": "HTMLView",
            "description": "",
            "description_tooltip": null,
            "layout": "IPY_MODEL_dc633d44005f4bc1a209b843d7ba6354",
            "placeholder": "​",
            "style": "IPY_MODEL_5f8541d6ab2f4a6b9a3dd5adc2acd700",
            "value": " 1/1 [00:03&lt;00:00,  3.34s/it]"
          }
        },
        "6854a629a7b9447caff08d1886714d39": {
          "model_module": "@jupyter-widgets/base",
          "model_name": "LayoutModel",
          "model_module_version": "1.2.0",
          "state": {
            "_model_module": "@jupyter-widgets/base",
            "_model_module_version": "1.2.0",
            "_model_name": "LayoutModel",
            "_view_count": null,
            "_view_module": "@jupyter-widgets/base",
            "_view_module_version": "1.2.0",
            "_view_name": "LayoutView",
            "align_content": null,
            "align_items": null,
            "align_self": null,
            "border": null,
            "bottom": null,
            "display": null,
            "flex": null,
            "flex_flow": null,
            "grid_area": null,
            "grid_auto_columns": null,
            "grid_auto_flow": null,
            "grid_auto_rows": null,
            "grid_column": null,
            "grid_gap": null,
            "grid_row": null,
            "grid_template_areas": null,
            "grid_template_columns": null,
            "grid_template_rows": null,
            "height": null,
            "justify_content": null,
            "justify_items": null,
            "left": null,
            "margin": null,
            "max_height": null,
            "max_width": null,
            "min_height": null,
            "min_width": null,
            "object_fit": null,
            "object_position": null,
            "order": null,
            "overflow": null,
            "overflow_x": null,
            "overflow_y": null,
            "padding": null,
            "right": null,
            "top": null,
            "visibility": null,
            "width": null
          }
        },
        "0c644fa264ea4bdc9662e703cf16f5b2": {
          "model_module": "@jupyter-widgets/base",
          "model_name": "LayoutModel",
          "model_module_version": "1.2.0",
          "state": {
            "_model_module": "@jupyter-widgets/base",
            "_model_module_version": "1.2.0",
            "_model_name": "LayoutModel",
            "_view_count": null,
            "_view_module": "@jupyter-widgets/base",
            "_view_module_version": "1.2.0",
            "_view_name": "LayoutView",
            "align_content": null,
            "align_items": null,
            "align_self": null,
            "border": null,
            "bottom": null,
            "display": null,
            "flex": null,
            "flex_flow": null,
            "grid_area": null,
            "grid_auto_columns": null,
            "grid_auto_flow": null,
            "grid_auto_rows": null,
            "grid_column": null,
            "grid_gap": null,
            "grid_row": null,
            "grid_template_areas": null,
            "grid_template_columns": null,
            "grid_template_rows": null,
            "height": null,
            "justify_content": null,
            "justify_items": null,
            "left": null,
            "margin": null,
            "max_height": null,
            "max_width": null,
            "min_height": null,
            "min_width": null,
            "object_fit": null,
            "object_position": null,
            "order": null,
            "overflow": null,
            "overflow_x": null,
            "overflow_y": null,
            "padding": null,
            "right": null,
            "top": null,
            "visibility": null,
            "width": null
          }
        },
        "bc00f3a0bab24e31adc639a9acaa6b79": {
          "model_module": "@jupyter-widgets/controls",
          "model_name": "DescriptionStyleModel",
          "model_module_version": "1.5.0",
          "state": {
            "_model_module": "@jupyter-widgets/controls",
            "_model_module_version": "1.5.0",
            "_model_name": "DescriptionStyleModel",
            "_view_count": null,
            "_view_module": "@jupyter-widgets/base",
            "_view_module_version": "1.2.0",
            "_view_name": "StyleView",
            "description_width": ""
          }
        },
        "4fb433e2ba83458ba78ed26bf86662a6": {
          "model_module": "@jupyter-widgets/base",
          "model_name": "LayoutModel",
          "model_module_version": "1.2.0",
          "state": {
            "_model_module": "@jupyter-widgets/base",
            "_model_module_version": "1.2.0",
            "_model_name": "LayoutModel",
            "_view_count": null,
            "_view_module": "@jupyter-widgets/base",
            "_view_module_version": "1.2.0",
            "_view_name": "LayoutView",
            "align_content": null,
            "align_items": null,
            "align_self": null,
            "border": null,
            "bottom": null,
            "display": null,
            "flex": null,
            "flex_flow": null,
            "grid_area": null,
            "grid_auto_columns": null,
            "grid_auto_flow": null,
            "grid_auto_rows": null,
            "grid_column": null,
            "grid_gap": null,
            "grid_row": null,
            "grid_template_areas": null,
            "grid_template_columns": null,
            "grid_template_rows": null,
            "height": null,
            "justify_content": null,
            "justify_items": null,
            "left": null,
            "margin": null,
            "max_height": null,
            "max_width": null,
            "min_height": null,
            "min_width": null,
            "object_fit": null,
            "object_position": null,
            "order": null,
            "overflow": null,
            "overflow_x": null,
            "overflow_y": null,
            "padding": null,
            "right": null,
            "top": null,
            "visibility": null,
            "width": null
          }
        },
        "404bb1f36e7a40a89924fbaefa97619e": {
          "model_module": "@jupyter-widgets/controls",
          "model_name": "ProgressStyleModel",
          "model_module_version": "1.5.0",
          "state": {
            "_model_module": "@jupyter-widgets/controls",
            "_model_module_version": "1.5.0",
            "_model_name": "ProgressStyleModel",
            "_view_count": null,
            "_view_module": "@jupyter-widgets/base",
            "_view_module_version": "1.2.0",
            "_view_name": "StyleView",
            "bar_color": null,
            "description_width": ""
          }
        },
        "dc633d44005f4bc1a209b843d7ba6354": {
          "model_module": "@jupyter-widgets/base",
          "model_name": "LayoutModel",
          "model_module_version": "1.2.0",
          "state": {
            "_model_module": "@jupyter-widgets/base",
            "_model_module_version": "1.2.0",
            "_model_name": "LayoutModel",
            "_view_count": null,
            "_view_module": "@jupyter-widgets/base",
            "_view_module_version": "1.2.0",
            "_view_name": "LayoutView",
            "align_content": null,
            "align_items": null,
            "align_self": null,
            "border": null,
            "bottom": null,
            "display": null,
            "flex": null,
            "flex_flow": null,
            "grid_area": null,
            "grid_auto_columns": null,
            "grid_auto_flow": null,
            "grid_auto_rows": null,
            "grid_column": null,
            "grid_gap": null,
            "grid_row": null,
            "grid_template_areas": null,
            "grid_template_columns": null,
            "grid_template_rows": null,
            "height": null,
            "justify_content": null,
            "justify_items": null,
            "left": null,
            "margin": null,
            "max_height": null,
            "max_width": null,
            "min_height": null,
            "min_width": null,
            "object_fit": null,
            "object_position": null,
            "order": null,
            "overflow": null,
            "overflow_x": null,
            "overflow_y": null,
            "padding": null,
            "right": null,
            "top": null,
            "visibility": null,
            "width": null
          }
        },
        "5f8541d6ab2f4a6b9a3dd5adc2acd700": {
          "model_module": "@jupyter-widgets/controls",
          "model_name": "DescriptionStyleModel",
          "model_module_version": "1.5.0",
          "state": {
            "_model_module": "@jupyter-widgets/controls",
            "_model_module_version": "1.5.0",
            "_model_name": "DescriptionStyleModel",
            "_view_count": null,
            "_view_module": "@jupyter-widgets/base",
            "_view_module_version": "1.2.0",
            "_view_name": "StyleView",
            "description_width": ""
          }
        },
        "b9647e01079847a790783f8417b8dd26": {
          "model_module": "@jupyter-widgets/controls",
          "model_name": "HBoxModel",
          "model_module_version": "1.5.0",
          "state": {
            "_dom_classes": [],
            "_model_module": "@jupyter-widgets/controls",
            "_model_module_version": "1.5.0",
            "_model_name": "HBoxModel",
            "_view_count": null,
            "_view_module": "@jupyter-widgets/controls",
            "_view_module_version": "1.5.0",
            "_view_name": "HBoxView",
            "box_style": "",
            "children": [
              "IPY_MODEL_928072340ad54801bb8493e8f6efe9eb",
              "IPY_MODEL_161b3c927e424597abf5237384a388aa",
              "IPY_MODEL_5bbd7b77cbbd44a48e3677b6f2609565"
            ],
            "layout": "IPY_MODEL_cf0c7461ab8a4226957cee15ce78bf10"
          }
        },
        "928072340ad54801bb8493e8f6efe9eb": {
          "model_module": "@jupyter-widgets/controls",
          "model_name": "HTMLModel",
          "model_module_version": "1.5.0",
          "state": {
            "_dom_classes": [],
            "_model_module": "@jupyter-widgets/controls",
            "_model_module_version": "1.5.0",
            "_model_name": "HTMLModel",
            "_view_count": null,
            "_view_module": "@jupyter-widgets/controls",
            "_view_module_version": "1.5.0",
            "_view_name": "HTMLView",
            "description": "",
            "description_tooltip": null,
            "layout": "IPY_MODEL_1c290e79657f4c0c93bae5babab2f57c",
            "placeholder": "​",
            "style": "IPY_MODEL_ff5e744240d24caaa1a8102f746d24f2",
            "value": "Render HTML: 100%"
          }
        },
        "161b3c927e424597abf5237384a388aa": {
          "model_module": "@jupyter-widgets/controls",
          "model_name": "FloatProgressModel",
          "model_module_version": "1.5.0",
          "state": {
            "_dom_classes": [],
            "_model_module": "@jupyter-widgets/controls",
            "_model_module_version": "1.5.0",
            "_model_name": "FloatProgressModel",
            "_view_count": null,
            "_view_module": "@jupyter-widgets/controls",
            "_view_module_version": "1.5.0",
            "_view_name": "ProgressView",
            "bar_style": "success",
            "description": "",
            "description_tooltip": null,
            "layout": "IPY_MODEL_e17c3a0148f941e6a5844268592d713f",
            "max": 1,
            "min": 0,
            "orientation": "horizontal",
            "style": "IPY_MODEL_0507eb4d75094483825e0a4bf5840e4c",
            "value": 1
          }
        },
        "5bbd7b77cbbd44a48e3677b6f2609565": {
          "model_module": "@jupyter-widgets/controls",
          "model_name": "HTMLModel",
          "model_module_version": "1.5.0",
          "state": {
            "_dom_classes": [],
            "_model_module": "@jupyter-widgets/controls",
            "_model_module_version": "1.5.0",
            "_model_name": "HTMLModel",
            "_view_count": null,
            "_view_module": "@jupyter-widgets/controls",
            "_view_module_version": "1.5.0",
            "_view_name": "HTMLView",
            "description": "",
            "description_tooltip": null,
            "layout": "IPY_MODEL_4311d601e5714814843ea757a52b529a",
            "placeholder": "​",
            "style": "IPY_MODEL_fea91678eae54604b48b973f86ade289",
            "value": " 1/1 [00:00&lt;00:00,  2.20it/s]"
          }
        },
        "cf0c7461ab8a4226957cee15ce78bf10": {
          "model_module": "@jupyter-widgets/base",
          "model_name": "LayoutModel",
          "model_module_version": "1.2.0",
          "state": {
            "_model_module": "@jupyter-widgets/base",
            "_model_module_version": "1.2.0",
            "_model_name": "LayoutModel",
            "_view_count": null,
            "_view_module": "@jupyter-widgets/base",
            "_view_module_version": "1.2.0",
            "_view_name": "LayoutView",
            "align_content": null,
            "align_items": null,
            "align_self": null,
            "border": null,
            "bottom": null,
            "display": null,
            "flex": null,
            "flex_flow": null,
            "grid_area": null,
            "grid_auto_columns": null,
            "grid_auto_flow": null,
            "grid_auto_rows": null,
            "grid_column": null,
            "grid_gap": null,
            "grid_row": null,
            "grid_template_areas": null,
            "grid_template_columns": null,
            "grid_template_rows": null,
            "height": null,
            "justify_content": null,
            "justify_items": null,
            "left": null,
            "margin": null,
            "max_height": null,
            "max_width": null,
            "min_height": null,
            "min_width": null,
            "object_fit": null,
            "object_position": null,
            "order": null,
            "overflow": null,
            "overflow_x": null,
            "overflow_y": null,
            "padding": null,
            "right": null,
            "top": null,
            "visibility": null,
            "width": null
          }
        },
        "1c290e79657f4c0c93bae5babab2f57c": {
          "model_module": "@jupyter-widgets/base",
          "model_name": "LayoutModel",
          "model_module_version": "1.2.0",
          "state": {
            "_model_module": "@jupyter-widgets/base",
            "_model_module_version": "1.2.0",
            "_model_name": "LayoutModel",
            "_view_count": null,
            "_view_module": "@jupyter-widgets/base",
            "_view_module_version": "1.2.0",
            "_view_name": "LayoutView",
            "align_content": null,
            "align_items": null,
            "align_self": null,
            "border": null,
            "bottom": null,
            "display": null,
            "flex": null,
            "flex_flow": null,
            "grid_area": null,
            "grid_auto_columns": null,
            "grid_auto_flow": null,
            "grid_auto_rows": null,
            "grid_column": null,
            "grid_gap": null,
            "grid_row": null,
            "grid_template_areas": null,
            "grid_template_columns": null,
            "grid_template_rows": null,
            "height": null,
            "justify_content": null,
            "justify_items": null,
            "left": null,
            "margin": null,
            "max_height": null,
            "max_width": null,
            "min_height": null,
            "min_width": null,
            "object_fit": null,
            "object_position": null,
            "order": null,
            "overflow": null,
            "overflow_x": null,
            "overflow_y": null,
            "padding": null,
            "right": null,
            "top": null,
            "visibility": null,
            "width": null
          }
        },
        "ff5e744240d24caaa1a8102f746d24f2": {
          "model_module": "@jupyter-widgets/controls",
          "model_name": "DescriptionStyleModel",
          "model_module_version": "1.5.0",
          "state": {
            "_model_module": "@jupyter-widgets/controls",
            "_model_module_version": "1.5.0",
            "_model_name": "DescriptionStyleModel",
            "_view_count": null,
            "_view_module": "@jupyter-widgets/base",
            "_view_module_version": "1.2.0",
            "_view_name": "StyleView",
            "description_width": ""
          }
        },
        "e17c3a0148f941e6a5844268592d713f": {
          "model_module": "@jupyter-widgets/base",
          "model_name": "LayoutModel",
          "model_module_version": "1.2.0",
          "state": {
            "_model_module": "@jupyter-widgets/base",
            "_model_module_version": "1.2.0",
            "_model_name": "LayoutModel",
            "_view_count": null,
            "_view_module": "@jupyter-widgets/base",
            "_view_module_version": "1.2.0",
            "_view_name": "LayoutView",
            "align_content": null,
            "align_items": null,
            "align_self": null,
            "border": null,
            "bottom": null,
            "display": null,
            "flex": null,
            "flex_flow": null,
            "grid_area": null,
            "grid_auto_columns": null,
            "grid_auto_flow": null,
            "grid_auto_rows": null,
            "grid_column": null,
            "grid_gap": null,
            "grid_row": null,
            "grid_template_areas": null,
            "grid_template_columns": null,
            "grid_template_rows": null,
            "height": null,
            "justify_content": null,
            "justify_items": null,
            "left": null,
            "margin": null,
            "max_height": null,
            "max_width": null,
            "min_height": null,
            "min_width": null,
            "object_fit": null,
            "object_position": null,
            "order": null,
            "overflow": null,
            "overflow_x": null,
            "overflow_y": null,
            "padding": null,
            "right": null,
            "top": null,
            "visibility": null,
            "width": null
          }
        },
        "0507eb4d75094483825e0a4bf5840e4c": {
          "model_module": "@jupyter-widgets/controls",
          "model_name": "ProgressStyleModel",
          "model_module_version": "1.5.0",
          "state": {
            "_model_module": "@jupyter-widgets/controls",
            "_model_module_version": "1.5.0",
            "_model_name": "ProgressStyleModel",
            "_view_count": null,
            "_view_module": "@jupyter-widgets/base",
            "_view_module_version": "1.2.0",
            "_view_name": "StyleView",
            "bar_color": null,
            "description_width": ""
          }
        },
        "4311d601e5714814843ea757a52b529a": {
          "model_module": "@jupyter-widgets/base",
          "model_name": "LayoutModel",
          "model_module_version": "1.2.0",
          "state": {
            "_model_module": "@jupyter-widgets/base",
            "_model_module_version": "1.2.0",
            "_model_name": "LayoutModel",
            "_view_count": null,
            "_view_module": "@jupyter-widgets/base",
            "_view_module_version": "1.2.0",
            "_view_name": "LayoutView",
            "align_content": null,
            "align_items": null,
            "align_self": null,
            "border": null,
            "bottom": null,
            "display": null,
            "flex": null,
            "flex_flow": null,
            "grid_area": null,
            "grid_auto_columns": null,
            "grid_auto_flow": null,
            "grid_auto_rows": null,
            "grid_column": null,
            "grid_gap": null,
            "grid_row": null,
            "grid_template_areas": null,
            "grid_template_columns": null,
            "grid_template_rows": null,
            "height": null,
            "justify_content": null,
            "justify_items": null,
            "left": null,
            "margin": null,
            "max_height": null,
            "max_width": null,
            "min_height": null,
            "min_width": null,
            "object_fit": null,
            "object_position": null,
            "order": null,
            "overflow": null,
            "overflow_x": null,
            "overflow_y": null,
            "padding": null,
            "right": null,
            "top": null,
            "visibility": null,
            "width": null
          }
        },
        "fea91678eae54604b48b973f86ade289": {
          "model_module": "@jupyter-widgets/controls",
          "model_name": "DescriptionStyleModel",
          "model_module_version": "1.5.0",
          "state": {
            "_model_module": "@jupyter-widgets/controls",
            "_model_module_version": "1.5.0",
            "_model_name": "DescriptionStyleModel",
            "_view_count": null,
            "_view_module": "@jupyter-widgets/base",
            "_view_module_version": "1.2.0",
            "_view_name": "StyleView",
            "description_width": ""
          }
        },
        "543cdad7d88545fb9219d7be676b9431": {
          "model_module": "@jupyter-widgets/controls",
          "model_name": "HBoxModel",
          "model_module_version": "1.5.0",
          "state": {
            "_dom_classes": [],
            "_model_module": "@jupyter-widgets/controls",
            "_model_module_version": "1.5.0",
            "_model_name": "HBoxModel",
            "_view_count": null,
            "_view_module": "@jupyter-widgets/controls",
            "_view_module_version": "1.5.0",
            "_view_name": "HBoxView",
            "box_style": "",
            "children": [
              "IPY_MODEL_d634551d9892475c9876bb19952ccf88",
              "IPY_MODEL_bb4d1ce32e72462db0552917b77bec55",
              "IPY_MODEL_1017285d38194203a34bc565943ecea9"
            ],
            "layout": "IPY_MODEL_44fe338305e04e9396020eac2f239e85"
          }
        },
        "d634551d9892475c9876bb19952ccf88": {
          "model_module": "@jupyter-widgets/controls",
          "model_name": "HTMLModel",
          "model_module_version": "1.5.0",
          "state": {
            "_dom_classes": [],
            "_model_module": "@jupyter-widgets/controls",
            "_model_module_version": "1.5.0",
            "_model_name": "HTMLModel",
            "_view_count": null,
            "_view_module": "@jupyter-widgets/controls",
            "_view_module_version": "1.5.0",
            "_view_name": "HTMLView",
            "description": "",
            "description_tooltip": null,
            "layout": "IPY_MODEL_61e4902b4fe04b5f9e5df85a83711d83",
            "placeholder": "​",
            "style": "IPY_MODEL_71eeb86948974386b75d28d9b926fdb0",
            "value": "Export report to file: 100%"
          }
        },
        "bb4d1ce32e72462db0552917b77bec55": {
          "model_module": "@jupyter-widgets/controls",
          "model_name": "FloatProgressModel",
          "model_module_version": "1.5.0",
          "state": {
            "_dom_classes": [],
            "_model_module": "@jupyter-widgets/controls",
            "_model_module_version": "1.5.0",
            "_model_name": "FloatProgressModel",
            "_view_count": null,
            "_view_module": "@jupyter-widgets/controls",
            "_view_module_version": "1.5.0",
            "_view_name": "ProgressView",
            "bar_style": "success",
            "description": "",
            "description_tooltip": null,
            "layout": "IPY_MODEL_402ae2fb55f743438f326fba260f1cad",
            "max": 1,
            "min": 0,
            "orientation": "horizontal",
            "style": "IPY_MODEL_9ca09248f000401799c10d2b2de6b5ed",
            "value": 1
          }
        },
        "1017285d38194203a34bc565943ecea9": {
          "model_module": "@jupyter-widgets/controls",
          "model_name": "HTMLModel",
          "model_module_version": "1.5.0",
          "state": {
            "_dom_classes": [],
            "_model_module": "@jupyter-widgets/controls",
            "_model_module_version": "1.5.0",
            "_model_name": "HTMLModel",
            "_view_count": null,
            "_view_module": "@jupyter-widgets/controls",
            "_view_module_version": "1.5.0",
            "_view_name": "HTMLView",
            "description": "",
            "description_tooltip": null,
            "layout": "IPY_MODEL_822425cf87c4413b92a12e6390169a1f",
            "placeholder": "​",
            "style": "IPY_MODEL_5693ce2adcf14ab5931ecf47c23bd6fc",
            "value": " 1/1 [00:00&lt;00:00, 66.49it/s]"
          }
        },
        "44fe338305e04e9396020eac2f239e85": {
          "model_module": "@jupyter-widgets/base",
          "model_name": "LayoutModel",
          "model_module_version": "1.2.0",
          "state": {
            "_model_module": "@jupyter-widgets/base",
            "_model_module_version": "1.2.0",
            "_model_name": "LayoutModel",
            "_view_count": null,
            "_view_module": "@jupyter-widgets/base",
            "_view_module_version": "1.2.0",
            "_view_name": "LayoutView",
            "align_content": null,
            "align_items": null,
            "align_self": null,
            "border": null,
            "bottom": null,
            "display": null,
            "flex": null,
            "flex_flow": null,
            "grid_area": null,
            "grid_auto_columns": null,
            "grid_auto_flow": null,
            "grid_auto_rows": null,
            "grid_column": null,
            "grid_gap": null,
            "grid_row": null,
            "grid_template_areas": null,
            "grid_template_columns": null,
            "grid_template_rows": null,
            "height": null,
            "justify_content": null,
            "justify_items": null,
            "left": null,
            "margin": null,
            "max_height": null,
            "max_width": null,
            "min_height": null,
            "min_width": null,
            "object_fit": null,
            "object_position": null,
            "order": null,
            "overflow": null,
            "overflow_x": null,
            "overflow_y": null,
            "padding": null,
            "right": null,
            "top": null,
            "visibility": null,
            "width": null
          }
        },
        "61e4902b4fe04b5f9e5df85a83711d83": {
          "model_module": "@jupyter-widgets/base",
          "model_name": "LayoutModel",
          "model_module_version": "1.2.0",
          "state": {
            "_model_module": "@jupyter-widgets/base",
            "_model_module_version": "1.2.0",
            "_model_name": "LayoutModel",
            "_view_count": null,
            "_view_module": "@jupyter-widgets/base",
            "_view_module_version": "1.2.0",
            "_view_name": "LayoutView",
            "align_content": null,
            "align_items": null,
            "align_self": null,
            "border": null,
            "bottom": null,
            "display": null,
            "flex": null,
            "flex_flow": null,
            "grid_area": null,
            "grid_auto_columns": null,
            "grid_auto_flow": null,
            "grid_auto_rows": null,
            "grid_column": null,
            "grid_gap": null,
            "grid_row": null,
            "grid_template_areas": null,
            "grid_template_columns": null,
            "grid_template_rows": null,
            "height": null,
            "justify_content": null,
            "justify_items": null,
            "left": null,
            "margin": null,
            "max_height": null,
            "max_width": null,
            "min_height": null,
            "min_width": null,
            "object_fit": null,
            "object_position": null,
            "order": null,
            "overflow": null,
            "overflow_x": null,
            "overflow_y": null,
            "padding": null,
            "right": null,
            "top": null,
            "visibility": null,
            "width": null
          }
        },
        "71eeb86948974386b75d28d9b926fdb0": {
          "model_module": "@jupyter-widgets/controls",
          "model_name": "DescriptionStyleModel",
          "model_module_version": "1.5.0",
          "state": {
            "_model_module": "@jupyter-widgets/controls",
            "_model_module_version": "1.5.0",
            "_model_name": "DescriptionStyleModel",
            "_view_count": null,
            "_view_module": "@jupyter-widgets/base",
            "_view_module_version": "1.2.0",
            "_view_name": "StyleView",
            "description_width": ""
          }
        },
        "402ae2fb55f743438f326fba260f1cad": {
          "model_module": "@jupyter-widgets/base",
          "model_name": "LayoutModel",
          "model_module_version": "1.2.0",
          "state": {
            "_model_module": "@jupyter-widgets/base",
            "_model_module_version": "1.2.0",
            "_model_name": "LayoutModel",
            "_view_count": null,
            "_view_module": "@jupyter-widgets/base",
            "_view_module_version": "1.2.0",
            "_view_name": "LayoutView",
            "align_content": null,
            "align_items": null,
            "align_self": null,
            "border": null,
            "bottom": null,
            "display": null,
            "flex": null,
            "flex_flow": null,
            "grid_area": null,
            "grid_auto_columns": null,
            "grid_auto_flow": null,
            "grid_auto_rows": null,
            "grid_column": null,
            "grid_gap": null,
            "grid_row": null,
            "grid_template_areas": null,
            "grid_template_columns": null,
            "grid_template_rows": null,
            "height": null,
            "justify_content": null,
            "justify_items": null,
            "left": null,
            "margin": null,
            "max_height": null,
            "max_width": null,
            "min_height": null,
            "min_width": null,
            "object_fit": null,
            "object_position": null,
            "order": null,
            "overflow": null,
            "overflow_x": null,
            "overflow_y": null,
            "padding": null,
            "right": null,
            "top": null,
            "visibility": null,
            "width": null
          }
        },
        "9ca09248f000401799c10d2b2de6b5ed": {
          "model_module": "@jupyter-widgets/controls",
          "model_name": "ProgressStyleModel",
          "model_module_version": "1.5.0",
          "state": {
            "_model_module": "@jupyter-widgets/controls",
            "_model_module_version": "1.5.0",
            "_model_name": "ProgressStyleModel",
            "_view_count": null,
            "_view_module": "@jupyter-widgets/base",
            "_view_module_version": "1.2.0",
            "_view_name": "StyleView",
            "bar_color": null,
            "description_width": ""
          }
        },
        "822425cf87c4413b92a12e6390169a1f": {
          "model_module": "@jupyter-widgets/base",
          "model_name": "LayoutModel",
          "model_module_version": "1.2.0",
          "state": {
            "_model_module": "@jupyter-widgets/base",
            "_model_module_version": "1.2.0",
            "_model_name": "LayoutModel",
            "_view_count": null,
            "_view_module": "@jupyter-widgets/base",
            "_view_module_version": "1.2.0",
            "_view_name": "LayoutView",
            "align_content": null,
            "align_items": null,
            "align_self": null,
            "border": null,
            "bottom": null,
            "display": null,
            "flex": null,
            "flex_flow": null,
            "grid_area": null,
            "grid_auto_columns": null,
            "grid_auto_flow": null,
            "grid_auto_rows": null,
            "grid_column": null,
            "grid_gap": null,
            "grid_row": null,
            "grid_template_areas": null,
            "grid_template_columns": null,
            "grid_template_rows": null,
            "height": null,
            "justify_content": null,
            "justify_items": null,
            "left": null,
            "margin": null,
            "max_height": null,
            "max_width": null,
            "min_height": null,
            "min_width": null,
            "object_fit": null,
            "object_position": null,
            "order": null,
            "overflow": null,
            "overflow_x": null,
            "overflow_y": null,
            "padding": null,
            "right": null,
            "top": null,
            "visibility": null,
            "width": null
          }
        },
        "5693ce2adcf14ab5931ecf47c23bd6fc": {
          "model_module": "@jupyter-widgets/controls",
          "model_name": "DescriptionStyleModel",
          "model_module_version": "1.5.0",
          "state": {
            "_model_module": "@jupyter-widgets/controls",
            "_model_module_version": "1.5.0",
            "_model_name": "DescriptionStyleModel",
            "_view_count": null,
            "_view_module": "@jupyter-widgets/base",
            "_view_module_version": "1.2.0",
            "_view_name": "StyleView",
            "description_width": ""
          }
        }
      }
    }
  },
  "cells": [
    {
      "cell_type": "markdown",
      "source": [
        "# Libraries\n"
      ],
      "metadata": {
        "id": "Cz4W5NDPZL-J"
      }
    },
    {
      "cell_type": "code",
      "source": [
        "!pip install ydata-profiling --q"
      ],
      "metadata": {
        "collapsed": true,
        "id": "JqpkLZ5jmjrR",
        "colab": {
          "base_uri": "https://localhost:8080/"
        },
        "outputId": "781d465b-8fdf-4ee2-a11f-9c8fd6058b44"
      },
      "execution_count": 1,
      "outputs": [
        {
          "output_type": "stream",
          "name": "stdout",
          "text": [
            "\u001b[2K     \u001b[90m━━━━━━━━━━━━━━━━━━━━━━━━━━━━━━━━━━━━━━━━\u001b[0m \u001b[32m62.0/62.0 kB\u001b[0m \u001b[31m3.5 MB/s\u001b[0m eta \u001b[36m0:00:00\u001b[0m\n",
            "\u001b[2K   \u001b[90m━━━━━━━━━━━━━━━━━━━━━━━━━━━━━━━━━━━━━━━━\u001b[0m \u001b[32m399.3/399.3 kB\u001b[0m \u001b[31m8.1 MB/s\u001b[0m eta \u001b[36m0:00:00\u001b[0m\n",
            "\u001b[2K   \u001b[90m━━━━━━━━━━━━━━━━━━━━━━━━━━━━━━━━━━━━━━━━\u001b[0m \u001b[32m296.5/296.5 kB\u001b[0m \u001b[31m7.9 MB/s\u001b[0m eta \u001b[36m0:00:00\u001b[0m\n",
            "\u001b[2K   \u001b[90m━━━━━━━━━━━━━━━━━━━━━━━━━━━━━━━━━━━━━━━━\u001b[0m \u001b[32m3.1/3.1 MB\u001b[0m \u001b[31m59.1 MB/s\u001b[0m eta \u001b[36m0:00:00\u001b[0m\n",
            "\u001b[2K   \u001b[90m━━━━━━━━━━━━━━━━━━━━━━━━━━━━━━━━━━━━━━━━\u001b[0m \u001b[32m679.7/679.7 kB\u001b[0m \u001b[31m9.0 MB/s\u001b[0m eta \u001b[36m0:00:00\u001b[0m\n",
            "\u001b[2K   \u001b[90m━━━━━━━━━━━━━━━━━━━━━━━━━━━━━━━━━━━━━━━━\u001b[0m \u001b[32m37.3/37.3 MB\u001b[0m \u001b[31m32.8 MB/s\u001b[0m eta \u001b[36m0:00:00\u001b[0m\n",
            "\u001b[2K   \u001b[90m━━━━━━━━━━━━━━━━━━━━━━━━━━━━━━━━━━━━━━━━\u001b[0m \u001b[32m105.4/105.4 kB\u001b[0m \u001b[31m5.6 MB/s\u001b[0m eta \u001b[36m0:00:00\u001b[0m\n",
            "\u001b[2K   \u001b[90m━━━━━━━━━━━━━━━━━━━━━━━━━━━━━━━━━━━━━━━━\u001b[0m \u001b[32m43.3/43.3 kB\u001b[0m \u001b[31m3.2 MB/s\u001b[0m eta \u001b[36m0:00:00\u001b[0m\n",
            "\u001b[?25h"
          ]
        }
      ]
    },
    {
      "cell_type": "code",
      "source": [
        "import warnings\n",
        "warnings.filterwarnings('ignore')"
      ],
      "metadata": {
        "id": "9gofZltCbjq0"
      },
      "execution_count": 2,
      "outputs": []
    },
    {
      "cell_type": "code",
      "source": [
        "!pip install optuna --q"
      ],
      "metadata": {
        "id": "RhR8gisxx2xB",
        "colab": {
          "base_uri": "https://localhost:8080/"
        },
        "outputId": "965a14ed-a09b-4082-b7ec-d6b27f754d4a"
      },
      "execution_count": 3,
      "outputs": [
        {
          "output_type": "stream",
          "name": "stdout",
          "text": [
            "\u001b[?25l   \u001b[90m━━━━━━━━━━━━━━━━━━━━━━━━━━━━━━━━━━━━━━━━\u001b[0m \u001b[32m0.0/400.9 kB\u001b[0m \u001b[31m?\u001b[0m eta \u001b[36m-:--:--\u001b[0m\r\u001b[2K   \u001b[90m━━━━━━━━━━━━━━━━━━━━━━━━━━━━━━━━━━━━━━━━\u001b[0m \u001b[32m400.9/400.9 kB\u001b[0m \u001b[31m24.5 MB/s\u001b[0m eta \u001b[36m0:00:00\u001b[0m\n",
            "\u001b[?25h"
          ]
        }
      ]
    },
    {
      "cell_type": "code",
      "source": [
        "!pip install scikit-learn --q"
      ],
      "metadata": {
        "id": "OeN9YVSA6ghD"
      },
      "execution_count": 4,
      "outputs": []
    },
    {
      "cell_type": "code",
      "execution_count": 5,
      "metadata": {
        "id": "xr1EmHB4zCpD",
        "collapsed": true,
        "colab": {
          "base_uri": "https://localhost:8080/",
          "height": 64
        },
        "outputId": "e98a6895-aec6-4256-e1a3-0bc31f12892a"
      },
      "outputs": [
        {
          "output_type": "display_data",
          "data": {
            "text/plain": [
              "<IPython.core.display.HTML object>"
            ],
            "text/html": [
              "\n",
              "            <div>\n",
              "                <ins><a href=\"https://ydata.ai/register\">Upgrade to ydata-sdk</a></ins>\n",
              "                <p>\n",
              "                    Improve your data and profiling with ydata-sdk, featuring data quality scoring, redundancy detection, outlier identification, text validation, and synthetic data generation.\n",
              "                </p>\n",
              "            </div>\n",
              "            "
            ]
          },
          "metadata": {}
        }
      ],
      "source": [
        "import kagglehub\n",
        "import numpy as np\n",
        "import pandas as pd\n",
        "import matplotlib.pyplot as plt\n",
        "import seaborn as sns\n",
        "from ydata_profiling import ProfileReport\n",
        "from sklearn.model_selection import train_test_split\n",
        "from sklearn.compose import ColumnTransformer\n",
        "from sklearn.impute import KNNImputer\n",
        "from sklearn.preprocessing import OneHotEncoder\n",
        "from sklearn.preprocessing import LabelEncoder\n",
        "from sklearn.preprocessing import StandardScaler\n",
        "from sklearn.pipeline import Pipeline,make_pipeline\n",
        "from sklearn.preprocessing import PowerTransformer\n",
        "import scipy.stats as stats\n",
        "from sklearn.metrics import classification_report\n",
        "from sklearn.linear_model import LogisticRegression\n",
        "from sklearn.model_selection import GridSearchCV\n",
        "from imblearn.over_sampling import SMOTE\n",
        "from sklearn.metrics import ConfusionMatrixDisplay, confusion_matrix\n",
        "from xgboost import XGBClassifier\n",
        "from xgboost.callback import EarlyStopping\n",
        "from sklearn.model_selection import cross_val_score\n",
        "import optuna\n",
        "from sklearn.metrics import f1_score, precision_score, recall_score, roc_auc_score\n",
        "from optuna.visualization import plot_optimization_history, plot_parallel_coordinate, plot_slice, plot_contour, plot_param_importances\n",
        "import pickle\n",
        "from imblearn.pipeline import Pipeline as ImbPipeline"
      ]
    },
    {
      "cell_type": "markdown",
      "source": [
        "# Functions"
      ],
      "metadata": {
        "id": "iFDxKKnS3o6_"
      }
    },
    {
      "cell_type": "code",
      "source": [
        "# A function to print the accuracy metrics\n",
        "\n",
        "def accuracy(y_pred, y_test):\n",
        "  f1 = f1_score(y_test, y_pred)\n",
        "  precision = precision_score(y_test, y_pred)\n",
        "  recall = recall_score(y_test, y_pred)\n",
        "  auc = roc_auc_score(y_test, y_pred)\n",
        "\n",
        "  print(f'Precision: {precision}')\n",
        "  print(f'F1 Score: {f1}')\n",
        "  print(f'Recall: {recall}')\n",
        "  print(f'ROC-AUC: {auc}')"
      ],
      "metadata": {
        "id": "wZ9rcgzVzqX4"
      },
      "execution_count": 6,
      "outputs": []
    },
    {
      "cell_type": "code",
      "source": [
        "# A function to perform the cross val with cv = 3\n",
        "def cross_val_acc(model, X_train, y_train):\n",
        "  f1 = cross_val_score(model, X_train, y_train, cv=3, scoring='f1').mean()\n",
        "  precision = cross_val_score(model, X_train, y_train, cv=3, scoring='precision').mean()\n",
        "  recall = cross_val_score(model, X_train, y_train, cv=3, scoring='recall').mean()\n",
        "  auc = cross_val_score(model, X_train, y_train, cv=3, scoring='roc_auc').mean()\n",
        "\n",
        "  print(f'Precision: {precision}')\n",
        "  print(f'F1 Score: {f1}')\n",
        "  print(f'Recall: {recall}')\n",
        "  print(f'ROC-AUC: {auc}')"
      ],
      "metadata": {
        "id": "c1siLX_e-tmi"
      },
      "execution_count": 7,
      "outputs": []
    },
    {
      "cell_type": "markdown",
      "source": [
        "# Data"
      ],
      "metadata": {
        "id": "KJWLkMcLZUSs"
      }
    },
    {
      "cell_type": "code",
      "source": [
        "# Download latest version\n",
        "path = kagglehub.dataset_download(\"blastchar/telco-customer-churn\")\n",
        "\n",
        "print(\"Path to dataset files:\", path)"
      ],
      "metadata": {
        "id": "1TnFe3bhzXMQ",
        "colab": {
          "base_uri": "https://localhost:8080/"
        },
        "outputId": "47cff8f0-5ff1-4726-f191-725f25f2b313"
      },
      "execution_count": 8,
      "outputs": [
        {
          "output_type": "stream",
          "name": "stdout",
          "text": [
            "Using Colab cache for faster access to the 'telco-customer-churn' dataset.\n",
            "Path to dataset files: /kaggle/input/telco-customer-churn\n"
          ]
        }
      ]
    },
    {
      "cell_type": "code",
      "source": [
        "# Reading the dataset\n",
        "\n",
        "df = pd.read_csv(\"/kaggle/input/telco-customer-churn/WA_Fn-UseC_-Telco-Customer-Churn.csv\", na_values= [\" \"])\n",
        "\n",
        "# Got to know from a discussion in Kaggle that there are blank spaces in the dataset"
      ],
      "metadata": {
        "id": "88VDAC8TZYvs"
      },
      "execution_count": 9,
      "outputs": []
    },
    {
      "cell_type": "code",
      "source": [
        "df.shape  # size of the dataset\n",
        "\n",
        "# There are 7043 rows\n",
        "# and 21 columns (features + output)"
      ],
      "metadata": {
        "colab": {
          "base_uri": "https://localhost:8080/"
        },
        "id": "GGlFSpM4b_0e",
        "outputId": "1d7be674-b5ea-4c27-facb-5851b56304dc"
      },
      "execution_count": 10,
      "outputs": [
        {
          "output_type": "execute_result",
          "data": {
            "text/plain": [
              "(7043, 21)"
            ]
          },
          "metadata": {},
          "execution_count": 10
        }
      ]
    },
    {
      "cell_type": "code",
      "source": [
        "df.sample(3)  # viewing the dataset"
      ],
      "metadata": {
        "colab": {
          "base_uri": "https://localhost:8080/",
          "height": 245
        },
        "id": "B5Y1o_hBZrIE",
        "outputId": "d6babf67-44cb-45b5-e6bb-6d6f3a822dac"
      },
      "execution_count": 11,
      "outputs": [
        {
          "output_type": "execute_result",
          "data": {
            "text/plain": [
              "      customerID  gender  SeniorCitizen Partner Dependents  tenure  \\\n",
              "2363  4373-VVHQL    Male              0      No         No       1   \n",
              "3186  3457-PQBYH  Female              0     Yes        Yes      58   \n",
              "488   4472-LVYGI  Female              0     Yes        Yes       0   \n",
              "\n",
              "     PhoneService     MultipleLines InternetService       OnlineSecurity  ...  \\\n",
              "2363          Yes                No             DSL                   No  ...   \n",
              "3186          Yes                No              No  No internet service  ...   \n",
              "488            No  No phone service             DSL                  Yes  ...   \n",
              "\n",
              "         DeviceProtection          TechSupport          StreamingTV  \\\n",
              "2363                   No                   No                   No   \n",
              "3186  No internet service  No internet service  No internet service   \n",
              "488                   Yes                  Yes                  Yes   \n",
              "\n",
              "          StreamingMovies        Contract PaperlessBilling  \\\n",
              "2363                   No  Month-to-month              Yes   \n",
              "3186  No internet service        Two year               No   \n",
              "488                    No        Two year              Yes   \n",
              "\n",
              "                  PaymentMethod MonthlyCharges  TotalCharges  Churn  \n",
              "2363           Electronic check          44.75         44.75     No  \n",
              "3186    Credit card (automatic)          20.30       1160.75     No  \n",
              "488   Bank transfer (automatic)          52.55           NaN     No  \n",
              "\n",
              "[3 rows x 21 columns]"
            ],
            "text/html": [
              "\n",
              "  <div id=\"df-ebb4b327-88aa-47af-8b91-a2be34987774\" class=\"colab-df-container\">\n",
              "    <div>\n",
              "<style scoped>\n",
              "    .dataframe tbody tr th:only-of-type {\n",
              "        vertical-align: middle;\n",
              "    }\n",
              "\n",
              "    .dataframe tbody tr th {\n",
              "        vertical-align: top;\n",
              "    }\n",
              "\n",
              "    .dataframe thead th {\n",
              "        text-align: right;\n",
              "    }\n",
              "</style>\n",
              "<table border=\"1\" class=\"dataframe\">\n",
              "  <thead>\n",
              "    <tr style=\"text-align: right;\">\n",
              "      <th></th>\n",
              "      <th>customerID</th>\n",
              "      <th>gender</th>\n",
              "      <th>SeniorCitizen</th>\n",
              "      <th>Partner</th>\n",
              "      <th>Dependents</th>\n",
              "      <th>tenure</th>\n",
              "      <th>PhoneService</th>\n",
              "      <th>MultipleLines</th>\n",
              "      <th>InternetService</th>\n",
              "      <th>OnlineSecurity</th>\n",
              "      <th>...</th>\n",
              "      <th>DeviceProtection</th>\n",
              "      <th>TechSupport</th>\n",
              "      <th>StreamingTV</th>\n",
              "      <th>StreamingMovies</th>\n",
              "      <th>Contract</th>\n",
              "      <th>PaperlessBilling</th>\n",
              "      <th>PaymentMethod</th>\n",
              "      <th>MonthlyCharges</th>\n",
              "      <th>TotalCharges</th>\n",
              "      <th>Churn</th>\n",
              "    </tr>\n",
              "  </thead>\n",
              "  <tbody>\n",
              "    <tr>\n",
              "      <th>2363</th>\n",
              "      <td>4373-VVHQL</td>\n",
              "      <td>Male</td>\n",
              "      <td>0</td>\n",
              "      <td>No</td>\n",
              "      <td>No</td>\n",
              "      <td>1</td>\n",
              "      <td>Yes</td>\n",
              "      <td>No</td>\n",
              "      <td>DSL</td>\n",
              "      <td>No</td>\n",
              "      <td>...</td>\n",
              "      <td>No</td>\n",
              "      <td>No</td>\n",
              "      <td>No</td>\n",
              "      <td>No</td>\n",
              "      <td>Month-to-month</td>\n",
              "      <td>Yes</td>\n",
              "      <td>Electronic check</td>\n",
              "      <td>44.75</td>\n",
              "      <td>44.75</td>\n",
              "      <td>No</td>\n",
              "    </tr>\n",
              "    <tr>\n",
              "      <th>3186</th>\n",
              "      <td>3457-PQBYH</td>\n",
              "      <td>Female</td>\n",
              "      <td>0</td>\n",
              "      <td>Yes</td>\n",
              "      <td>Yes</td>\n",
              "      <td>58</td>\n",
              "      <td>Yes</td>\n",
              "      <td>No</td>\n",
              "      <td>No</td>\n",
              "      <td>No internet service</td>\n",
              "      <td>...</td>\n",
              "      <td>No internet service</td>\n",
              "      <td>No internet service</td>\n",
              "      <td>No internet service</td>\n",
              "      <td>No internet service</td>\n",
              "      <td>Two year</td>\n",
              "      <td>No</td>\n",
              "      <td>Credit card (automatic)</td>\n",
              "      <td>20.30</td>\n",
              "      <td>1160.75</td>\n",
              "      <td>No</td>\n",
              "    </tr>\n",
              "    <tr>\n",
              "      <th>488</th>\n",
              "      <td>4472-LVYGI</td>\n",
              "      <td>Female</td>\n",
              "      <td>0</td>\n",
              "      <td>Yes</td>\n",
              "      <td>Yes</td>\n",
              "      <td>0</td>\n",
              "      <td>No</td>\n",
              "      <td>No phone service</td>\n",
              "      <td>DSL</td>\n",
              "      <td>Yes</td>\n",
              "      <td>...</td>\n",
              "      <td>Yes</td>\n",
              "      <td>Yes</td>\n",
              "      <td>Yes</td>\n",
              "      <td>No</td>\n",
              "      <td>Two year</td>\n",
              "      <td>Yes</td>\n",
              "      <td>Bank transfer (automatic)</td>\n",
              "      <td>52.55</td>\n",
              "      <td>NaN</td>\n",
              "      <td>No</td>\n",
              "    </tr>\n",
              "  </tbody>\n",
              "</table>\n",
              "<p>3 rows × 21 columns</p>\n",
              "</div>\n",
              "    <div class=\"colab-df-buttons\">\n",
              "\n",
              "  <div class=\"colab-df-container\">\n",
              "    <button class=\"colab-df-convert\" onclick=\"convertToInteractive('df-ebb4b327-88aa-47af-8b91-a2be34987774')\"\n",
              "            title=\"Convert this dataframe to an interactive table.\"\n",
              "            style=\"display:none;\">\n",
              "\n",
              "  <svg xmlns=\"http://www.w3.org/2000/svg\" height=\"24px\" viewBox=\"0 -960 960 960\">\n",
              "    <path d=\"M120-120v-720h720v720H120Zm60-500h600v-160H180v160Zm220 220h160v-160H400v160Zm0 220h160v-160H400v160ZM180-400h160v-160H180v160Zm440 0h160v-160H620v160ZM180-180h160v-160H180v160Zm440 0h160v-160H620v160Z\"/>\n",
              "  </svg>\n",
              "    </button>\n",
              "\n",
              "  <style>\n",
              "    .colab-df-container {\n",
              "      display:flex;\n",
              "      gap: 12px;\n",
              "    }\n",
              "\n",
              "    .colab-df-convert {\n",
              "      background-color: #E8F0FE;\n",
              "      border: none;\n",
              "      border-radius: 50%;\n",
              "      cursor: pointer;\n",
              "      display: none;\n",
              "      fill: #1967D2;\n",
              "      height: 32px;\n",
              "      padding: 0 0 0 0;\n",
              "      width: 32px;\n",
              "    }\n",
              "\n",
              "    .colab-df-convert:hover {\n",
              "      background-color: #E2EBFA;\n",
              "      box-shadow: 0px 1px 2px rgba(60, 64, 67, 0.3), 0px 1px 3px 1px rgba(60, 64, 67, 0.15);\n",
              "      fill: #174EA6;\n",
              "    }\n",
              "\n",
              "    .colab-df-buttons div {\n",
              "      margin-bottom: 4px;\n",
              "    }\n",
              "\n",
              "    [theme=dark] .colab-df-convert {\n",
              "      background-color: #3B4455;\n",
              "      fill: #D2E3FC;\n",
              "    }\n",
              "\n",
              "    [theme=dark] .colab-df-convert:hover {\n",
              "      background-color: #434B5C;\n",
              "      box-shadow: 0px 1px 3px 1px rgba(0, 0, 0, 0.15);\n",
              "      filter: drop-shadow(0px 1px 2px rgba(0, 0, 0, 0.3));\n",
              "      fill: #FFFFFF;\n",
              "    }\n",
              "  </style>\n",
              "\n",
              "    <script>\n",
              "      const buttonEl =\n",
              "        document.querySelector('#df-ebb4b327-88aa-47af-8b91-a2be34987774 button.colab-df-convert');\n",
              "      buttonEl.style.display =\n",
              "        google.colab.kernel.accessAllowed ? 'block' : 'none';\n",
              "\n",
              "      async function convertToInteractive(key) {\n",
              "        const element = document.querySelector('#df-ebb4b327-88aa-47af-8b91-a2be34987774');\n",
              "        const dataTable =\n",
              "          await google.colab.kernel.invokeFunction('convertToInteractive',\n",
              "                                                    [key], {});\n",
              "        if (!dataTable) return;\n",
              "\n",
              "        const docLinkHtml = 'Like what you see? Visit the ' +\n",
              "          '<a target=\"_blank\" href=https://colab.research.google.com/notebooks/data_table.ipynb>data table notebook</a>'\n",
              "          + ' to learn more about interactive tables.';\n",
              "        element.innerHTML = '';\n",
              "        dataTable['output_type'] = 'display_data';\n",
              "        await google.colab.output.renderOutput(dataTable, element);\n",
              "        const docLink = document.createElement('div');\n",
              "        docLink.innerHTML = docLinkHtml;\n",
              "        element.appendChild(docLink);\n",
              "      }\n",
              "    </script>\n",
              "  </div>\n",
              "\n",
              "\n",
              "    <div id=\"df-87c080b8-3a94-4d68-9024-16c4f3099b5d\">\n",
              "      <button class=\"colab-df-quickchart\" onclick=\"quickchart('df-87c080b8-3a94-4d68-9024-16c4f3099b5d')\"\n",
              "                title=\"Suggest charts\"\n",
              "                style=\"display:none;\">\n",
              "\n",
              "<svg xmlns=\"http://www.w3.org/2000/svg\" height=\"24px\"viewBox=\"0 0 24 24\"\n",
              "     width=\"24px\">\n",
              "    <g>\n",
              "        <path d=\"M19 3H5c-1.1 0-2 .9-2 2v14c0 1.1.9 2 2 2h14c1.1 0 2-.9 2-2V5c0-1.1-.9-2-2-2zM9 17H7v-7h2v7zm4 0h-2V7h2v10zm4 0h-2v-4h2v4z\"/>\n",
              "    </g>\n",
              "</svg>\n",
              "      </button>\n",
              "\n",
              "<style>\n",
              "  .colab-df-quickchart {\n",
              "      --bg-color: #E8F0FE;\n",
              "      --fill-color: #1967D2;\n",
              "      --hover-bg-color: #E2EBFA;\n",
              "      --hover-fill-color: #174EA6;\n",
              "      --disabled-fill-color: #AAA;\n",
              "      --disabled-bg-color: #DDD;\n",
              "  }\n",
              "\n",
              "  [theme=dark] .colab-df-quickchart {\n",
              "      --bg-color: #3B4455;\n",
              "      --fill-color: #D2E3FC;\n",
              "      --hover-bg-color: #434B5C;\n",
              "      --hover-fill-color: #FFFFFF;\n",
              "      --disabled-bg-color: #3B4455;\n",
              "      --disabled-fill-color: #666;\n",
              "  }\n",
              "\n",
              "  .colab-df-quickchart {\n",
              "    background-color: var(--bg-color);\n",
              "    border: none;\n",
              "    border-radius: 50%;\n",
              "    cursor: pointer;\n",
              "    display: none;\n",
              "    fill: var(--fill-color);\n",
              "    height: 32px;\n",
              "    padding: 0;\n",
              "    width: 32px;\n",
              "  }\n",
              "\n",
              "  .colab-df-quickchart:hover {\n",
              "    background-color: var(--hover-bg-color);\n",
              "    box-shadow: 0 1px 2px rgba(60, 64, 67, 0.3), 0 1px 3px 1px rgba(60, 64, 67, 0.15);\n",
              "    fill: var(--button-hover-fill-color);\n",
              "  }\n",
              "\n",
              "  .colab-df-quickchart-complete:disabled,\n",
              "  .colab-df-quickchart-complete:disabled:hover {\n",
              "    background-color: var(--disabled-bg-color);\n",
              "    fill: var(--disabled-fill-color);\n",
              "    box-shadow: none;\n",
              "  }\n",
              "\n",
              "  .colab-df-spinner {\n",
              "    border: 2px solid var(--fill-color);\n",
              "    border-color: transparent;\n",
              "    border-bottom-color: var(--fill-color);\n",
              "    animation:\n",
              "      spin 1s steps(1) infinite;\n",
              "  }\n",
              "\n",
              "  @keyframes spin {\n",
              "    0% {\n",
              "      border-color: transparent;\n",
              "      border-bottom-color: var(--fill-color);\n",
              "      border-left-color: var(--fill-color);\n",
              "    }\n",
              "    20% {\n",
              "      border-color: transparent;\n",
              "      border-left-color: var(--fill-color);\n",
              "      border-top-color: var(--fill-color);\n",
              "    }\n",
              "    30% {\n",
              "      border-color: transparent;\n",
              "      border-left-color: var(--fill-color);\n",
              "      border-top-color: var(--fill-color);\n",
              "      border-right-color: var(--fill-color);\n",
              "    }\n",
              "    40% {\n",
              "      border-color: transparent;\n",
              "      border-right-color: var(--fill-color);\n",
              "      border-top-color: var(--fill-color);\n",
              "    }\n",
              "    60% {\n",
              "      border-color: transparent;\n",
              "      border-right-color: var(--fill-color);\n",
              "    }\n",
              "    80% {\n",
              "      border-color: transparent;\n",
              "      border-right-color: var(--fill-color);\n",
              "      border-bottom-color: var(--fill-color);\n",
              "    }\n",
              "    90% {\n",
              "      border-color: transparent;\n",
              "      border-bottom-color: var(--fill-color);\n",
              "    }\n",
              "  }\n",
              "</style>\n",
              "\n",
              "      <script>\n",
              "        async function quickchart(key) {\n",
              "          const quickchartButtonEl =\n",
              "            document.querySelector('#' + key + ' button');\n",
              "          quickchartButtonEl.disabled = true;  // To prevent multiple clicks.\n",
              "          quickchartButtonEl.classList.add('colab-df-spinner');\n",
              "          try {\n",
              "            const charts = await google.colab.kernel.invokeFunction(\n",
              "                'suggestCharts', [key], {});\n",
              "          } catch (error) {\n",
              "            console.error('Error during call to suggestCharts:', error);\n",
              "          }\n",
              "          quickchartButtonEl.classList.remove('colab-df-spinner');\n",
              "          quickchartButtonEl.classList.add('colab-df-quickchart-complete');\n",
              "        }\n",
              "        (() => {\n",
              "          let quickchartButtonEl =\n",
              "            document.querySelector('#df-87c080b8-3a94-4d68-9024-16c4f3099b5d button');\n",
              "          quickchartButtonEl.style.display =\n",
              "            google.colab.kernel.accessAllowed ? 'block' : 'none';\n",
              "        })();\n",
              "      </script>\n",
              "    </div>\n",
              "\n",
              "    </div>\n",
              "  </div>\n"
            ],
            "application/vnd.google.colaboratory.intrinsic+json": {
              "type": "dataframe"
            }
          },
          "metadata": {},
          "execution_count": 11
        }
      ]
    },
    {
      "cell_type": "code",
      "source": [
        "df.info() # knowing the datatypes of each column"
      ],
      "metadata": {
        "colab": {
          "base_uri": "https://localhost:8080/"
        },
        "id": "Vqfbw-clb4Pg",
        "outputId": "a1964410-824d-4eb2-b7db-148d51821476"
      },
      "execution_count": 12,
      "outputs": [
        {
          "output_type": "stream",
          "name": "stdout",
          "text": [
            "<class 'pandas.core.frame.DataFrame'>\n",
            "RangeIndex: 7043 entries, 0 to 7042\n",
            "Data columns (total 21 columns):\n",
            " #   Column            Non-Null Count  Dtype  \n",
            "---  ------            --------------  -----  \n",
            " 0   customerID        7043 non-null   object \n",
            " 1   gender            7043 non-null   object \n",
            " 2   SeniorCitizen     7043 non-null   int64  \n",
            " 3   Partner           7043 non-null   object \n",
            " 4   Dependents        7043 non-null   object \n",
            " 5   tenure            7043 non-null   int64  \n",
            " 6   PhoneService      7043 non-null   object \n",
            " 7   MultipleLines     7043 non-null   object \n",
            " 8   InternetService   7043 non-null   object \n",
            " 9   OnlineSecurity    7043 non-null   object \n",
            " 10  OnlineBackup      7043 non-null   object \n",
            " 11  DeviceProtection  7043 non-null   object \n",
            " 12  TechSupport       7043 non-null   object \n",
            " 13  StreamingTV       7043 non-null   object \n",
            " 14  StreamingMovies   7043 non-null   object \n",
            " 15  Contract          7043 non-null   object \n",
            " 16  PaperlessBilling  7043 non-null   object \n",
            " 17  PaymentMethod     7043 non-null   object \n",
            " 18  MonthlyCharges    7043 non-null   float64\n",
            " 19  TotalCharges      7032 non-null   float64\n",
            " 20  Churn             7043 non-null   object \n",
            "dtypes: float64(2), int64(2), object(17)\n",
            "memory usage: 1.1+ MB\n"
          ]
        }
      ]
    },
    {
      "cell_type": "code",
      "source": [
        "# Removing the customer id column\n",
        "# It semmed un-important\n",
        "df.drop(columns = 'customerID', inplace = True)"
      ],
      "metadata": {
        "id": "RIBKNUn1S7rM"
      },
      "execution_count": 13,
      "outputs": []
    },
    {
      "cell_type": "code",
      "source": [
        "# Making it Categorical so that we can use OHE\n",
        "df['SeniorCitizen'] = df['SeniorCitizen'].replace({1: 'Yes', 0: 'No'})"
      ],
      "metadata": {
        "id": "B6TBgzjHhYiD"
      },
      "execution_count": 14,
      "outputs": []
    },
    {
      "cell_type": "code",
      "source": [
        "df.info()"
      ],
      "metadata": {
        "id": "W6wb987cZbWb",
        "outputId": "cff7f0b8-5ff5-40f3-e1db-93da8688ca52",
        "colab": {
          "base_uri": "https://localhost:8080/"
        }
      },
      "execution_count": 15,
      "outputs": [
        {
          "output_type": "stream",
          "name": "stdout",
          "text": [
            "<class 'pandas.core.frame.DataFrame'>\n",
            "RangeIndex: 7043 entries, 0 to 7042\n",
            "Data columns (total 20 columns):\n",
            " #   Column            Non-Null Count  Dtype  \n",
            "---  ------            --------------  -----  \n",
            " 0   gender            7043 non-null   object \n",
            " 1   SeniorCitizen     7043 non-null   object \n",
            " 2   Partner           7043 non-null   object \n",
            " 3   Dependents        7043 non-null   object \n",
            " 4   tenure            7043 non-null   int64  \n",
            " 5   PhoneService      7043 non-null   object \n",
            " 6   MultipleLines     7043 non-null   object \n",
            " 7   InternetService   7043 non-null   object \n",
            " 8   OnlineSecurity    7043 non-null   object \n",
            " 9   OnlineBackup      7043 non-null   object \n",
            " 10  DeviceProtection  7043 non-null   object \n",
            " 11  TechSupport       7043 non-null   object \n",
            " 12  StreamingTV       7043 non-null   object \n",
            " 13  StreamingMovies   7043 non-null   object \n",
            " 14  Contract          7043 non-null   object \n",
            " 15  PaperlessBilling  7043 non-null   object \n",
            " 16  PaymentMethod     7043 non-null   object \n",
            " 17  MonthlyCharges    7043 non-null   float64\n",
            " 18  TotalCharges      7032 non-null   float64\n",
            " 19  Churn             7043 non-null   object \n",
            "dtypes: float64(2), int64(1), object(17)\n",
            "memory usage: 1.1+ MB\n"
          ]
        }
      ]
    },
    {
      "cell_type": "code",
      "source": [
        "# Marking the categorical and the numerical features\n",
        "\n",
        "CATEGORICAL_COL = ['gender', 'SeniorCitizen', 'Partner', 'Dependents',\n",
        "                   'PhoneService', 'MultipleLines', 'InternetService',\n",
        "       'OnlineSecurity', 'OnlineBackup', 'DeviceProtection', 'TechSupport',\n",
        "       'StreamingTV', 'StreamingMovies', 'Contract', 'PaperlessBilling',\n",
        "       'PaymentMethod']\n",
        "\n",
        "NUMERICAL_COL = ['tenure', 'MonthlyCharges', 'TotalCharges']"
      ],
      "metadata": {
        "id": "Z660L3fsj1VT"
      },
      "execution_count": 16,
      "outputs": []
    },
    {
      "cell_type": "markdown",
      "source": [
        "# EDA"
      ],
      "metadata": {
        "id": "2xcsMhe595wk"
      }
    },
    {
      "cell_type": "code",
      "source": [
        "# Using Pandas Profiler to get a overview about the data\n",
        "profile = ProfileReport(df, title=\"Profiling Report\")\n",
        "profile.to_file(output_file='output.html')\n",
        "print(\"Succesfully Executed!\")"
      ],
      "metadata": {
        "id": "4yyOziZt97LK",
        "colab": {
          "base_uri": "https://localhost:8080/",
          "height": 274,
          "referenced_widgets": [
            "60d5109f61f24b01a0786b713fade7bb",
            "e10d0a366d8a4b0599f847572550d509",
            "b6c5c29f2c1a4e59aef92b3f4e3411a0",
            "a6959ce686f64e01b172d7d426cde201",
            "6b61aa4d6f9a488291393cba2f826c2f",
            "00fe8a7f52154a71aab61f1c4057b2e8",
            "916bb7153b16435386e30d4db96caa1e",
            "4d24d4010cd04065b903e3c9f2707267",
            "b469a6508fa64443a195aee637ad1702",
            "482f1c9fdee644d79c41fabd5c5e8c31",
            "73a3e310dc1445d4a412b2ed68875af8",
            "592125dd4b774a929f604220b827b440",
            "2d2f1d5c35d44ec88d91d28daf595075",
            "255426bed1f64b41a7ae9d0af5251615",
            "cc343672e00743429067796a9429c9a6",
            "6854a629a7b9447caff08d1886714d39",
            "0c644fa264ea4bdc9662e703cf16f5b2",
            "bc00f3a0bab24e31adc639a9acaa6b79",
            "4fb433e2ba83458ba78ed26bf86662a6",
            "404bb1f36e7a40a89924fbaefa97619e",
            "dc633d44005f4bc1a209b843d7ba6354",
            "5f8541d6ab2f4a6b9a3dd5adc2acd700",
            "b9647e01079847a790783f8417b8dd26",
            "928072340ad54801bb8493e8f6efe9eb",
            "161b3c927e424597abf5237384a388aa",
            "5bbd7b77cbbd44a48e3677b6f2609565",
            "cf0c7461ab8a4226957cee15ce78bf10",
            "1c290e79657f4c0c93bae5babab2f57c",
            "ff5e744240d24caaa1a8102f746d24f2",
            "e17c3a0148f941e6a5844268592d713f",
            "0507eb4d75094483825e0a4bf5840e4c",
            "4311d601e5714814843ea757a52b529a",
            "fea91678eae54604b48b973f86ade289",
            "543cdad7d88545fb9219d7be676b9431",
            "d634551d9892475c9876bb19952ccf88",
            "bb4d1ce32e72462db0552917b77bec55",
            "1017285d38194203a34bc565943ecea9",
            "44fe338305e04e9396020eac2f239e85",
            "61e4902b4fe04b5f9e5df85a83711d83",
            "71eeb86948974386b75d28d9b926fdb0",
            "402ae2fb55f743438f326fba260f1cad",
            "9ca09248f000401799c10d2b2de6b5ed",
            "822425cf87c4413b92a12e6390169a1f",
            "5693ce2adcf14ab5931ecf47c23bd6fc"
          ]
        },
        "outputId": "4eb1017f-8a1c-439d-9b30-1c18e4c95359"
      },
      "execution_count": null,
      "outputs": [
        {
          "output_type": "display_data",
          "data": {
            "text/plain": [
              "Summarize dataset:   0%|          | 0/5 [00:00<?, ?it/s]"
            ],
            "application/vnd.jupyter.widget-view+json": {
              "version_major": 2,
              "version_minor": 0,
              "model_id": "60d5109f61f24b01a0786b713fade7bb"
            }
          },
          "metadata": {}
        },
        {
          "output_type": "stream",
          "name": "stderr",
          "text": [
            "\n",
            "  0%|          | 0/20 [00:00<?, ?it/s]\u001b[A\n",
            " 25%|██▌       | 5/20 [00:00<00:00, 44.51it/s]\u001b[A\n",
            " 50%|█████     | 10/20 [00:00<00:00, 43.21it/s]\u001b[A\n",
            " 75%|███████▌  | 15/20 [00:00<00:00, 44.84it/s]\u001b[A\n",
            "100%|██████████| 20/20 [00:00<00:00, 30.03it/s]\n"
          ]
        },
        {
          "output_type": "display_data",
          "data": {
            "text/plain": [
              "Generate report structure:   0%|          | 0/1 [00:00<?, ?it/s]"
            ],
            "application/vnd.jupyter.widget-view+json": {
              "version_major": 2,
              "version_minor": 0,
              "model_id": "592125dd4b774a929f604220b827b440"
            }
          },
          "metadata": {}
        },
        {
          "output_type": "display_data",
          "data": {
            "text/plain": [
              "Render HTML:   0%|          | 0/1 [00:00<?, ?it/s]"
            ],
            "application/vnd.jupyter.widget-view+json": {
              "version_major": 2,
              "version_minor": 0,
              "model_id": "b9647e01079847a790783f8417b8dd26"
            }
          },
          "metadata": {}
        },
        {
          "output_type": "display_data",
          "data": {
            "text/plain": [
              "Export report to file:   0%|          | 0/1 [00:00<?, ?it/s]"
            ],
            "application/vnd.jupyter.widget-view+json": {
              "version_major": 2,
              "version_minor": 0,
              "model_id": "543cdad7d88545fb9219d7be676b9431"
            }
          },
          "metadata": {}
        },
        {
          "output_type": "stream",
          "name": "stdout",
          "text": [
            "Succesfully Executed!\n"
          ]
        }
      ]
    },
    {
      "cell_type": "markdown",
      "source": [
        "Now, doing EDA as per requirment"
      ],
      "metadata": {
        "id": "uJNQXs8C5jnI"
      }
    },
    {
      "cell_type": "code",
      "source": [
        "# Boxplot wrt to Churn and Streaming Moviea\n",
        "\n",
        "fig, ax = plt.subplots(2, 2, figsize=(20, 14))\n",
        "\n",
        "sns.boxplot(data=df, x='Churn', y='tenure', hue = 'StreamingMovies', palette='Set2', ax=ax[0, 0])\n",
        "ax[0, 0].set_title('Tenure')\n",
        "\n",
        "sns.boxplot(data=df, x='Churn', y='MonthlyCharges', hue = 'StreamingMovies', palette='Set2', ax=ax[0, 1])\n",
        "ax[0, 1].set_title('Monthly Charges')\n",
        "\n",
        "sns.boxplot(data=df, x='Churn', y='TotalCharges', hue = 'StreamingMovies', palette='Set2', ax=ax[1, 0])\n",
        "ax[1, 0].set_title('Total Charges')\n",
        "\n",
        "plt.show()"
      ],
      "metadata": {
        "id": "Bw_fU-kX5ieR",
        "colab": {
          "base_uri": "https://localhost:8080/",
          "height": 772
        },
        "outputId": "9c0251a3-5f57-4a59-df6d-f097674b85f5"
      },
      "execution_count": null,
      "outputs": [
        {
          "output_type": "display_data",
          "data": {
            "text/plain": [
              "<Figure size 2000x1400 with 4 Axes>"
            ],
            "image/png": "[encoded data removed]"
          },
          "metadata": {}
        }
      ]
    },
    {
      "cell_type": "markdown",
      "source": [
        "## 1. Tenure vs. Churn by StreamingMovies\n",
        "\n",
        "### Interpretation\n",
        "\n",
        "**For non-churned customers (No Churn):**\n",
        "- Customers with streaming movies (“Yes”) have the highest median tenure, around **55–60 months**.  \n",
        "- Customers without streaming (“No”) show a moderate median tenure, roughly **35–40 months**.  \n",
        "- Customers with “No internet service” have slightly lower tenure than streaming users but still above churners.  \n",
        "\n",
        "**For churned customers (Yes Churn):**\n",
        "- All three groups (No, Yes, No Internet Service) show much lower tenures, with medians around **10–15 months**.  \n",
        "- A few outliers extend tenure up to **40 months**, indicating a small fraction of loyal long-term customers who still churned.  \n",
        "\n",
        "### Insight\n",
        "- Customers with **longer tenures** are less likely to churn, particularly those who also subscribe to streaming services.  \n",
        "- **StreamingMovie access** seems associated with higher retention and engagement.  \n",
        "- **New customers (low tenure)** show high churn risk, especially among those with no internet or streaming service.  \n",
        "\n",
        "---\n",
        "\n",
        "##  2. Monthly Charges vs. Churn by StreamingMovies\n",
        "\n",
        "### Interpretation\n",
        "\n",
        "**For non-churners:**\n",
        "- Median monthly charges are lower for those without streaming.  \n",
        "- Streaming customers pay higher charges , likely due to bundled or premium plans.  \n",
        "- Those with no internet service have very low monthly charges.  \n",
        "\n",
        "**For churners:**\n",
        "- Streaming users still pay the most per month.  \n",
        "- Non-streaming churners and “No internet service” churners show similar trends — lower monthly charges.  \n",
        "\n",
        "### Insight\n",
        "- Customers with **higher monthly charges** appear more likely to churn — suggesting **price sensitivity** or **dissatisfaction with perceived value**.  \n",
        "- Even though streaming customers pay more, they **churn less often**, possibly due to greater engagement or satisfaction.  \n",
        "- The **highest-risk group** may be **mid-tier users** (moderate tenure, high charges, fewer add-ons).  \n",
        "\n",
        "---\n",
        "\n",
        "##  3. Total Charges vs. Churn by StreamingMovies\n",
        "\n",
        "### Interpretation\n",
        "\n",
        "**Non-churners:**\n",
        "- Streaming customers show the **highest total charges **, which makes sense given their long tenure and higher monthly costs.  \n",
        "- Non-streaming customers have **moderate total charges **.  \n",
        "- “No internet service” customers have **very low total charges**.  \n",
        "\n",
        "**Churners:**\n",
        "- Across all groups, total charges drop significantly**, reflecting shorter customer lifespans.  \n",
        "- Streaming churners tend to have **slightly higher totals** than other churners, but still well below the non-churn median.  \n",
        "\n",
        "### Insight\n",
        "- **Total charges correlate strongly with retention** — long-term customers accumulate higher bills.  \n",
        "- Customers with **lower total lifetime value** are more prone to churn.  \n",
        "- **Tenure and customer longevity** are dominant churn predictors, not just monthly cost.  \n",
        "\n",
        "---\n",
        "\n",
        "##  4. General Observations Across All Plots\n",
        "\n",
        "### StreamingMovies Users\n",
        "- Higher tenure  \n",
        "- Higher charges  \n",
        "- Lower churn rates  \n",
        " Suggesting that **streaming adds stickiness** and improves customer retention.  \n",
        "\n",
        "### No Internet Service Customers\n",
        "- Low tenure  \n",
        "- Low charges  \n",
        "- Moderate churn — possibly due to limited service engagement.  \n",
        "\n",
        "### High Churn Risk Clusters\n",
        "- Customers with **short tenure (< 15 months)** and **low total charges (< $1500)**.  \n",
        "- Users paying **moderate to high monthly fees** without additional services (like streaming).  \n",
        "\n",
        "---\n",
        "\n",
        "##  5. Strategic Insights for Churn Reduction\n",
        "\n",
        "### Retention Initiatives\n",
        "- Target **new customers (<1 year tenure)** with engagement offers and onboarding programs.  \n",
        "- Offer **loyalty discounts or bundles** to reduce price-driven churn among high-charge users.  \n",
        "- Promote **streaming services or similar add-ons** to enhance engagement and lifetime value.   \n"
      ],
      "metadata": {
        "id": "pWYk3u88fhMb"
      }
    },
    {
      "cell_type": "code",
      "source": [
        "# Boxplot\n",
        "\n",
        "fig, ax = plt.subplots(2, 2, figsize=(20, 14))\n",
        "\n",
        "sns.boxplot(data=df, x='Churn', y='tenure', hue = 'InternetService', palette='Set2', ax=ax[0, 0])\n",
        "ax[0, 0].set_title('Tenure')\n",
        "\n",
        "sns.boxplot(data=df, x='Churn', y='MonthlyCharges', hue = 'InternetService', palette='Set2', ax=ax[0, 1])\n",
        "ax[0, 1].set_title('Monthly Charges')\n",
        "\n",
        "sns.boxplot(data=df, x='Churn', y='TotalCharges', hue = 'InternetService', palette='Set2', ax=ax[1, 0])\n",
        "ax[1, 0].set_title('Total Charges')\n",
        "\n",
        "plt.show()"
      ],
      "metadata": {
        "colab": {
          "base_uri": "https://localhost:8080/",
          "height": 772
        },
        "id": "2scewKy8Y-G0",
        "outputId": "ccf122e2-0577-49a2-b44d-fff1717153d0"
      },
      "execution_count": null,
      "outputs": [
        {
          "output_type": "display_data",
          "data": {
            "text/plain": [
              "<Figure size 2000x1400 with 4 Axes>"
            ],
            "image/png": "[encoded data removed]"
          },
          "metadata": {}
        }
      ]
    },
    {
      "cell_type": "markdown",
      "source": [
        "## 1. Tenure vs. Churn by InternetService\n",
        "\n",
        "### Observations\n",
        "\n",
        "**For non-churned customers (Churn = No):**\n",
        "- **DSL users** have a wide tenure range (1–70 months), indicating many long-term users.  \n",
        "- **Fiber optic users** also cover a large tenure range but have a lower median .  \n",
        "  - Despite being more modern and higher-speed, they seem less retained long-term.  \n",
        "- **Customers with “No Internet Service”** have a shorter tenure overall .  \n",
        "\n",
        "**For churned customers (Churn = Yes):**\n",
        "- Across all service types, tenure is significantly lower, with most churners **below 20 months**.  \n",
        "- **Fiber optic churners** dominate this group, showing that they churn faster than DSL users.  \n",
        "- **DSL churners** maintain slightly longer tenure, suggesting better satisfaction or price tolerance.  \n",
        "\n",
        "### Insights\n",
        "- **Short tenure correlates strongly with churn** — many customers leave early in their subscription period.  \n",
        "- **Fiber optic customers churn more quickly**, possibly due to:  \n",
        "  - Higher costs  \n",
        "  - Service quality expectations not met  \n",
        "  - Increased competition  \n",
        "- **DSL users** show greater retention, suggesting that legacy users are more loyal or less price-sensitive.  \n",
        "- **No Internet customers** are a low-engagement group with medium tenure but low impact on overall churn dynamics.  \n",
        "\n",
        "---\n",
        "\n",
        "##  2. Monthly Charges vs. Churn by InternetService\n",
        "\n",
        "### Observations\n",
        "\n",
        "**Non-churners:**\n",
        "- **Fiber optic customers** pay the most, with median charges around **$95–100/month**.  \n",
        "- **DSL users** have moderate monthly charges.  \n",
        "- **No internet customers** pay minimal charges  — likely only for phone or basic TV bundles.  \n",
        "\n",
        "**Churners:**\n",
        "- **Fiber optic churners** still pay very high monthly rates.  \n",
        "- **DSL churners** are around **$50–60**, slightly lower than their non-churn counterparts.  \n",
        "- **No internet churners** remain at the lowest end .  \n",
        "- Boxplots for **Fiber Optic** show higher spread and outliers, indicating greater charge variability among churners.  \n",
        "\n",
        "### Insights\n",
        "- **High monthly charges strongly associate with higher churn** — especially among fiber optic users.  \n",
        "- Customers paying premium prices may feel **dissatisfaction with cost vs. value**.  \n",
        "- **DSL customers** are more price-stable and retain longer, showing that **affordability improves retention**.  \n",
        "- **No internet service users** have the lowest charges and moderate churn, likely due to fewer active services (less engagement = less stickiness).  \n",
        "- **Price sensitivity** appears as a major churn factor — customers paying above **$90/month** are high risk unless compensated with superior service quality.  \n",
        "\n",
        "---\n",
        "\n",
        "##  3. Total Charges vs. Churn by InternetService\n",
        "\n",
        "### Observations\n",
        "\n",
        "**Non-churners:**\n",
        "- **Fiber optic users** show the highest total charges, with medians between **$4000–$6000**.  \n",
        "- **DSL customers** have moderate totals .  \n",
        "- **No internet customers** are much lower.  \n",
        "- Distribution is wider for **DSL** and **Fiber Optic**, showing variation in long-term customer tenure.  \n",
        "\n",
        "**Churners:**\n",
        "- Total charges are much lower, reflecting shorter lifetimes before churn.  \n",
        "- **Fiber optic churners** show medians around **$1000–1500**, even though they have higher monthly charges — confirming short tenure.  \n",
        "- **DSL churners** have similar totals.  \n",
        "- **No internet churners** remain minimal.  \n",
        "\n",
        "### Insights\n",
        "- **Total charges serve as a proxy for customer lifetime value (CLV)** — low total charges = early churn.  \n",
        "- **High total charges** are correlated with **customer loyalty**, especially among DSL users.  \n",
        "- **Fiber optic users**, despite high potential value, fail to realize full CLV due to early churn — suggesting an opportunity for **targeted retention strategies**.  \n",
        "- The gap between **churners and non-churners in total charges** is stark, reinforcing **tenure as the strongest predictor**.  \n",
        "\n",
        "---\n",
        "\n",
        "##  4. Overall Comparative Insights\n",
        "\n",
        "### Fiber Optic Customers\n",
        "- Highest-paying group (both monthly and total potential revenue).  \n",
        "- Shortest tenure among churners → **premium dissatisfaction problem**.  \n",
        "- Likely a prime churn risk segment needing **service quality** or **value-based retention programs**.  \n",
        "\n",
        "### DSL Customers\n",
        "- More stable, long-term base.  \n",
        "- Moderate revenue per user, but **lower churn rates**.  \n",
        "- Ideal for sustaining **consistent revenue** and **low acquisition cost per retained customer**.  \n",
        "\n",
        "### No Internet Customers\n",
        "- Lowest charges and engagement.  \n",
        "- Minimal contribution to overall churn dynamics.  \n"
      ],
      "metadata": {
        "id": "67bD1mdQmDGR"
      }
    },
    {
      "cell_type": "code",
      "source": [
        "fig, ax = plt.subplots(1, 2, figsize = (10, 6))\n",
        "\n",
        "explode = (0, 0.1)\n",
        "\n",
        "male_churn = df[df['gender'] == 'Male']['Churn'].value_counts()\n",
        "female_churn = df[df['gender'] == 'Female']['Churn'].value_counts()\n",
        "\n",
        "ax[0].pie(male_churn, labels=male_churn.index, autopct='%1.1f%%',\n",
        "          startangle=90, explode=explode, shadow=True)\n",
        "ax[0].set_title('Churn Distribution - Male')\n",
        "\n",
        "ax[1].pie(female_churn, labels=female_churn.index, autopct='%1.1f%%',\n",
        "          startangle=90, explode=explode, shadow=True)\n",
        "ax[1].set_title('Churn Distribution - Female')\n",
        "\n",
        "plt.show()"
      ],
      "metadata": {
        "colab": {
          "base_uri": "https://localhost:8080/",
          "height": 411
        },
        "id": "S3-n7OyYUfAr",
        "outputId": "cf42d44a-fb89-4d44-f1a4-9d36038aa597"
      },
      "execution_count": null,
      "outputs": [
        {
          "output_type": "display_data",
          "data": {
            "text/plain": [
              "<Figure size 1000x600 with 2 Axes>"
            ],
            "image/png": "[encoded data removed]"
          },
          "metadata": {}
        }
      ]
    },
    {
      "cell_type": "markdown",
      "source": [
        "From here we can see that both the genders have similar churn and retention rate."
      ],
      "metadata": {
        "id": "TkLr4oTGfQMK"
      }
    },
    {
      "cell_type": "code",
      "source": [
        "# Boxplot\n",
        "\n",
        "fig, ax = plt.subplots(2, 2, figsize=(20, 14))\n",
        "\n",
        "sns.boxplot(data=df, x='Churn', y='tenure', hue = 'gender', palette='Set2', ax=ax[0, 0])\n",
        "ax[0, 0].set_title('Tenure')\n",
        "\n",
        "sns.boxplot(data=df, x='Churn', y='MonthlyCharges', hue = 'gender', palette='Set2', ax=ax[0, 1])\n",
        "ax[0, 1].set_title('Monthly Charges')\n",
        "\n",
        "sns.boxplot(data=df, x='Churn', y='TotalCharges', hue = 'gender', palette='Set2', ax=ax[1, 0])\n",
        "ax[1, 0].set_title('Total Charges')\n",
        "\n",
        "plt.show()"
      ],
      "metadata": {
        "colab": {
          "base_uri": "https://localhost:8080/",
          "height": 952
        },
        "id": "7_ZXyAGtn6s-",
        "outputId": "31ff39a9-fbe4-4998-fccc-29da73cc8c0c"
      },
      "execution_count": 17,
      "outputs": [
        {
          "output_type": "display_data",
          "data": {
            "text/plain": [
              "<Figure size 2000x1400 with 4 Axes>"
            ],
            "image/png": "[encoded data removed]"
          },
          "metadata": {}
        }
      ]
    },
    {
      "cell_type": "markdown",
      "source": [
        "- Gender does not significantly affect churn rate — both males and females churn at roughly similar rates, as confirmed by the previous pie charts (26–27% churn for both).\n",
        "\n",
        "- We should Focus churn-prevention strategies on early-stage users with high monthly bills, rather than gender segmentation."
      ],
      "metadata": {
        "id": "qATI55QSpWpJ"
      }
    },
    {
      "cell_type": "code",
      "source": [
        "fig, ax = plt.subplots(1, 3, figsize=(15, 5))\n",
        "\n",
        "sns.histplot(df['tenure'], ax=ax[0], kde=True, color='skyblue')\n",
        "ax[0].set_title('Tenure Distribution')\n",
        "\n",
        "sns.histplot(df['MonthlyCharges'], ax=ax[1], kde=True, color='lightgreen')\n",
        "ax[1].set_title('Monthly Charges Distribution')\n",
        "\n",
        "sns.histplot(df['TotalCharges'].dropna(), ax=ax[2], kde=True, color='lightcoral')\n",
        "ax[2].set_title('Total Charges Distribution')\n",
        "\n",
        "plt.tight_layout()\n",
        "plt.show()"
      ],
      "metadata": {
        "colab": {
          "base_uri": "https://localhost:8080/",
          "height": 369
        },
        "id": "uTA6FuUFZpXf",
        "outputId": "7f40872b-965d-485a-b7fb-4c53f6c20c70"
      },
      "execution_count": null,
      "outputs": [
        {
          "output_type": "display_data",
          "data": {
            "text/plain": [
              "<Figure size 1500x500 with 3 Axes>"
            ],
            "image/png": "[encoded data removed]"
          },
          "metadata": {}
        }
      ]
    },
    {
      "cell_type": "markdown",
      "source": [
        "# Train Test Split"
      ],
      "metadata": {
        "id": "u42ehrYQMF8O"
      }
    },
    {
      "cell_type": "code",
      "source": [
        "X_train,X_test,y_train,y_test = train_test_split(df.drop(columns=['Churn']),\n",
        "                                                 df['Churn'],\n",
        "                                                 test_size=0.2,\n",
        "                                                 stratify = df['Churn'],\n",
        "                                                 random_state=42)"
      ],
      "metadata": {
        "id": "eR4N26LVMIxR"
      },
      "execution_count": null,
      "outputs": []
    },
    {
      "cell_type": "markdown",
      "source": [
        "# Feature Engineering"
      ],
      "metadata": {
        "id": "kAGAuTgRKlao"
      }
    },
    {
      "cell_type": "markdown",
      "source": [
        "## Encoding"
      ],
      "metadata": {
        "id": "esCGWQvZKo9Q"
      }
    },
    {
      "cell_type": "code",
      "source": [
        "ohe = OneHotEncoder(drop = 'first', sparse_output=False, dtype=np.int32)\n",
        "X_train_new = ohe.fit_transform(X_train[CATEGORICAL_COL])\n",
        "X_test_new = ohe.transform(X_test[CATEGORICAL_COL])"
      ],
      "metadata": {
        "id": "oTU97CHIRxDM"
      },
      "execution_count": null,
      "outputs": []
    },
    {
      "cell_type": "code",
      "source": [
        "X_train = np.hstack((X_train[NUMERICAL_COL].values,X_train_new))\n",
        "X_test = np.hstack((X_test[NUMERICAL_COL].values,X_test_new))"
      ],
      "metadata": {
        "id": "qcC5cGM8STln"
      },
      "execution_count": null,
      "outputs": []
    },
    {
      "cell_type": "code",
      "source": [
        "# Label Encoding for output column\n",
        "le = LabelEncoder()\n",
        "le.fit(y_train)"
      ],
      "metadata": {
        "colab": {
          "base_uri": "https://localhost:8080/",
          "height": 80
        },
        "id": "lSr33JqHQsuM",
        "outputId": "43a17958-9ffe-4aac-b179-c3a62b9096ed"
      },
      "execution_count": null,
      "outputs": [
        {
          "output_type": "execute_result",
          "data": {
            "text/plain": [
              "LabelEncoder()"
            ],
            "text/html": [
              "<style>#sk-container-id-2 {\n",
              "  /* Definition of color scheme common for light and dark mode */\n",
              "  --sklearn-color-text: #000;\n",
              "  --sklearn-color-text-muted: #666;\n",
              "  --sklearn-color-line: gray;\n",
              "  /* Definition of color scheme for unfitted estimators */\n",
              "  --sklearn-color-unfitted-level-0: #fff5e6;\n",
              "  --sklearn-color-unfitted-level-1: #f6e4d2;\n",
              "  --sklearn-color-unfitted-level-2: #ffe0b3;\n",
              "  --sklearn-color-unfitted-level-3: chocolate;\n",
              "  /* Definition of color scheme for fitted estimators */\n",
              "  --sklearn-color-fitted-level-0: #f0f8ff;\n",
              "  --sklearn-color-fitted-level-1: #d4ebff;\n",
              "  --sklearn-color-fitted-level-2: #b3dbfd;\n",
              "  --sklearn-color-fitted-level-3: cornflowerblue;\n",
              "\n",
              "  /* Specific color for light theme */\n",
              "  --sklearn-color-text-on-default-background: var(--sg-text-color, var(--theme-code-foreground, var(--jp-content-font-color1, black)));\n",
              "  --sklearn-color-background: var(--sg-background-color, var(--theme-background, var(--jp-layout-color0, white)));\n",
              "  --sklearn-color-border-box: var(--sg-text-color, var(--theme-code-foreground, var(--jp-content-font-color1, black)));\n",
              "  --sklearn-color-icon: #696969;\n",
              "\n",
              "  @media (prefers-color-scheme: dark) {\n",
              "    /* Redefinition of color scheme for dark theme */\n",
              "    --sklearn-color-text-on-default-background: var(--sg-text-color, var(--theme-code-foreground, var(--jp-content-font-color1, white)));\n",
              "    --sklearn-color-background: var(--sg-background-color, var(--theme-background, var(--jp-layout-color0, #111)));\n",
              "    --sklearn-color-border-box: var(--sg-text-color, var(--theme-code-foreground, var(--jp-content-font-color1, white)));\n",
              "    --sklearn-color-icon: #878787;\n",
              "  }\n",
              "}\n",
              "\n",
              "#sk-container-id-2 {\n",
              "  color: var(--sklearn-color-text);\n",
              "}\n",
              "\n",
              "#sk-container-id-2 pre {\n",
              "  padding: 0;\n",
              "}\n",
              "\n",
              "#sk-container-id-2 input.sk-hidden--visually {\n",
              "  border: 0;\n",
              "  clip: rect(1px 1px 1px 1px);\n",
              "  clip: rect(1px, 1px, 1px, 1px);\n",
              "  height: 1px;\n",
              "  margin: -1px;\n",
              "  overflow: hidden;\n",
              "  padding: 0;\n",
              "  position: absolute;\n",
              "  width: 1px;\n",
              "}\n",
              "\n",
              "#sk-container-id-2 div.sk-dashed-wrapped {\n",
              "  border: 1px dashed var(--sklearn-color-line);\n",
              "  margin: 0 0.4em 0.5em 0.4em;\n",
              "  box-sizing: border-box;\n",
              "  padding-bottom: 0.4em;\n",
              "  background-color: var(--sklearn-color-background);\n",
              "}\n",
              "\n",
              "#sk-container-id-2 div.sk-container {\n",
              "  /* jupyter's `normalize.less` sets `[hidden] { display: none; }`\n",
              "     but bootstrap.min.css set `[hidden] { display: none !important; }`\n",
              "     so we also need the `!important` here to be able to override the\n",
              "     default hidden behavior on the sphinx rendered scikit-learn.org.\n",
              "     See: https://github.com/scikit-learn/scikit-learn/issues/21755 */\n",
              "  display: inline-block !important;\n",
              "  position: relative;\n",
              "}\n",
              "\n",
              "#sk-container-id-2 div.sk-text-repr-fallback {\n",
              "  display: none;\n",
              "}\n",
              "\n",
              "div.sk-parallel-item,\n",
              "div.sk-serial,\n",
              "div.sk-item {\n",
              "  /* draw centered vertical line to link estimators */\n",
              "  background-image: linear-gradient(var(--sklearn-color-text-on-default-background), var(--sklearn-color-text-on-default-background));\n",
              "  background-size: 2px 100%;\n",
              "  background-repeat: no-repeat;\n",
              "  background-position: center center;\n",
              "}\n",
              "\n",
              "/* Parallel-specific style estimator block */\n",
              "\n",
              "#sk-container-id-2 div.sk-parallel-item::after {\n",
              "  content: \"\";\n",
              "  width: 100%;\n",
              "  border-bottom: 2px solid var(--sklearn-color-text-on-default-background);\n",
              "  flex-grow: 1;\n",
              "}\n",
              "\n",
              "#sk-container-id-2 div.sk-parallel {\n",
              "  display: flex;\n",
              "  align-items: stretch;\n",
              "  justify-content: center;\n",
              "  background-color: var(--sklearn-color-background);\n",
              "  position: relative;\n",
              "}\n",
              "\n",
              "#sk-container-id-2 div.sk-parallel-item {\n",
              "  display: flex;\n",
              "  flex-direction: column;\n",
              "}\n",
              "\n",
              "#sk-container-id-2 div.sk-parallel-item:first-child::after {\n",
              "  align-self: flex-end;\n",
              "  width: 50%;\n",
              "}\n",
              "\n",
              "#sk-container-id-2 div.sk-parallel-item:last-child::after {\n",
              "  align-self: flex-start;\n",
              "  width: 50%;\n",
              "}\n",
              "\n",
              "#sk-container-id-2 div.sk-parallel-item:only-child::after {\n",
              "  width: 0;\n",
              "}\n",
              "\n",
              "/* Serial-specific style estimator block */\n",
              "\n",
              "#sk-container-id-2 div.sk-serial {\n",
              "  display: flex;\n",
              "  flex-direction: column;\n",
              "  align-items: center;\n",
              "  background-color: var(--sklearn-color-background);\n",
              "  padding-right: 1em;\n",
              "  padding-left: 1em;\n",
              "}\n",
              "\n",
              "\n",
              "/* Toggleable style: style used for estimator/Pipeline/ColumnTransformer box that is\n",
              "clickable and can be expanded/collapsed.\n",
              "- Pipeline and ColumnTransformer use this feature and define the default style\n",
              "- Estimators will overwrite some part of the style using the `sk-estimator` class\n",
              "*/\n",
              "\n",
              "/* Pipeline and ColumnTransformer style (default) */\n",
              "\n",
              "#sk-container-id-2 div.sk-toggleable {\n",
              "  /* Default theme specific background. It is overwritten whether we have a\n",
              "  specific estimator or a Pipeline/ColumnTransformer */\n",
              "  background-color: var(--sklearn-color-background);\n",
              "}\n",
              "\n",
              "/* Toggleable label */\n",
              "#sk-container-id-2 label.sk-toggleable__label {\n",
              "  cursor: pointer;\n",
              "  display: flex;\n",
              "  width: 100%;\n",
              "  margin-bottom: 0;\n",
              "  padding: 0.5em;\n",
              "  box-sizing: border-box;\n",
              "  text-align: center;\n",
              "  align-items: start;\n",
              "  justify-content: space-between;\n",
              "  gap: 0.5em;\n",
              "}\n",
              "\n",
              "#sk-container-id-2 label.sk-toggleable__label .caption {\n",
              "  font-size: 0.6rem;\n",
              "  font-weight: lighter;\n",
              "  color: var(--sklearn-color-text-muted);\n",
              "}\n",
              "\n",
              "#sk-container-id-2 label.sk-toggleable__label-arrow:before {\n",
              "  /* Arrow on the left of the label */\n",
              "  content: \"▸\";\n",
              "  float: left;\n",
              "  margin-right: 0.25em;\n",
              "  color: var(--sklearn-color-icon);\n",
              "}\n",
              "\n",
              "#sk-container-id-2 label.sk-toggleable__label-arrow:hover:before {\n",
              "  color: var(--sklearn-color-text);\n",
              "}\n",
              "\n",
              "/* Toggleable content - dropdown */\n",
              "\n",
              "#sk-container-id-2 div.sk-toggleable__content {\n",
              "  max-height: 0;\n",
              "  max-width: 0;\n",
              "  overflow: hidden;\n",
              "  text-align: left;\n",
              "  /* unfitted */\n",
              "  background-color: var(--sklearn-color-unfitted-level-0);\n",
              "}\n",
              "\n",
              "#sk-container-id-2 div.sk-toggleable__content.fitted {\n",
              "  /* fitted */\n",
              "  background-color: var(--sklearn-color-fitted-level-0);\n",
              "}\n",
              "\n",
              "#sk-container-id-2 div.sk-toggleable__content pre {\n",
              "  margin: 0.2em;\n",
              "  border-radius: 0.25em;\n",
              "  color: var(--sklearn-color-text);\n",
              "  /* unfitted */\n",
              "  background-color: var(--sklearn-color-unfitted-level-0);\n",
              "}\n",
              "\n",
              "#sk-container-id-2 div.sk-toggleable__content.fitted pre {\n",
              "  /* unfitted */\n",
              "  background-color: var(--sklearn-color-fitted-level-0);\n",
              "}\n",
              "\n",
              "#sk-container-id-2 input.sk-toggleable__control:checked~div.sk-toggleable__content {\n",
              "  /* Expand drop-down */\n",
              "  max-height: 200px;\n",
              "  max-width: 100%;\n",
              "  overflow: auto;\n",
              "}\n",
              "\n",
              "#sk-container-id-2 input.sk-toggleable__control:checked~label.sk-toggleable__label-arrow:before {\n",
              "  content: \"▾\";\n",
              "}\n",
              "\n",
              "/* Pipeline/ColumnTransformer-specific style */\n",
              "\n",
              "#sk-container-id-2 div.sk-label input.sk-toggleable__control:checked~label.sk-toggleable__label {\n",
              "  color: var(--sklearn-color-text);\n",
              "  background-color: var(--sklearn-color-unfitted-level-2);\n",
              "}\n",
              "\n",
              "#sk-container-id-2 div.sk-label.fitted input.sk-toggleable__control:checked~label.sk-toggleable__label {\n",
              "  background-color: var(--sklearn-color-fitted-level-2);\n",
              "}\n",
              "\n",
              "/* Estimator-specific style */\n",
              "\n",
              "/* Colorize estimator box */\n",
              "#sk-container-id-2 div.sk-estimator input.sk-toggleable__control:checked~label.sk-toggleable__label {\n",
              "  /* unfitted */\n",
              "  background-color: var(--sklearn-color-unfitted-level-2);\n",
              "}\n",
              "\n",
              "#sk-container-id-2 div.sk-estimator.fitted input.sk-toggleable__control:checked~label.sk-toggleable__label {\n",
              "  /* fitted */\n",
              "  background-color: var(--sklearn-color-fitted-level-2);\n",
              "}\n",
              "\n",
              "#sk-container-id-2 div.sk-label label.sk-toggleable__label,\n",
              "#sk-container-id-2 div.sk-label label {\n",
              "  /* The background is the default theme color */\n",
              "  color: var(--sklearn-color-text-on-default-background);\n",
              "}\n",
              "\n",
              "/* On hover, darken the color of the background */\n",
              "#sk-container-id-2 div.sk-label:hover label.sk-toggleable__label {\n",
              "  color: var(--sklearn-color-text);\n",
              "  background-color: var(--sklearn-color-unfitted-level-2);\n",
              "}\n",
              "\n",
              "/* Label box, darken color on hover, fitted */\n",
              "#sk-container-id-2 div.sk-label.fitted:hover label.sk-toggleable__label.fitted {\n",
              "  color: var(--sklearn-color-text);\n",
              "  background-color: var(--sklearn-color-fitted-level-2);\n",
              "}\n",
              "\n",
              "/* Estimator label */\n",
              "\n",
              "#sk-container-id-2 div.sk-label label {\n",
              "  font-family: monospace;\n",
              "  font-weight: bold;\n",
              "  display: inline-block;\n",
              "  line-height: 1.2em;\n",
              "}\n",
              "\n",
              "#sk-container-id-2 div.sk-label-container {\n",
              "  text-align: center;\n",
              "}\n",
              "\n",
              "/* Estimator-specific */\n",
              "#sk-container-id-2 div.sk-estimator {\n",
              "  font-family: monospace;\n",
              "  border: 1px dotted var(--sklearn-color-border-box);\n",
              "  border-radius: 0.25em;\n",
              "  box-sizing: border-box;\n",
              "  margin-bottom: 0.5em;\n",
              "  /* unfitted */\n",
              "  background-color: var(--sklearn-color-unfitted-level-0);\n",
              "}\n",
              "\n",
              "#sk-container-id-2 div.sk-estimator.fitted {\n",
              "  /* fitted */\n",
              "  background-color: var(--sklearn-color-fitted-level-0);\n",
              "}\n",
              "\n",
              "/* on hover */\n",
              "#sk-container-id-2 div.sk-estimator:hover {\n",
              "  /* unfitted */\n",
              "  background-color: var(--sklearn-color-unfitted-level-2);\n",
              "}\n",
              "\n",
              "#sk-container-id-2 div.sk-estimator.fitted:hover {\n",
              "  /* fitted */\n",
              "  background-color: var(--sklearn-color-fitted-level-2);\n",
              "}\n",
              "\n",
              "/* Specification for estimator info (e.g. \"i\" and \"?\") */\n",
              "\n",
              "/* Common style for \"i\" and \"?\" */\n",
              "\n",
              ".sk-estimator-doc-link,\n",
              "a:link.sk-estimator-doc-link,\n",
              "a:visited.sk-estimator-doc-link {\n",
              "  float: right;\n",
              "  font-size: smaller;\n",
              "  line-height: 1em;\n",
              "  font-family: monospace;\n",
              "  background-color: var(--sklearn-color-background);\n",
              "  border-radius: 1em;\n",
              "  height: 1em;\n",
              "  width: 1em;\n",
              "  text-decoration: none !important;\n",
              "  margin-left: 0.5em;\n",
              "  text-align: center;\n",
              "  /* unfitted */\n",
              "  border: var(--sklearn-color-unfitted-level-1) 1pt solid;\n",
              "  color: var(--sklearn-color-unfitted-level-1);\n",
              "}\n",
              "\n",
              ".sk-estimator-doc-link.fitted,\n",
              "a:link.sk-estimator-doc-link.fitted,\n",
              "a:visited.sk-estimator-doc-link.fitted {\n",
              "  /* fitted */\n",
              "  border: var(--sklearn-color-fitted-level-1) 1pt solid;\n",
              "  color: var(--sklearn-color-fitted-level-1);\n",
              "}\n",
              "\n",
              "/* On hover */\n",
              "div.sk-estimator:hover .sk-estimator-doc-link:hover,\n",
              ".sk-estimator-doc-link:hover,\n",
              "div.sk-label-container:hover .sk-estimator-doc-link:hover,\n",
              ".sk-estimator-doc-link:hover {\n",
              "  /* unfitted */\n",
              "  background-color: var(--sklearn-color-unfitted-level-3);\n",
              "  color: var(--sklearn-color-background);\n",
              "  text-decoration: none;\n",
              "}\n",
              "\n",
              "div.sk-estimator.fitted:hover .sk-estimator-doc-link.fitted:hover,\n",
              ".sk-estimator-doc-link.fitted:hover,\n",
              "div.sk-label-container:hover .sk-estimator-doc-link.fitted:hover,\n",
              ".sk-estimator-doc-link.fitted:hover {\n",
              "  /* fitted */\n",
              "  background-color: var(--sklearn-color-fitted-level-3);\n",
              "  color: var(--sklearn-color-background);\n",
              "  text-decoration: none;\n",
              "}\n",
              "\n",
              "/* Span, style for the box shown on hovering the info icon */\n",
              ".sk-estimator-doc-link span {\n",
              "  display: none;\n",
              "  z-index: 9999;\n",
              "  position: relative;\n",
              "  font-weight: normal;\n",
              "  right: .2ex;\n",
              "  padding: .5ex;\n",
              "  margin: .5ex;\n",
              "  width: min-content;\n",
              "  min-width: 20ex;\n",
              "  max-width: 50ex;\n",
              "  color: var(--sklearn-color-text);\n",
              "  box-shadow: 2pt 2pt 4pt #999;\n",
              "  /* unfitted */\n",
              "  background: var(--sklearn-color-unfitted-level-0);\n",
              "  border: .5pt solid var(--sklearn-color-unfitted-level-3);\n",
              "}\n",
              "\n",
              ".sk-estimator-doc-link.fitted span {\n",
              "  /* fitted */\n",
              "  background: var(--sklearn-color-fitted-level-0);\n",
              "  border: var(--sklearn-color-fitted-level-3);\n",
              "}\n",
              "\n",
              ".sk-estimator-doc-link:hover span {\n",
              "  display: block;\n",
              "}\n",
              "\n",
              "/* \"?\"-specific style due to the `<a>` HTML tag */\n",
              "\n",
              "#sk-container-id-2 a.estimator_doc_link {\n",
              "  float: right;\n",
              "  font-size: 1rem;\n",
              "  line-height: 1em;\n",
              "  font-family: monospace;\n",
              "  background-color: var(--sklearn-color-background);\n",
              "  border-radius: 1rem;\n",
              "  height: 1rem;\n",
              "  width: 1rem;\n",
              "  text-decoration: none;\n",
              "  /* unfitted */\n",
              "  color: var(--sklearn-color-unfitted-level-1);\n",
              "  border: var(--sklearn-color-unfitted-level-1) 1pt solid;\n",
              "}\n",
              "\n",
              "#sk-container-id-2 a.estimator_doc_link.fitted {\n",
              "  /* fitted */\n",
              "  border: var(--sklearn-color-fitted-level-1) 1pt solid;\n",
              "  color: var(--sklearn-color-fitted-level-1);\n",
              "}\n",
              "\n",
              "/* On hover */\n",
              "#sk-container-id-2 a.estimator_doc_link:hover {\n",
              "  /* unfitted */\n",
              "  background-color: var(--sklearn-color-unfitted-level-3);\n",
              "  color: var(--sklearn-color-background);\n",
              "  text-decoration: none;\n",
              "}\n",
              "\n",
              "#sk-container-id-2 a.estimator_doc_link.fitted:hover {\n",
              "  /* fitted */\n",
              "  background-color: var(--sklearn-color-fitted-level-3);\n",
              "}\n",
              "</style><div id=\"sk-container-id-2\" class=\"sk-top-container\"><div class=\"sk-text-repr-fallback\"><pre>LabelEncoder()</pre><b>In a Jupyter environment, please rerun this cell to show the HTML representation or trust the notebook. <br />On GitHub, the HTML representation is unable to render, please try loading this page with nbviewer.org.</b></div><div class=\"sk-container\" hidden><div class=\"sk-item\"><div class=\"sk-estimator fitted sk-toggleable\"><input class=\"sk-toggleable__control sk-hidden--visually\" id=\"sk-estimator-id-2\" type=\"checkbox\" checked><label for=\"sk-estimator-id-2\" class=\"sk-toggleable__label fitted sk-toggleable__label-arrow\"><div><div>LabelEncoder</div></div><div><a class=\"sk-estimator-doc-link fitted\" rel=\"noreferrer\" target=\"_blank\" href=\"https://scikit-learn.org/1.6/modules/generated/sklearn.preprocessing.LabelEncoder.html\">?<span>Documentation for LabelEncoder</span></a><span class=\"sk-estimator-doc-link fitted\">i<span>Fitted</span></span></div></label><div class=\"sk-toggleable__content fitted\"><pre>LabelEncoder()</pre></div> </div></div></div></div>"
            ]
          },
          "metadata": {},
          "execution_count": 24
        }
      ]
    },
    {
      "cell_type": "code",
      "source": [
        "le.classes_"
      ],
      "metadata": {
        "colab": {
          "base_uri": "https://localhost:8080/"
        },
        "id": "es-377pgQ8Bv",
        "outputId": "ddcfca77-e3d4-4ce8-b8b2-71949b747b10"
      },
      "execution_count": null,
      "outputs": [
        {
          "output_type": "execute_result",
          "data": {
            "text/plain": [
              "array(['No', 'Yes'], dtype=object)"
            ]
          },
          "metadata": {},
          "execution_count": 25
        }
      ]
    },
    {
      "cell_type": "code",
      "source": [
        "y_train = le.transform(y_train)\n",
        "y_test = le.transform(y_test)"
      ],
      "metadata": {
        "id": "DuS53nH2RU7i"
      },
      "execution_count": null,
      "outputs": []
    },
    {
      "cell_type": "code",
      "source": [
        "y_test.sum()/len(y_test)"
      ],
      "metadata": {
        "colab": {
          "base_uri": "https://localhost:8080/"
        },
        "id": "5XTk3MQoROeZ",
        "outputId": "ed864eb6-642c-4d24-a76c-693f82106dbb"
      },
      "execution_count": null,
      "outputs": [
        {
          "output_type": "execute_result",
          "data": {
            "text/plain": [
              "np.float64(0.2654364797728886)"
            ]
          },
          "metadata": {},
          "execution_count": 27
        }
      ]
    },
    {
      "cell_type": "markdown",
      "source": [
        "## Missing Data Imputation"
      ],
      "metadata": {
        "id": "5Tu8mVmrUUHv"
      }
    },
    {
      "cell_type": "code",
      "source": [
        "# KNN Imputer\n",
        "knn = KNNImputer(n_neighbors=5,weights='distance')\n",
        "\n",
        "X_train = knn.fit_transform(X_train)\n",
        "X_test = knn.transform(X_test)"
      ],
      "metadata": {
        "id": "A5dxDnuDxfUz"
      },
      "execution_count": null,
      "outputs": []
    },
    {
      "cell_type": "markdown",
      "source": [
        "## Scaling"
      ],
      "metadata": {
        "id": "JlDIDfVczdQ9"
      }
    },
    {
      "cell_type": "code",
      "source": [
        "scaler = StandardScaler()\n",
        "\n",
        "# fit the scaler to the train set, it will learn the parameters\n",
        "scaler.fit(X_train)\n",
        "\n",
        "# transform train and test sets\n",
        "X_train = scaler.transform(X_train)\n",
        "X_test = scaler.transform(X_test)"
      ],
      "metadata": {
        "id": "sjpOeJhGzg3_"
      },
      "execution_count": null,
      "outputs": []
    },
    {
      "cell_type": "markdown",
      "source": [
        "# SMOTE"
      ],
      "metadata": {
        "id": "BLnpBJVqjtPq"
      }
    },
    {
      "cell_type": "code",
      "source": [
        "# The data here is unbalanced, so we will use SMOTE to balance it"
      ],
      "metadata": {
        "id": "vUJ9O9A0jvY3"
      },
      "execution_count": null,
      "outputs": []
    },
    {
      "cell_type": "code",
      "source": [
        "smote = SMOTE(random_state=42)\n",
        "X_train, y_train = smote.fit_resample(X_train, y_train)"
      ],
      "metadata": {
        "id": "cFwFPCWRj1uE"
      },
      "execution_count": null,
      "outputs": []
    },
    {
      "cell_type": "markdown",
      "source": [
        "# Model"
      ],
      "metadata": {
        "id": "8ssK2kxvni3d"
      }
    },
    {
      "cell_type": "markdown",
      "source": [
        "## Logistic Regression"
      ],
      "metadata": {
        "id": "eUE3vGVC0gr7"
      }
    },
    {
      "cell_type": "code",
      "source": [
        "lg_model = LogisticRegression()\n",
        "lg_model = lg_model.fit(X_train, y_train)"
      ],
      "metadata": {
        "id": "tdfMAM5EiJjX"
      },
      "execution_count": null,
      "outputs": []
    },
    {
      "cell_type": "code",
      "source": [
        "y_pred = lg_model.predict(X_test)"
      ],
      "metadata": {
        "id": "u7VR8JnL0mOU"
      },
      "execution_count": null,
      "outputs": []
    },
    {
      "cell_type": "code",
      "source": [
        "accuracy(y_test, y_pred)"
      ],
      "metadata": {
        "colab": {
          "base_uri": "https://localhost:8080/"
        },
        "id": "pl_DQ_-y0rzb",
        "outputId": "112618e7-42c5-405b-fc8f-7c8998033ab1"
      },
      "execution_count": null,
      "outputs": [
        {
          "output_type": "stream",
          "name": "stdout",
          "text": [
            "Precision: 0.7967914438502673\n",
            "F1 Score: 0.6176165803108808\n",
            "Recall: 0.5042301184433164\n",
            "ROC-AUC: 0.7056602914954969\n"
          ]
        }
      ]
    },
    {
      "cell_type": "code",
      "source": [
        "# This is the cross validated scores\n",
        "cross_val_acc(lg_model, X_train, y_train)"
      ],
      "metadata": {
        "colab": {
          "base_uri": "https://localhost:8080/"
        },
        "id": "5Pe1fk89_m7u",
        "outputId": "7adb640c-22b9-45cb-d68e-9bf6c566f498"
      },
      "execution_count": null,
      "outputs": [
        {
          "output_type": "stream",
          "name": "stdout",
          "text": [
            "Precision: 0.7551704549989\n",
            "F1 Score: 0.7837000041116822\n",
            "Recall: 0.8146915604320152\n",
            "ROC-AUC: 0.8537744615639408\n"
          ]
        }
      ]
    },
    {
      "cell_type": "code",
      "source": [
        "cm = confusion_matrix(y_test, y_pred, normalize = 'true')\n",
        "\n",
        "disp = ConfusionMatrixDisplay(confusion_matrix=cm,\n",
        "                              display_labels=lg_model.classes_)\n",
        "disp.plot(cmap='Blues', values_format='.2f')\n",
        "plt.title(\"Normalized Confusion Matrix\")\n",
        "plt.show()"
      ],
      "metadata": {
        "colab": {
          "base_uri": "https://localhost:8080/",
          "height": 472
        },
        "id": "00ZHTcv_mNsb",
        "outputId": "4f7d9b16-94d9-43e8-b87a-9cd1082e715a"
      },
      "execution_count": null,
      "outputs": [
        {
          "output_type": "display_data",
          "data": {
            "text/plain": [
              "<Figure size 640x480 with 2 Axes>"
            ],
            "image/png": "[encoded data removed]"
          },
          "metadata": {}
        }
      ]
    },
    {
      "cell_type": "markdown",
      "source": [
        "### Parameter Tuning and CV"
      ],
      "metadata": {
        "id": "sSyKEy1-07On"
      }
    },
    {
      "cell_type": "code",
      "source": [
        "param_grid = {\n",
        "    'penalty': ['l1', 'l2', 'elasticnet', 'none'],\n",
        "    'solver': ['lbfgs', 'liblinear', 'newton-cg', 'newton-cholesky', 'sag', 'saga'],\n",
        "    'max_iter': [100, 1000, 2500, 5000],\n",
        "    'C': np.logspace(-4, 4, 20)\n",
        "}"
      ],
      "metadata": {
        "id": "kSfufa8W091W"
      },
      "execution_count": null,
      "outputs": []
    },
    {
      "cell_type": "code",
      "source": [
        "clf = GridSearchCV(lg_model, param_grid=param_grid, cv = 5, verbose = True, n_jobs=-1)"
      ],
      "metadata": {
        "id": "lCzR7gTB8g4I"
      },
      "execution_count": null,
      "outputs": []
    },
    {
      "cell_type": "code",
      "source": [
        "%%time\n",
        "clf = clf.fit(X_train, y_train)"
      ],
      "metadata": {
        "colab": {
          "base_uri": "https://localhost:8080/"
        },
        "id": "-4fSy7_y8wxN",
        "outputId": "d7efdc6b-3308-4a04-db56-eb3dfac780d4"
      },
      "execution_count": null,
      "outputs": [
        {
          "output_type": "stream",
          "name": "stdout",
          "text": [
            "Fitting 5 folds for each of 1920 candidates, totalling 9600 fits\n",
            "CPU times: user 12.7 s, sys: 1.81 s, total: 14.5 s\n",
            "Wall time: 24min 6s\n"
          ]
        }
      ]
    },
    {
      "cell_type": "code",
      "source": [
        "clf.best_score_"
      ],
      "metadata": {
        "colab": {
          "base_uri": "https://localhost:8080/"
        },
        "id": "C5vSp_0XCPY6",
        "outputId": "f1d1b63b-ed9d-4d19-fae4-5017597993fb"
      },
      "execution_count": null,
      "outputs": [
        {
          "output_type": "execute_result",
          "data": {
            "text/plain": [
              "np.float64(0.7749424960228848)"
            ]
          },
          "metadata": {},
          "execution_count": 38
        }
      ]
    },
    {
      "cell_type": "code",
      "source": [
        "clf.best_params_"
      ],
      "metadata": {
        "colab": {
          "base_uri": "https://localhost:8080/"
        },
        "id": "62L5SahFCSdT",
        "outputId": "d04233c3-766d-4e83-ec23-75098162a7b3"
      },
      "execution_count": null,
      "outputs": [
        {
          "output_type": "execute_result",
          "data": {
            "text/plain": [
              "{'C': np.float64(1.623776739188721),\n",
              " 'max_iter': 5000,\n",
              " 'penalty': 'l1',\n",
              " 'solver': 'liblinear'}"
            ]
          },
          "metadata": {},
          "execution_count": 39
        }
      ]
    },
    {
      "cell_type": "code",
      "source": [
        "# the hyperparameter tuned model\n",
        "\n",
        "log_model = LogisticRegression(\n",
        "    C= 1.623776739188721,\n",
        "    max_iter= 5000,\n",
        "    penalty= 'l1',\n",
        "    solver= 'liblinear'\n",
        ")"
      ],
      "metadata": {
        "id": "qJZErrzICXl8"
      },
      "execution_count": null,
      "outputs": []
    },
    {
      "cell_type": "code",
      "source": [
        "log_model = log_model.fit(X_train, y_train)\n",
        "y_pred = log_model.predict(X_test)"
      ],
      "metadata": {
        "id": "jpdk0UnmCfxR"
      },
      "execution_count": null,
      "outputs": []
    },
    {
      "cell_type": "code",
      "source": [
        "accuracy(y_test, y_pred)"
      ],
      "metadata": {
        "colab": {
          "base_uri": "https://localhost:8080/"
        },
        "id": "Ovapzqog1K5N",
        "outputId": "2cf985bc-25a9-4103-ed3d-224d4f5e551a"
      },
      "execution_count": null,
      "outputs": [
        {
          "output_type": "stream",
          "name": "stdout",
          "text": [
            "Precision: 0.7994652406417112\n",
            "F1 Score: 0.6190476190476191\n",
            "Recall: 0.5050675675675675\n",
            "ROC-AUC: 0.7066341509808461\n"
          ]
        }
      ]
    },
    {
      "cell_type": "code",
      "source": [
        "# This is the cross validated score\n",
        "cross_val_acc(log_model, X_train, y_train)"
      ],
      "metadata": {
        "colab": {
          "base_uri": "https://localhost:8080/"
        },
        "id": "MZq9ID0P_3rY",
        "outputId": "1311c8be-fc59-4627-fca2-7b050f80e832"
      },
      "execution_count": null,
      "outputs": [
        {
          "output_type": "stream",
          "name": "stdout",
          "text": [
            "Precision: 0.7553541832003724\n",
            "F1 Score: 0.7840438112822671\n",
            "Recall: 0.814932931165551\n",
            "ROC-AUC: 0.8537504751537309\n"
          ]
        }
      ]
    },
    {
      "cell_type": "code",
      "source": [
        "cm = confusion_matrix(y_test, y_pred, normalize = 'true')\n",
        "\n",
        "disp = ConfusionMatrixDisplay(confusion_matrix=cm,\n",
        "                              display_labels=log_model.classes_)\n",
        "disp.plot(cmap='Blues', values_format='.2f')\n",
        "plt.title(\"Normalized Confusion Matrix\")\n",
        "plt.show()"
      ],
      "metadata": {
        "colab": {
          "base_uri": "https://localhost:8080/",
          "height": 472
        },
        "id": "QICcV9v31QBi",
        "outputId": "d052e593-ef0d-48e6-c0be-e51f4712a42d"
      },
      "execution_count": null,
      "outputs": [
        {
          "output_type": "display_data",
          "data": {
            "text/plain": [
              "<Figure size 640x480 with 2 Axes>"
            ],
            "image/png": "[encoded data removed]"
          },
          "metadata": {}
        }
      ]
    },
    {
      "cell_type": "markdown",
      "source": [
        "## XGBoost"
      ],
      "metadata": {
        "id": "NsiIL-7ppokl"
      }
    },
    {
      "cell_type": "code",
      "source": [
        "xg_model = XGBClassifier(\n",
        "    objective='binary:logistic',\n",
        "    eval_metric='auc',\n",
        "    random_state=42\n",
        ")\n",
        "\n",
        "xg_model = xg_model.fit(\n",
        "    X_train,\n",
        "    y_train,\n",
        "    eval_set=[(X_test, y_test)],\n",
        "    early_stopping_rounds=10,\n",
        "    verbose=True\n",
        ")\n"
      ],
      "metadata": {
        "colab": {
          "base_uri": "https://localhost:8080/"
        },
        "id": "F8H7O0iMpqIr",
        "outputId": "2dda5693-ef38-4660-eb54-db7c05613532"
      },
      "execution_count": null,
      "outputs": [
        {
          "output_type": "stream",
          "name": "stdout",
          "text": [
            "[0]\tvalidation_0-auc:0.81775\n"
          ]
        },
        {
          "output_type": "stream",
          "name": "stderr",
          "text": [
            "/usr/local/lib/python3.12/dist-packages/xgboost/sklearn.py:835: UserWarning: `early_stopping_rounds` in `fit` method is deprecated for better compatibility with scikit-learn, use `early_stopping_rounds` in constructor or`set_params` instead.\n",
            "  warnings.warn(\n"
          ]
        },
        {
          "output_type": "stream",
          "name": "stdout",
          "text": [
            "[1]\tvalidation_0-auc:0.82403\n",
            "[2]\tvalidation_0-auc:0.83317\n",
            "[3]\tvalidation_0-auc:0.83728\n",
            "[4]\tvalidation_0-auc:0.83602\n",
            "[5]\tvalidation_0-auc:0.83833\n",
            "[6]\tvalidation_0-auc:0.83744\n",
            "[7]\tvalidation_0-auc:0.83836\n",
            "[8]\tvalidation_0-auc:0.83803\n",
            "[9]\tvalidation_0-auc:0.83898\n",
            "[10]\tvalidation_0-auc:0.83916\n",
            "[11]\tvalidation_0-auc:0.83963\n",
            "[12]\tvalidation_0-auc:0.84060\n",
            "[13]\tvalidation_0-auc:0.84086\n",
            "[14]\tvalidation_0-auc:0.84044\n",
            "[15]\tvalidation_0-auc:0.84061\n",
            "[16]\tvalidation_0-auc:0.83954\n",
            "[17]\tvalidation_0-auc:0.83987\n",
            "[18]\tvalidation_0-auc:0.83956\n",
            "[19]\tvalidation_0-auc:0.83900\n",
            "[20]\tvalidation_0-auc:0.83995\n",
            "[21]\tvalidation_0-auc:0.83937\n",
            "[22]\tvalidation_0-auc:0.83938\n"
          ]
        }
      ]
    },
    {
      "cell_type": "code",
      "source": [
        "y_pred = xg_model.predict(X_test)"
      ],
      "metadata": {
        "id": "OAfYq2qGw7mF"
      },
      "execution_count": null,
      "outputs": []
    },
    {
      "cell_type": "code",
      "source": [
        "accuracy(y_test, y_pred)"
      ],
      "metadata": {
        "colab": {
          "base_uri": "https://localhost:8080/"
        },
        "id": "qmV2Ro1bw_eu",
        "outputId": "c6efae32-3b94-494b-af9c-e39519e77ca2"
      },
      "execution_count": null,
      "outputs": [
        {
          "output_type": "stream",
          "name": "stdout",
          "text": [
            "Precision: 0.6737967914438503\n",
            "F1 Score: 0.6050420168067226\n",
            "Recall: 0.5490196078431373\n",
            "ROC-AUC: 0.7102992776057792\n"
          ]
        }
      ]
    },
    {
      "cell_type": "code",
      "source": [
        "cm = confusion_matrix(y_test, y_pred, normalize = 'true')\n",
        "\n",
        "disp = ConfusionMatrixDisplay(confusion_matrix=cm,\n",
        "                              display_labels=xg_model.classes_)\n",
        "disp.plot(cmap='Blues', values_format='.2f')\n",
        "plt.title(\"Normalized Confusion Matrix\")\n",
        "plt.show()"
      ],
      "metadata": {
        "colab": {
          "base_uri": "https://localhost:8080/",
          "height": 472
        },
        "id": "nEe8HJR6xEnv",
        "outputId": "b70080e6-bee2-4328-cf65-4888b0b21bad"
      },
      "execution_count": null,
      "outputs": [
        {
          "output_type": "display_data",
          "data": {
            "text/plain": [
              "<Figure size 640x480 with 2 Axes>"
            ],
            "image/png": "[encoded data removed]"
          },
          "metadata": {}
        }
      ]
    },
    {
      "cell_type": "markdown",
      "source": [
        "### Parameter Tuning (OPTUNA)"
      ],
      "metadata": {
        "id": "wGX6Np8SxL7k"
      }
    },
    {
      "cell_type": "code",
      "source": [
        "# Define the objective function\n",
        "def objective(trial):\n",
        "    # Suggest values for the hyperparameters\n",
        "    learning_rate = trial.suggest_categorical('learning_rate', [0.1, 0.01, 0.05])\n",
        "    max_depth = trial.suggest_categorical('max_depth', [3, 4, 5])\n",
        "    gamma = trial.suggest_categorical('gamma', [0, 0.25, 0.5, 1.0])\n",
        "    reg_lambda = trial.suggest_categorical('reg_lambda', [0, 1.0, 10.0])\n",
        "\n",
        "    # Create the RandomForestClassifier with suggested hyperparameters\n",
        "    model = XGBClassifier(\n",
        "        learning_rate=learning_rate,\n",
        "        max_depth=max_depth,\n",
        "        gamma = gamma,\n",
        "        reg_lambda = reg_lambda,\n",
        "        random_state=42\n",
        "    )\n",
        "\n",
        "    # Perform 3-fold cross-validation and calculate accuracy\n",
        "    score = cross_val_score(model, X_train, y_train, cv=3, scoring='roc_auc').mean()\n",
        "\n",
        "    return score  # Return the accuracy score for Optuna to maximize"
      ],
      "metadata": {
        "id": "iq3OV53MxTf4"
      },
      "execution_count": null,
      "outputs": []
    },
    {
      "cell_type": "code",
      "source": [
        "# Create a study object and optimize the objective function\n",
        "study = optuna.create_study(direction='maximize', sampler=optuna.samplers.TPESampler())  # We aim to maximize accuracy\n",
        "study.optimize(objective, n_trials=100)  # Run 50 trials to find the best hyperparameters"
      ],
      "metadata": {
        "colab": {
          "base_uri": "https://localhost:8080/"
        },
        "id": "xBAhzIfjxTcU",
        "outputId": "febec9b4-e568-4079-d67f-a9c38518c60a"
      },
      "execution_count": null,
      "outputs": [
        {
          "output_type": "stream",
          "name": "stderr",
          "text": [
            "[I 2025-10-23 14:20:28,046] A new study created in memory with name: no-name-fa4a4f45-e374-4408-952c-5869877b140e\n",
            "[I 2025-10-23 14:20:29,625] Trial 0 finished with value: 0.8836462101022544 and parameters: {'learning_rate': 0.01, 'max_depth': 5, 'gamma': 0.25, 'reg_lambda': 1.0}. Best is trial 0 with value: 0.8836462101022544.\n",
            "[I 2025-10-23 14:20:30,010] Trial 1 finished with value: 0.8622981671086034 and parameters: {'learning_rate': 0.01, 'max_depth': 3, 'gamma': 1.0, 'reg_lambda': 10.0}. Best is trial 0 with value: 0.8836462101022544.\n",
            "[I 2025-10-23 14:20:30,643] Trial 2 finished with value: 0.9276517773148472 and parameters: {'learning_rate': 0.1, 'max_depth': 5, 'gamma': 1.0, 'reg_lambda': 0}. Best is trial 2 with value: 0.9276517773148472.\n",
            "[I 2025-10-23 14:20:31,528] Trial 3 finished with value: 0.8854220914283358 and parameters: {'learning_rate': 0.01, 'max_depth': 5, 'gamma': 1.0, 'reg_lambda': 0}. Best is trial 2 with value: 0.9276517773148472.\n",
            "[I 2025-10-23 14:20:31,919] Trial 4 finished with value: 0.903232296242885 and parameters: {'learning_rate': 0.05, 'max_depth': 3, 'gamma': 0, 'reg_lambda': 1.0}. Best is trial 2 with value: 0.9276517773148472.\n",
            "[I 2025-10-23 14:20:32,470] Trial 5 finished with value: 0.9151669831861962 and parameters: {'learning_rate': 0.05, 'max_depth': 4, 'gamma': 0.25, 'reg_lambda': 0}. Best is trial 2 with value: 0.9276517773148472.\n",
            "[I 2025-10-23 14:20:33,050] Trial 6 finished with value: 0.8761548626980243 and parameters: {'learning_rate': 0.01, 'max_depth': 4, 'gamma': 0.25, 'reg_lambda': 0}. Best is trial 2 with value: 0.9276517773148472.\n",
            "[I 2025-10-23 14:20:33,666] Trial 7 finished with value: 0.9254819052041209 and parameters: {'learning_rate': 0.1, 'max_depth': 5, 'gamma': 1.0, 'reg_lambda': 1.0}. Best is trial 2 with value: 0.9276517773148472.\n",
            "[I 2025-10-23 14:20:34,417] Trial 8 finished with value: 0.9087049896079239 and parameters: {'learning_rate': 0.05, 'max_depth': 5, 'gamma': 0.5, 'reg_lambda': 10.0}. Best is trial 2 with value: 0.9276517773148472.\n",
            "[I 2025-10-23 14:20:34,785] Trial 9 finished with value: 0.8622981671086034 and parameters: {'learning_rate': 0.01, 'max_depth': 3, 'gamma': 1.0, 'reg_lambda': 10.0}. Best is trial 2 with value: 0.9276517773148472.\n",
            "[I 2025-10-23 14:20:35,491] Trial 10 finished with value: 0.9310483918340425 and parameters: {'learning_rate': 0.1, 'max_depth': 5, 'gamma': 0.5, 'reg_lambda': 0}. Best is trial 10 with value: 0.9310483918340425.\n",
            "[I 2025-10-23 14:20:36,207] Trial 11 finished with value: 0.9310483918340425 and parameters: {'learning_rate': 0.1, 'max_depth': 5, 'gamma': 0.5, 'reg_lambda': 0}. Best is trial 10 with value: 0.9310483918340425.\n",
            "[I 2025-10-23 14:20:36,887] Trial 12 finished with value: 0.9310483918340425 and parameters: {'learning_rate': 0.1, 'max_depth': 5, 'gamma': 0.5, 'reg_lambda': 0}. Best is trial 10 with value: 0.9310483918340425.\n",
            "[I 2025-10-23 14:20:37,632] Trial 13 finished with value: 0.9310483918340425 and parameters: {'learning_rate': 0.1, 'max_depth': 5, 'gamma': 0.5, 'reg_lambda': 0}. Best is trial 10 with value: 0.9310483918340425.\n",
            "[I 2025-10-23 14:20:38,343] Trial 14 finished with value: 0.9310483918340425 and parameters: {'learning_rate': 0.1, 'max_depth': 5, 'gamma': 0.5, 'reg_lambda': 0}. Best is trial 10 with value: 0.9310483918340425.\n",
            "[I 2025-10-23 14:20:38,845] Trial 15 finished with value: 0.9280860703000574 and parameters: {'learning_rate': 0.1, 'max_depth': 4, 'gamma': 0.5, 'reg_lambda': 0}. Best is trial 10 with value: 0.9310483918340425.\n",
            "[I 2025-10-23 14:20:40,756] Trial 16 finished with value: 0.931777053820429 and parameters: {'learning_rate': 0.1, 'max_depth': 5, 'gamma': 0, 'reg_lambda': 0}. Best is trial 16 with value: 0.931777053820429.\n",
            "[I 2025-10-23 14:20:41,546] Trial 17 finished with value: 0.931777053820429 and parameters: {'learning_rate': 0.1, 'max_depth': 5, 'gamma': 0, 'reg_lambda': 0}. Best is trial 16 with value: 0.931777053820429.\n",
            "[I 2025-10-23 14:20:41,914] Trial 18 finished with value: 0.9195662177082683 and parameters: {'learning_rate': 0.1, 'max_depth': 3, 'gamma': 0, 'reg_lambda': 1.0}. Best is trial 16 with value: 0.931777053820429.\n",
            "[I 2025-10-23 14:20:42,449] Trial 19 finished with value: 0.9199513813715977 and parameters: {'learning_rate': 0.1, 'max_depth': 4, 'gamma': 0, 'reg_lambda': 10.0}. Best is trial 16 with value: 0.931777053820429.\n",
            "[I 2025-10-23 14:20:43,320] Trial 20 finished with value: 0.9218018305457732 and parameters: {'learning_rate': 0.05, 'max_depth': 5, 'gamma': 0, 'reg_lambda': 0}. Best is trial 16 with value: 0.931777053820429.\n",
            "[I 2025-10-23 14:20:44,089] Trial 21 finished with value: 0.931777053820429 and parameters: {'learning_rate': 0.1, 'max_depth': 5, 'gamma': 0, 'reg_lambda': 0}. Best is trial 16 with value: 0.931777053820429.\n",
            "[I 2025-10-23 14:20:44,917] Trial 22 finished with value: 0.931777053820429 and parameters: {'learning_rate': 0.1, 'max_depth': 5, 'gamma': 0, 'reg_lambda': 0}. Best is trial 16 with value: 0.931777053820429.\n",
            "[I 2025-10-23 14:20:45,730] Trial 23 finished with value: 0.931777053820429 and parameters: {'learning_rate': 0.1, 'max_depth': 5, 'gamma': 0, 'reg_lambda': 0}. Best is trial 16 with value: 0.931777053820429.\n",
            "[I 2025-10-23 14:20:46,526] Trial 24 finished with value: 0.931777053820429 and parameters: {'learning_rate': 0.1, 'max_depth': 5, 'gamma': 0, 'reg_lambda': 0}. Best is trial 16 with value: 0.931777053820429.\n",
            "[I 2025-10-23 14:20:47,329] Trial 25 finished with value: 0.931777053820429 and parameters: {'learning_rate': 0.1, 'max_depth': 5, 'gamma': 0, 'reg_lambda': 0}. Best is trial 16 with value: 0.931777053820429.\n",
            "[I 2025-10-23 14:20:48,114] Trial 26 finished with value: 0.931777053820429 and parameters: {'learning_rate': 0.1, 'max_depth': 5, 'gamma': 0, 'reg_lambda': 0}. Best is trial 16 with value: 0.931777053820429.\n",
            "[I 2025-10-23 14:20:48,924] Trial 27 finished with value: 0.931777053820429 and parameters: {'learning_rate': 0.1, 'max_depth': 5, 'gamma': 0, 'reg_lambda': 0}. Best is trial 16 with value: 0.931777053820429.\n",
            "[I 2025-10-23 14:20:49,451] Trial 28 finished with value: 0.9275357024687482 and parameters: {'learning_rate': 0.1, 'max_depth': 4, 'gamma': 0, 'reg_lambda': 1.0}. Best is trial 16 with value: 0.931777053820429.\n",
            "[I 2025-10-23 14:20:50,203] Trial 29 finished with value: 0.908737746021998 and parameters: {'learning_rate': 0.05, 'max_depth': 5, 'gamma': 0.25, 'reg_lambda': 10.0}. Best is trial 16 with value: 0.931777053820429.\n",
            "[I 2025-10-23 14:20:50,614] Trial 30 finished with value: 0.8652407094403776 and parameters: {'learning_rate': 0.01, 'max_depth': 3, 'gamma': 0, 'reg_lambda': 1.0}. Best is trial 16 with value: 0.931777053820429.\n",
            "[I 2025-10-23 14:20:52,496] Trial 31 finished with value: 0.931777053820429 and parameters: {'learning_rate': 0.1, 'max_depth': 5, 'gamma': 0, 'reg_lambda': 0}. Best is trial 16 with value: 0.931777053820429.\n",
            "[I 2025-10-23 14:20:53,285] Trial 32 finished with value: 0.931777053820429 and parameters: {'learning_rate': 0.1, 'max_depth': 5, 'gamma': 0, 'reg_lambda': 0}. Best is trial 16 with value: 0.931777053820429.\n",
            "[I 2025-10-23 14:20:54,083] Trial 33 finished with value: 0.931777053820429 and parameters: {'learning_rate': 0.1, 'max_depth': 5, 'gamma': 0, 'reg_lambda': 0}. Best is trial 16 with value: 0.931777053820429.\n",
            "[I 2025-10-23 14:20:54,909] Trial 34 finished with value: 0.931777053820429 and parameters: {'learning_rate': 0.1, 'max_depth': 5, 'gamma': 0, 'reg_lambda': 0}. Best is trial 16 with value: 0.931777053820429.\n",
            "[I 2025-10-23 14:20:55,829] Trial 35 finished with value: 0.8855388120189535 and parameters: {'learning_rate': 0.01, 'max_depth': 5, 'gamma': 0, 'reg_lambda': 0}. Best is trial 16 with value: 0.931777053820429.\n",
            "[I 2025-10-23 14:20:56,195] Trial 36 finished with value: 0.9233505880076606 and parameters: {'learning_rate': 0.1, 'max_depth': 3, 'gamma': 0, 'reg_lambda': 0}. Best is trial 16 with value: 0.931777053820429.\n",
            "[I 2025-10-23 14:20:56,927] Trial 37 finished with value: 0.9235015204284753 and parameters: {'learning_rate': 0.1, 'max_depth': 5, 'gamma': 0.25, 'reg_lambda': 10.0}. Best is trial 16 with value: 0.931777053820429.\n",
            "[I 2025-10-23 14:20:57,684] Trial 38 finished with value: 0.9211520058100379 and parameters: {'learning_rate': 0.05, 'max_depth': 5, 'gamma': 1.0, 'reg_lambda': 0}. Best is trial 16 with value: 0.931777053820429.\n",
            "[I 2025-10-23 14:20:58,265] Trial 39 finished with value: 0.8749276622075962 and parameters: {'learning_rate': 0.01, 'max_depth': 4, 'gamma': 0, 'reg_lambda': 1.0}. Best is trial 16 with value: 0.931777053820429.\n",
            "[I 2025-10-23 14:20:58,992] Trial 40 finished with value: 0.9311879525510861 and parameters: {'learning_rate': 0.1, 'max_depth': 5, 'gamma': 0.25, 'reg_lambda': 0}. Best is trial 16 with value: 0.931777053820429.\n",
            "[I 2025-10-23 14:20:59,766] Trial 41 finished with value: 0.931777053820429 and parameters: {'learning_rate': 0.1, 'max_depth': 5, 'gamma': 0, 'reg_lambda': 0}. Best is trial 16 with value: 0.931777053820429.\n",
            "[I 2025-10-23 14:21:00,555] Trial 42 finished with value: 0.931777053820429 and parameters: {'learning_rate': 0.1, 'max_depth': 5, 'gamma': 0, 'reg_lambda': 0}. Best is trial 16 with value: 0.931777053820429.\n",
            "[I 2025-10-23 14:21:01,381] Trial 43 finished with value: 0.931777053820429 and parameters: {'learning_rate': 0.1, 'max_depth': 5, 'gamma': 0, 'reg_lambda': 0}. Best is trial 16 with value: 0.931777053820429.\n",
            "[I 2025-10-23 14:21:02,030] Trial 44 finished with value: 0.9276517773148472 and parameters: {'learning_rate': 0.1, 'max_depth': 5, 'gamma': 1.0, 'reg_lambda': 0}. Best is trial 16 with value: 0.931777053820429.\n",
            "[I 2025-10-23 14:21:02,397] Trial 45 finished with value: 0.9233505880076606 and parameters: {'learning_rate': 0.1, 'max_depth': 3, 'gamma': 0, 'reg_lambda': 0}. Best is trial 16 with value: 0.931777053820429.\n",
            "[I 2025-10-23 14:21:04,313] Trial 46 finished with value: 0.9218018305457732 and parameters: {'learning_rate': 0.05, 'max_depth': 5, 'gamma': 0, 'reg_lambda': 0}. Best is trial 16 with value: 0.931777053820429.\n",
            "[I 2025-10-23 14:21:05,045] Trial 47 finished with value: 0.9226890152910778 and parameters: {'learning_rate': 0.1, 'max_depth': 5, 'gamma': 0, 'reg_lambda': 10.0}. Best is trial 16 with value: 0.931777053820429.\n",
            "[I 2025-10-23 14:21:05,911] Trial 48 finished with value: 0.8854220914283358 and parameters: {'learning_rate': 0.01, 'max_depth': 5, 'gamma': 1.0, 'reg_lambda': 0}. Best is trial 16 with value: 0.931777053820429.\n",
            "[I 2025-10-23 14:21:06,458] Trial 49 finished with value: 0.9290105979907756 and parameters: {'learning_rate': 0.1, 'max_depth': 4, 'gamma': 0, 'reg_lambda': 0}. Best is trial 16 with value: 0.931777053820429.\n",
            "[I 2025-10-23 14:21:07,184] Trial 50 finished with value: 0.9305841458861955 and parameters: {'learning_rate': 0.1, 'max_depth': 5, 'gamma': 0.25, 'reg_lambda': 1.0}. Best is trial 16 with value: 0.931777053820429.\n",
            "[I 2025-10-23 14:21:07,957] Trial 51 finished with value: 0.931777053820429 and parameters: {'learning_rate': 0.1, 'max_depth': 5, 'gamma': 0, 'reg_lambda': 0}. Best is trial 16 with value: 0.931777053820429.\n",
            "[I 2025-10-23 14:21:08,742] Trial 52 finished with value: 0.931777053820429 and parameters: {'learning_rate': 0.1, 'max_depth': 5, 'gamma': 0, 'reg_lambda': 0}. Best is trial 16 with value: 0.931777053820429.\n",
            "[I 2025-10-23 14:21:09,536] Trial 53 finished with value: 0.931777053820429 and parameters: {'learning_rate': 0.1, 'max_depth': 5, 'gamma': 0, 'reg_lambda': 0}. Best is trial 16 with value: 0.931777053820429.\n",
            "[I 2025-10-23 14:21:10,322] Trial 54 finished with value: 0.931777053820429 and parameters: {'learning_rate': 0.1, 'max_depth': 5, 'gamma': 0, 'reg_lambda': 0}. Best is trial 16 with value: 0.931777053820429.\n",
            "[I 2025-10-23 14:21:11,087] Trial 55 finished with value: 0.931777053820429 and parameters: {'learning_rate': 0.1, 'max_depth': 5, 'gamma': 0, 'reg_lambda': 0}. Best is trial 16 with value: 0.931777053820429.\n",
            "[I 2025-10-23 14:21:11,471] Trial 56 finished with value: 0.92264252219343 and parameters: {'learning_rate': 0.1, 'max_depth': 3, 'gamma': 0.5, 'reg_lambda': 0}. Best is trial 16 with value: 0.931777053820429.\n",
            "[I 2025-10-23 14:21:12,357] Trial 57 finished with value: 0.9218018305457732 and parameters: {'learning_rate': 0.05, 'max_depth': 5, 'gamma': 0, 'reg_lambda': 0}. Best is trial 16 with value: 0.931777053820429.\n",
            "[I 2025-10-23 14:21:13,070] Trial 58 finished with value: 0.9226890152910778 and parameters: {'learning_rate': 0.1, 'max_depth': 5, 'gamma': 0, 'reg_lambda': 10.0}. Best is trial 16 with value: 0.931777053820429.\n",
            "[I 2025-10-23 14:21:13,632] Trial 59 finished with value: 0.9290105979907756 and parameters: {'learning_rate': 0.1, 'max_depth': 4, 'gamma': 0, 'reg_lambda': 0}. Best is trial 16 with value: 0.931777053820429.\n",
            "[I 2025-10-23 14:21:14,443] Trial 60 finished with value: 0.9276517773148472 and parameters: {'learning_rate': 0.1, 'max_depth': 5, 'gamma': 1.0, 'reg_lambda': 0}. Best is trial 16 with value: 0.931777053820429.\n",
            "[I 2025-10-23 14:21:16,142] Trial 61 finished with value: 0.931777053820429 and parameters: {'learning_rate': 0.1, 'max_depth': 5, 'gamma': 0, 'reg_lambda': 0}. Best is trial 16 with value: 0.931777053820429.\n",
            "[I 2025-10-23 14:21:16,937] Trial 62 finished with value: 0.931777053820429 and parameters: {'learning_rate': 0.1, 'max_depth': 5, 'gamma': 0, 'reg_lambda': 0}. Best is trial 16 with value: 0.931777053820429.\n",
            "[I 2025-10-23 14:21:17,724] Trial 63 finished with value: 0.931777053820429 and parameters: {'learning_rate': 0.1, 'max_depth': 5, 'gamma': 0, 'reg_lambda': 0}. Best is trial 16 with value: 0.931777053820429.\n",
            "[I 2025-10-23 14:21:18,494] Trial 64 finished with value: 0.931777053820429 and parameters: {'learning_rate': 0.1, 'max_depth': 5, 'gamma': 0, 'reg_lambda': 0}. Best is trial 16 with value: 0.931777053820429.\n",
            "[I 2025-10-23 14:21:19,384] Trial 65 finished with value: 0.8836941486522033 and parameters: {'learning_rate': 0.01, 'max_depth': 5, 'gamma': 0, 'reg_lambda': 1.0}. Best is trial 16 with value: 0.931777053820429.\n",
            "[I 2025-10-23 14:21:20,172] Trial 66 finished with value: 0.931777053820429 and parameters: {'learning_rate': 0.1, 'max_depth': 5, 'gamma': 0, 'reg_lambda': 0}. Best is trial 16 with value: 0.931777053820429.\n",
            "[I 2025-10-23 14:21:20,894] Trial 67 finished with value: 0.9310483918340425 and parameters: {'learning_rate': 0.1, 'max_depth': 5, 'gamma': 0.5, 'reg_lambda': 0}. Best is trial 16 with value: 0.931777053820429.\n",
            "[I 2025-10-23 14:21:21,268] Trial 68 finished with value: 0.9231419821288888 and parameters: {'learning_rate': 0.1, 'max_depth': 3, 'gamma': 0.25, 'reg_lambda': 0}. Best is trial 16 with value: 0.931777053820429.\n",
            "[I 2025-10-23 14:21:22,026] Trial 69 finished with value: 0.908563359779475 and parameters: {'learning_rate': 0.05, 'max_depth': 5, 'gamma': 0, 'reg_lambda': 10.0}. Best is trial 16 with value: 0.931777053820429.\n",
            "[I 2025-10-23 14:21:22,812] Trial 70 finished with value: 0.931777053820429 and parameters: {'learning_rate': 0.1, 'max_depth': 5, 'gamma': 0, 'reg_lambda': 0}. Best is trial 16 with value: 0.931777053820429.\n",
            "[I 2025-10-23 14:21:23,586] Trial 71 finished with value: 0.931777053820429 and parameters: {'learning_rate': 0.1, 'max_depth': 5, 'gamma': 0, 'reg_lambda': 0}. Best is trial 16 with value: 0.931777053820429.\n",
            "[I 2025-10-23 14:21:24,375] Trial 72 finished with value: 0.931777053820429 and parameters: {'learning_rate': 0.1, 'max_depth': 5, 'gamma': 0, 'reg_lambda': 0}. Best is trial 16 with value: 0.931777053820429.\n",
            "[I 2025-10-23 14:21:25,168] Trial 73 finished with value: 0.931777053820429 and parameters: {'learning_rate': 0.1, 'max_depth': 5, 'gamma': 0, 'reg_lambda': 0}. Best is trial 16 with value: 0.931777053820429.\n",
            "[I 2025-10-23 14:21:26,119] Trial 74 finished with value: 0.931777053820429 and parameters: {'learning_rate': 0.1, 'max_depth': 5, 'gamma': 0, 'reg_lambda': 0}. Best is trial 16 with value: 0.931777053820429.\n",
            "[I 2025-10-23 14:21:27,572] Trial 75 finished with value: 0.9290105979907756 and parameters: {'learning_rate': 0.1, 'max_depth': 4, 'gamma': 0, 'reg_lambda': 0}. Best is trial 16 with value: 0.931777053820429.\n",
            "[I 2025-10-23 14:21:30,858] Trial 76 finished with value: 0.8855388120189535 and parameters: {'learning_rate': 0.01, 'max_depth': 5, 'gamma': 0, 'reg_lambda': 0}. Best is trial 16 with value: 0.931777053820429.\n",
            "[I 2025-10-23 14:21:33,778] Trial 77 finished with value: 0.9308444379178237 and parameters: {'learning_rate': 0.1, 'max_depth': 5, 'gamma': 0, 'reg_lambda': 1.0}. Best is trial 16 with value: 0.931777053820429.\n",
            "[I 2025-10-23 14:21:37,253] Trial 78 finished with value: 0.9310483918340425 and parameters: {'learning_rate': 0.1, 'max_depth': 5, 'gamma': 0.5, 'reg_lambda': 0}. Best is trial 16 with value: 0.931777053820429.\n",
            "[I 2025-10-23 14:21:38,807] Trial 79 finished with value: 0.9276517773148472 and parameters: {'learning_rate': 0.1, 'max_depth': 5, 'gamma': 1.0, 'reg_lambda': 0}. Best is trial 16 with value: 0.931777053820429.\n",
            "[I 2025-10-23 14:21:39,378] Trial 80 finished with value: 0.9233505880076606 and parameters: {'learning_rate': 0.1, 'max_depth': 3, 'gamma': 0, 'reg_lambda': 0}. Best is trial 16 with value: 0.931777053820429.\n",
            "[I 2025-10-23 14:21:40,156] Trial 81 finished with value: 0.931777053820429 and parameters: {'learning_rate': 0.1, 'max_depth': 5, 'gamma': 0, 'reg_lambda': 0}. Best is trial 16 with value: 0.931777053820429.\n",
            "[I 2025-10-23 14:21:40,964] Trial 82 finished with value: 0.931777053820429 and parameters: {'learning_rate': 0.1, 'max_depth': 5, 'gamma': 0, 'reg_lambda': 0}. Best is trial 16 with value: 0.931777053820429.\n",
            "[I 2025-10-23 14:21:41,795] Trial 83 finished with value: 0.931777053820429 and parameters: {'learning_rate': 0.1, 'max_depth': 5, 'gamma': 0, 'reg_lambda': 0}. Best is trial 16 with value: 0.931777053820429.\n",
            "[I 2025-10-23 14:21:42,581] Trial 84 finished with value: 0.931777053820429 and parameters: {'learning_rate': 0.1, 'max_depth': 5, 'gamma': 0, 'reg_lambda': 0}. Best is trial 16 with value: 0.931777053820429.\n",
            "[I 2025-10-23 14:21:43,316] Trial 85 finished with value: 0.908737746021998 and parameters: {'learning_rate': 0.05, 'max_depth': 5, 'gamma': 0.25, 'reg_lambda': 10.0}. Best is trial 16 with value: 0.931777053820429.\n",
            "[I 2025-10-23 14:21:44,104] Trial 86 finished with value: 0.931777053820429 and parameters: {'learning_rate': 0.1, 'max_depth': 5, 'gamma': 0, 'reg_lambda': 0}. Best is trial 16 with value: 0.931777053820429.\n",
            "[I 2025-10-23 14:21:44,655] Trial 87 finished with value: 0.9290105979907756 and parameters: {'learning_rate': 0.1, 'max_depth': 4, 'gamma': 0, 'reg_lambda': 0}. Best is trial 16 with value: 0.931777053820429.\n",
            "[I 2025-10-23 14:21:45,487] Trial 88 finished with value: 0.931777053820429 and parameters: {'learning_rate': 0.1, 'max_depth': 5, 'gamma': 0, 'reg_lambda': 0}. Best is trial 16 with value: 0.931777053820429.\n",
            "[I 2025-10-23 14:21:46,361] Trial 89 finished with value: 0.8836941486522033 and parameters: {'learning_rate': 0.01, 'max_depth': 5, 'gamma': 0, 'reg_lambda': 1.0}. Best is trial 16 with value: 0.931777053820429.\n",
            "[I 2025-10-23 14:21:47,141] Trial 90 finished with value: 0.931777053820429 and parameters: {'learning_rate': 0.1, 'max_depth': 5, 'gamma': 0, 'reg_lambda': 0}. Best is trial 16 with value: 0.931777053820429.\n",
            "[I 2025-10-23 14:21:47,933] Trial 91 finished with value: 0.931777053820429 and parameters: {'learning_rate': 0.1, 'max_depth': 5, 'gamma': 0, 'reg_lambda': 0}. Best is trial 16 with value: 0.931777053820429.\n",
            "[I 2025-10-23 14:21:48,706] Trial 92 finished with value: 0.931777053820429 and parameters: {'learning_rate': 0.1, 'max_depth': 5, 'gamma': 0, 'reg_lambda': 0}. Best is trial 16 with value: 0.931777053820429.\n",
            "[I 2025-10-23 14:21:50,397] Trial 93 finished with value: 0.931777053820429 and parameters: {'learning_rate': 0.1, 'max_depth': 5, 'gamma': 0, 'reg_lambda': 0}. Best is trial 16 with value: 0.931777053820429.\n",
            "[I 2025-10-23 14:21:51,404] Trial 94 finished with value: 0.931777053820429 and parameters: {'learning_rate': 0.1, 'max_depth': 5, 'gamma': 0, 'reg_lambda': 0}. Best is trial 16 with value: 0.931777053820429.\n",
            "[I 2025-10-23 14:21:52,237] Trial 95 finished with value: 0.931777053820429 and parameters: {'learning_rate': 0.1, 'max_depth': 5, 'gamma': 0, 'reg_lambda': 0}. Best is trial 16 with value: 0.931777053820429.\n",
            "[I 2025-10-23 14:21:52,866] Trial 96 finished with value: 0.9276517773148472 and parameters: {'learning_rate': 0.1, 'max_depth': 5, 'gamma': 1.0, 'reg_lambda': 0}. Best is trial 16 with value: 0.931777053820429.\n",
            "[I 2025-10-23 14:21:53,254] Trial 97 finished with value: 0.9233505880076606 and parameters: {'learning_rate': 0.1, 'max_depth': 3, 'gamma': 0, 'reg_lambda': 0}. Best is trial 16 with value: 0.931777053820429.\n",
            "[I 2025-10-23 14:21:53,996] Trial 98 finished with value: 0.9311879525510861 and parameters: {'learning_rate': 0.1, 'max_depth': 5, 'gamma': 0.25, 'reg_lambda': 0}. Best is trial 16 with value: 0.931777053820429.\n",
            "[I 2025-10-23 14:21:54,736] Trial 99 finished with value: 0.9087049896079239 and parameters: {'learning_rate': 0.05, 'max_depth': 5, 'gamma': 0.5, 'reg_lambda': 10.0}. Best is trial 16 with value: 0.931777053820429.\n"
          ]
        }
      ]
    },
    {
      "cell_type": "code",
      "source": [
        "# Print the best result\n",
        "print(f'Best trial score: {study.best_trial.value}')\n",
        "print(f'Best hyperparameters: {study.best_trial.params}')"
      ],
      "metadata": {
        "colab": {
          "base_uri": "https://localhost:8080/"
        },
        "id": "XMVCD1dbxTTK",
        "outputId": "aec890c5-0f4a-4980-8657-412a00bedc2b"
      },
      "execution_count": null,
      "outputs": [
        {
          "output_type": "stream",
          "name": "stdout",
          "text": [
            "Best trial score: 0.931777053820429\n",
            "Best hyperparameters: {'learning_rate': 0.1, 'max_depth': 5, 'gamma': 0, 'reg_lambda': 0}\n"
          ]
        }
      ]
    },
    {
      "cell_type": "code",
      "source": [
        "# Training a XGBClassifierr using the best hyperparameters from Optuna\n",
        "best_model = XGBClassifier(learning_rate= 0.1, max_depth= 5, gamma= 0, reg_lambda= 0, random_state=42)\n",
        "\n",
        "# Fit the model to the training data\n",
        "best_model.fit(X_train, y_train)\n",
        "\n",
        "# Make predictions on the test set\n",
        "y_pred = best_model.predict(X_test)\n",
        "\n",
        "# Calculate the accuracy on the test set\n",
        "accuracy(y_test, y_pred)\n"
      ],
      "metadata": {
        "colab": {
          "base_uri": "https://localhost:8080/"
        },
        "id": "b8_FbUlUxTRE",
        "outputId": "014fde55-f319-4da7-e143-93287d69bac0"
      },
      "execution_count": null,
      "outputs": [
        {
          "output_type": "stream",
          "name": "stdout",
          "text": [
            "Precision: 0.6497326203208557\n",
            "F1 Score: 0.6059850374064838\n",
            "Recall: 0.5677570093457944\n",
            "ROC-AUC: 0.7171099012070461\n"
          ]
        }
      ]
    },
    {
      "cell_type": "code",
      "source": [
        "cross_val_acc(best_model, X_train, y_train)"
      ],
      "metadata": {
        "colab": {
          "base_uri": "https://localhost:8080/"
        },
        "id": "qmoDiKyl9eQJ",
        "outputId": "feae35a8-3257-45e7-c441-8543c2a67732"
      },
      "execution_count": null,
      "outputs": [
        {
          "output_type": "stream",
          "name": "stdout",
          "text": [
            "Precision: 0.8378961778291814\n",
            "F1 Score: 0.8119000063841236\n",
            "Recall: 0.8200363982862328\n",
            "ROC-AUC: 0.9316921743049962\n"
          ]
        }
      ]
    },
    {
      "cell_type": "code",
      "source": [
        "cm = confusion_matrix(y_test, y_pred)\n",
        "\n",
        "disp = ConfusionMatrixDisplay(confusion_matrix=cm,\n",
        "                              display_labels=best_model.classes_)\n",
        "disp.plot(cmap='Blues', values_format='.2f')\n",
        "plt.title(\"Confusion Matrix\")\n",
        "plt.show()"
      ],
      "metadata": {
        "colab": {
          "base_uri": "https://localhost:8080/",
          "height": 472
        },
        "id": "u5TqYdJ--ASF",
        "outputId": "07071550-f538-4e4a-b2b6-67117dd20d42"
      },
      "execution_count": null,
      "outputs": [
        {
          "output_type": "display_data",
          "data": {
            "text/plain": [
              "<Figure size 640x480 with 2 Axes>"
            ],
            "image/png": "[encoded data removed]"
          },
          "metadata": {}
        }
      ]
    },
    {
      "cell_type": "markdown",
      "source": [
        "**Visualizations**"
      ],
      "metadata": {
        "id": "s4dDgFB3-4oL"
      }
    },
    {
      "cell_type": "code",
      "source": [
        "# 1. Optimization History\n",
        "plot_optimization_history(study).show()"
      ],
      "metadata": {
        "colab": {
          "base_uri": "https://localhost:8080/",
          "height": 542
        },
        "id": "EA5T19HNwYqf",
        "outputId": "cefedf18-d77f-4aba-e7b0-bcc65e011f5f"
      },
      "execution_count": null,
      "outputs": [
        {
          "output_type": "display_data",
          "data": {
            "text/html": [
              "<html>\n",
              "<head><meta charset=\"utf-8\" /></head>\n",
              "<body>\n",
              "    <div>            <script src=\"https://cdnjs.cloudflare.com/ajax/libs/mathjax/2.7.5/MathJax.js?config=TeX-AMS-MML_SVG\"></script><script type=\"text/javascript\">if (window.MathJax && window.MathJax.Hub && window.MathJax.Hub.Config) {window.MathJax.Hub.Config({SVG: {font: \"STIX-Web\"}});}</script>                <script type=\"text/javascript\">window.PlotlyConfig = {MathJaxConfig: 'local'};</script>\n",
              "        <script charset=\"utf-8\" src=\"https://cdn.plot.ly/plotly-2.35.2.min.js\"></script>                <div id=\"ce4b63f4-6662-4016-93bc-aa5ef91b8505\" class=\"plotly-graph-div\" style=\"height:525px; width:100%;\"></div>            <script type=\"text/javascript\">                                    window.PLOTLYENV=window.PLOTLYENV || {};                                    if (document.getElementById(\"ce4b63f4-6662-4016-93bc-aa5ef91b8505\")) {                    Plotly.newPlot(                        \"ce4b63f4-6662-4016-93bc-aa5ef91b8505\",                        [{\"mode\":\"markers\",\"name\":\"Objective Value\",\"x\":[0,1,2,3,4,5,6,7,8,9,10,11,12,13,14,15,16,17,18,19,20,21,22,23,24,25,26,27,28,29,30,31,32,33,34,35,36,37,38,39,40,41,42,43,44,45,46,47,48,49,50,51,52,53,54,55,56,57,58,59,60,61,62,63,64,65,66,67,68,69,70,71,72,73,74,75,76,77,78,79,80,81,82,83,84,85,86,87,88,89,90,91,92,93,94,95,96,97,98,99],\"y\":[0.8836462101022544,0.8622981671086034,0.9276517773148472,0.8854220914283358,0.903232296242885,0.9151669831861962,0.8761548626980243,0.9254819052041209,0.9087049896079239,0.8622981671086034,0.9310483918340425,0.9310483918340425,0.9310483918340425,0.9310483918340425,0.9310483918340425,0.9280860703000574,0.931777053820429,0.931777053820429,0.9195662177082683,0.9199513813715977,0.9218018305457732,0.931777053820429,0.931777053820429,0.931777053820429,0.931777053820429,0.931777053820429,0.931777053820429,0.931777053820429,0.9275357024687482,0.908737746021998,0.8652407094403776,0.931777053820429,0.931777053820429,0.931777053820429,0.931777053820429,0.8855388120189535,0.9233505880076606,0.9235015204284753,0.9211520058100379,0.8749276622075962,0.9311879525510861,0.931777053820429,0.931777053820429,0.931777053820429,0.9276517773148472,0.9233505880076606,0.9218018305457732,0.9226890152910778,0.8854220914283358,0.9290105979907756,0.9305841458861955,0.931777053820429,0.931777053820429,0.931777053820429,0.931777053820429,0.931777053820429,0.92264252219343,0.9218018305457732,0.9226890152910778,0.9290105979907756,0.9276517773148472,0.931777053820429,0.931777053820429,0.931777053820429,0.931777053820429,0.8836941486522033,0.931777053820429,0.9310483918340425,0.9231419821288888,0.908563359779475,0.931777053820429,0.931777053820429,0.931777053820429,0.931777053820429,0.931777053820429,0.9290105979907756,0.8855388120189535,0.9308444379178237,0.9310483918340425,0.9276517773148472,0.9233505880076606,0.931777053820429,0.931777053820429,0.931777053820429,0.931777053820429,0.908737746021998,0.931777053820429,0.9290105979907756,0.931777053820429,0.8836941486522033,0.931777053820429,0.931777053820429,0.931777053820429,0.931777053820429,0.931777053820429,0.931777053820429,0.9276517773148472,0.9233505880076606,0.9311879525510861,0.9087049896079239],\"type\":\"scatter\"},{\"mode\":\"lines\",\"name\":\"Best Value\",\"x\":[0,1,2,3,4,5,6,7,8,9,10,11,12,13,14,15,16,17,18,19,20,21,22,23,24,25,26,27,28,29,30,31,32,33,34,35,36,37,38,39,40,41,42,43,44,45,46,47,48,49,50,51,52,53,54,55,56,57,58,59,60,61,62,63,64,65,66,67,68,69,70,71,72,73,74,75,76,77,78,79,80,81,82,83,84,85,86,87,88,89,90,91,92,93,94,95,96,97,98,99],\"y\":[0.8836462101022544,0.8836462101022544,0.9276517773148472,0.9276517773148472,0.9276517773148472,0.9276517773148472,0.9276517773148472,0.9276517773148472,0.9276517773148472,0.9276517773148472,0.9310483918340425,0.9310483918340425,0.9310483918340425,0.9310483918340425,0.9310483918340425,0.9310483918340425,0.931777053820429,0.931777053820429,0.931777053820429,0.931777053820429,0.931777053820429,0.931777053820429,0.931777053820429,0.931777053820429,0.931777053820429,0.931777053820429,0.931777053820429,0.931777053820429,0.931777053820429,0.931777053820429,0.931777053820429,0.931777053820429,0.931777053820429,0.931777053820429,0.931777053820429,0.931777053820429,0.931777053820429,0.931777053820429,0.931777053820429,0.931777053820429,0.931777053820429,0.931777053820429,0.931777053820429,0.931777053820429,0.931777053820429,0.931777053820429,0.931777053820429,0.931777053820429,0.931777053820429,0.931777053820429,0.931777053820429,0.931777053820429,0.931777053820429,0.931777053820429,0.931777053820429,0.931777053820429,0.931777053820429,0.931777053820429,0.931777053820429,0.931777053820429,0.931777053820429,0.931777053820429,0.931777053820429,0.931777053820429,0.931777053820429,0.931777053820429,0.931777053820429,0.931777053820429,0.931777053820429,0.931777053820429,0.931777053820429,0.931777053820429,0.931777053820429,0.931777053820429,0.931777053820429,0.931777053820429,0.931777053820429,0.931777053820429,0.931777053820429,0.931777053820429,0.931777053820429,0.931777053820429,0.931777053820429,0.931777053820429,0.931777053820429,0.931777053820429,0.931777053820429,0.931777053820429,0.931777053820429,0.931777053820429,0.931777053820429,0.931777053820429,0.931777053820429,0.931777053820429,0.931777053820429,0.931777053820429,0.931777053820429,0.931777053820429,0.931777053820429,0.931777053820429],\"type\":\"scatter\"},{\"marker\":{\"color\":\"#cccccc\"},\"mode\":\"markers\",\"name\":\"Infeasible Trial\",\"showlegend\":false,\"x\":[],\"y\":[],\"type\":\"scatter\"}],                        {\"title\":{\"text\":\"Optimization History Plot\"},\"xaxis\":{\"title\":{\"text\":\"Trial\"}},\"yaxis\":{\"title\":{\"text\":\"Objective Value\"}},\"template\":{\"data\":{\"histogram2dcontour\":[{\"type\":\"histogram2dcontour\",\"colorbar\":{\"outlinewidth\":0,\"ticks\":\"\"},\"colorscale\":[[0.0,\"#0d0887\"],[0.1111111111111111,\"#46039f\"],[0.2222222222222222,\"#7201a8\"],[0.3333333333333333,\"#9c179e\"],[0.4444444444444444,\"#bd3786\"],[0.5555555555555556,\"#d8576b\"],[0.6666666666666666,\"#ed7953\"],[0.7777777777777778,\"#fb9f3a\"],[0.8888888888888888,\"#fdca26\"],[1.0,\"#f0f921\"]]}],\"choropleth\":[{\"type\":\"choropleth\",\"colorbar\":{\"outlinewidth\":0,\"ticks\":\"\"}}],\"histogram2d\":[{\"type\":\"histogram2d\",\"colorbar\":{\"outlinewidth\":0,\"ticks\":\"\"},\"colorscale\":[[0.0,\"#0d0887\"],[0.1111111111111111,\"#46039f\"],[0.2222222222222222,\"#7201a8\"],[0.3333333333333333,\"#9c179e\"],[0.4444444444444444,\"#bd3786\"],[0.5555555555555556,\"#d8576b\"],[0.6666666666666666,\"#ed7953\"],[0.7777777777777778,\"#fb9f3a\"],[0.8888888888888888,\"#fdca26\"],[1.0,\"#f0f921\"]]}],\"heatmap\":[{\"type\":\"heatmap\",\"colorbar\":{\"outlinewidth\":0,\"ticks\":\"\"},\"colorscale\":[[0.0,\"#0d0887\"],[0.1111111111111111,\"#46039f\"],[0.2222222222222222,\"#7201a8\"],[0.3333333333333333,\"#9c179e\"],[0.4444444444444444,\"#bd3786\"],[0.5555555555555556,\"#d8576b\"],[0.6666666666666666,\"#ed7953\"],[0.7777777777777778,\"#fb9f3a\"],[0.8888888888888888,\"#fdca26\"],[1.0,\"#f0f921\"]]}],\"heatmapgl\":[{\"type\":\"heatmapgl\",\"colorbar\":{\"outlinewidth\":0,\"ticks\":\"\"},\"colorscale\":[[0.0,\"#0d0887\"],[0.1111111111111111,\"#46039f\"],[0.2222222222222222,\"#7201a8\"],[0.3333333333333333,\"#9c179e\"],[0.4444444444444444,\"#bd3786\"],[0.5555555555555556,\"#d8576b\"],[0.6666666666666666,\"#ed7953\"],[0.7777777777777778,\"#fb9f3a\"],[0.8888888888888888,\"#fdca26\"],[1.0,\"#f0f921\"]]}],\"contourcarpet\":[{\"type\":\"contourcarpet\",\"colorbar\":{\"outlinewidth\":0,\"ticks\":\"\"}}],\"contour\":[{\"type\":\"contour\",\"colorbar\":{\"outlinewidth\":0,\"ticks\":\"\"},\"colorscale\":[[0.0,\"#0d0887\"],[0.1111111111111111,\"#46039f\"],[0.2222222222222222,\"#7201a8\"],[0.3333333333333333,\"#9c179e\"],[0.4444444444444444,\"#bd3786\"],[0.5555555555555556,\"#d8576b\"],[0.6666666666666666,\"#ed7953\"],[0.7777777777777778,\"#fb9f3a\"],[0.8888888888888888,\"#fdca26\"],[1.0,\"#f0f921\"]]}],\"surface\":[{\"type\":\"surface\",\"colorbar\":{\"outlinewidth\":0,\"ticks\":\"\"},\"colorscale\":[[0.0,\"#0d0887\"],[0.1111111111111111,\"#46039f\"],[0.2222222222222222,\"#7201a8\"],[0.3333333333333333,\"#9c179e\"],[0.4444444444444444,\"#bd3786\"],[0.5555555555555556,\"#d8576b\"],[0.6666666666666666,\"#ed7953\"],[0.7777777777777778,\"#fb9f3a\"],[0.8888888888888888,\"#fdca26\"],[1.0,\"#f0f921\"]]}],\"mesh3d\":[{\"type\":\"mesh3d\",\"colorbar\":{\"outlinewidth\":0,\"ticks\":\"\"}}],\"scatter\":[{\"fillpattern\":{\"fillmode\":\"overlay\",\"size\":10,\"solidity\":0.2},\"type\":\"scatter\"}],\"parcoords\":[{\"type\":\"parcoords\",\"line\":{\"colorbar\":{\"outlinewidth\":0,\"ticks\":\"\"}}}],\"scatterpolargl\":[{\"type\":\"scatterpolargl\",\"marker\":{\"colorbar\":{\"outlinewidth\":0,\"ticks\":\"\"}}}],\"bar\":[{\"error_x\":{\"color\":\"#2a3f5f\"},\"error_y\":{\"color\":\"#2a3f5f\"},\"marker\":{\"line\":{\"color\":\"#E5ECF6\",\"width\":0.5},\"pattern\":{\"fillmode\":\"overlay\",\"size\":10,\"solidity\":0.2}},\"type\":\"bar\"}],\"scattergeo\":[{\"type\":\"scattergeo\",\"marker\":{\"colorbar\":{\"outlinewidth\":0,\"ticks\":\"\"}}}],\"scatterpolar\":[{\"type\":\"scatterpolar\",\"marker\":{\"colorbar\":{\"outlinewidth\":0,\"ticks\":\"\"}}}],\"histogram\":[{\"marker\":{\"pattern\":{\"fillmode\":\"overlay\",\"size\":10,\"solidity\":0.2}},\"type\":\"histogram\"}],\"scattergl\":[{\"type\":\"scattergl\",\"marker\":{\"colorbar\":{\"outlinewidth\":0,\"ticks\":\"\"}}}],\"scatter3d\":[{\"type\":\"scatter3d\",\"line\":{\"colorbar\":{\"outlinewidth\":0,\"ticks\":\"\"}},\"marker\":{\"colorbar\":{\"outlinewidth\":0,\"ticks\":\"\"}}}],\"scattermapbox\":[{\"type\":\"scattermapbox\",\"marker\":{\"colorbar\":{\"outlinewidth\":0,\"ticks\":\"\"}}}],\"scatterternary\":[{\"type\":\"scatterternary\",\"marker\":{\"colorbar\":{\"outlinewidth\":0,\"ticks\":\"\"}}}],\"scattercarpet\":[{\"type\":\"scattercarpet\",\"marker\":{\"colorbar\":{\"outlinewidth\":0,\"ticks\":\"\"}}}],\"carpet\":[{\"aaxis\":{\"endlinecolor\":\"#2a3f5f\",\"gridcolor\":\"white\",\"linecolor\":\"white\",\"minorgridcolor\":\"white\",\"startlinecolor\":\"#2a3f5f\"},\"baxis\":{\"endlinecolor\":\"#2a3f5f\",\"gridcolor\":\"white\",\"linecolor\":\"white\",\"minorgridcolor\":\"white\",\"startlinecolor\":\"#2a3f5f\"},\"type\":\"carpet\"}],\"table\":[{\"cells\":{\"fill\":{\"color\":\"#EBF0F8\"},\"line\":{\"color\":\"white\"}},\"header\":{\"fill\":{\"color\":\"#C8D4E3\"},\"line\":{\"color\":\"white\"}},\"type\":\"table\"}],\"barpolar\":[{\"marker\":{\"line\":{\"color\":\"#E5ECF6\",\"width\":0.5},\"pattern\":{\"fillmode\":\"overlay\",\"size\":10,\"solidity\":0.2}},\"type\":\"barpolar\"}],\"pie\":[{\"automargin\":true,\"type\":\"pie\"}]},\"layout\":{\"autotypenumbers\":\"strict\",\"colorway\":[\"#636efa\",\"#EF553B\",\"#00cc96\",\"#ab63fa\",\"#FFA15A\",\"#19d3f3\",\"#FF6692\",\"#B6E880\",\"#FF97FF\",\"#FECB52\"],\"font\":{\"color\":\"#2a3f5f\"},\"hovermode\":\"closest\",\"hoverlabel\":{\"align\":\"left\"},\"paper_bgcolor\":\"white\",\"plot_bgcolor\":\"#E5ECF6\",\"polar\":{\"bgcolor\":\"#E5ECF6\",\"angularaxis\":{\"gridcolor\":\"white\",\"linecolor\":\"white\",\"ticks\":\"\"},\"radialaxis\":{\"gridcolor\":\"white\",\"linecolor\":\"white\",\"ticks\":\"\"}},\"ternary\":{\"bgcolor\":\"#E5ECF6\",\"aaxis\":{\"gridcolor\":\"white\",\"linecolor\":\"white\",\"ticks\":\"\"},\"baxis\":{\"gridcolor\":\"white\",\"linecolor\":\"white\",\"ticks\":\"\"},\"caxis\":{\"gridcolor\":\"white\",\"linecolor\":\"white\",\"ticks\":\"\"}},\"coloraxis\":{\"colorbar\":{\"outlinewidth\":0,\"ticks\":\"\"}},\"colorscale\":{\"sequential\":[[0.0,\"#0d0887\"],[0.1111111111111111,\"#46039f\"],[0.2222222222222222,\"#7201a8\"],[0.3333333333333333,\"#9c179e\"],[0.4444444444444444,\"#bd3786\"],[0.5555555555555556,\"#d8576b\"],[0.6666666666666666,\"#ed7953\"],[0.7777777777777778,\"#fb9f3a\"],[0.8888888888888888,\"#fdca26\"],[1.0,\"#f0f921\"]],\"sequentialminus\":[[0.0,\"#0d0887\"],[0.1111111111111111,\"#46039f\"],[0.2222222222222222,\"#7201a8\"],[0.3333333333333333,\"#9c179e\"],[0.4444444444444444,\"#bd3786\"],[0.5555555555555556,\"#d8576b\"],[0.6666666666666666,\"#ed7953\"],[0.7777777777777778,\"#fb9f3a\"],[0.8888888888888888,\"#fdca26\"],[1.0,\"#f0f921\"]],\"diverging\":[[0,\"#8e0152\"],[0.1,\"#c51b7d\"],[0.2,\"#de77ae\"],[0.3,\"#f1b6da\"],[0.4,\"#fde0ef\"],[0.5,\"#f7f7f7\"],[0.6,\"#e6f5d0\"],[0.7,\"#b8e186\"],[0.8,\"#7fbc41\"],[0.9,\"#4d9221\"],[1,\"#276419\"]]},\"xaxis\":{\"gridcolor\":\"white\",\"linecolor\":\"white\",\"ticks\":\"\",\"title\":{\"standoff\":15},\"zerolinecolor\":\"white\",\"automargin\":true,\"zerolinewidth\":2},\"yaxis\":{\"gridcolor\":\"white\",\"linecolor\":\"white\",\"ticks\":\"\",\"title\":{\"standoff\":15},\"zerolinecolor\":\"white\",\"automargin\":true,\"zerolinewidth\":2},\"scene\":{\"xaxis\":{\"backgroundcolor\":\"#E5ECF6\",\"gridcolor\":\"white\",\"linecolor\":\"white\",\"showbackground\":true,\"ticks\":\"\",\"zerolinecolor\":\"white\",\"gridwidth\":2},\"yaxis\":{\"backgroundcolor\":\"#E5ECF6\",\"gridcolor\":\"white\",\"linecolor\":\"white\",\"showbackground\":true,\"ticks\":\"\",\"zerolinecolor\":\"white\",\"gridwidth\":2},\"zaxis\":{\"backgroundcolor\":\"#E5ECF6\",\"gridcolor\":\"white\",\"linecolor\":\"white\",\"showbackground\":true,\"ticks\":\"\",\"zerolinecolor\":\"white\",\"gridwidth\":2}},\"shapedefaults\":{\"line\":{\"color\":\"#2a3f5f\"}},\"annotationdefaults\":{\"arrowcolor\":\"#2a3f5f\",\"arrowhead\":0,\"arrowwidth\":1},\"geo\":{\"bgcolor\":\"white\",\"landcolor\":\"#E5ECF6\",\"subunitcolor\":\"white\",\"showland\":true,\"showlakes\":true,\"lakecolor\":\"white\"},\"title\":{\"x\":0.05},\"mapbox\":{\"style\":\"light\"}}}},                        {\"responsive\": true}                    ).then(function(){\n",
              "                            \n",
              "var gd = document.getElementById('ce4b63f4-6662-4016-93bc-aa5ef91b8505');\n",
              "var x = new MutationObserver(function (mutations, observer) {{\n",
              "        var display = window.getComputedStyle(gd).display;\n",
              "        if (!display || display === 'none') {{\n",
              "            console.log([gd, 'removed!']);\n",
              "            Plotly.purge(gd);\n",
              "            observer.disconnect();\n",
              "        }}\n",
              "}});\n",
              "\n",
              "// Listen for the removal of the full notebook cells\n",
              "var notebookContainer = gd.closest('#notebook-container');\n",
              "if (notebookContainer) {{\n",
              "    x.observe(notebookContainer, {childList: true});\n",
              "}}\n",
              "\n",
              "// Listen for the clearing of the current output cell\n",
              "var outputEl = gd.closest('.output');\n",
              "if (outputEl) {{\n",
              "    x.observe(outputEl, {childList: true});\n",
              "}}\n",
              "\n",
              "                        })                };                            </script>        </div>\n",
              "</body>\n",
              "</html>"
            ]
          },
          "metadata": {}
        }
      ]
    },
    {
      "cell_type": "code",
      "source": [
        "# 2. Parallel Coordinates Plot\n",
        "plot_parallel_coordinate(study).show()"
      ],
      "metadata": {
        "colab": {
          "base_uri": "https://localhost:8080/",
          "height": 542
        },
        "id": "9JvgNAl28M8h",
        "outputId": "f56be2de-6e5c-4e26-d699-1b891a2680be"
      },
      "execution_count": null,
      "outputs": [
        {
          "output_type": "display_data",
          "data": {
            "text/html": [
              "<html>\n",
              "<head><meta charset=\"utf-8\" /></head>\n",
              "<body>\n",
              "    <div>            <script src=\"https://cdnjs.cloudflare.com/ajax/libs/mathjax/2.7.5/MathJax.js?config=TeX-AMS-MML_SVG\"></script><script type=\"text/javascript\">if (window.MathJax && window.MathJax.Hub && window.MathJax.Hub.Config) {window.MathJax.Hub.Config({SVG: {font: \"STIX-Web\"}});}</script>                <script type=\"text/javascript\">window.PlotlyConfig = {MathJaxConfig: 'local'};</script>\n",
              "        <script charset=\"utf-8\" src=\"https://cdn.plot.ly/plotly-2.35.2.min.js\"></script>                <div id=\"fb4eb68b-0016-4a14-94fc-1a936b83e1f9\" class=\"plotly-graph-div\" style=\"height:525px; width:100%;\"></div>            <script type=\"text/javascript\">                                    window.PLOTLYENV=window.PLOTLYENV || {};                                    if (document.getElementById(\"fb4eb68b-0016-4a14-94fc-1a936b83e1f9\")) {                    Plotly.newPlot(                        \"fb4eb68b-0016-4a14-94fc-1a936b83e1f9\",                        [{\"dimensions\":[{\"label\":\"Objective Value\",\"range\":[0.8622981671086034,0.931777053820429],\"values\":[0.8652407094403776,0.8749276622075962,0.8855388120189535,0.8855388120189535,0.8836941486522033,0.8836941486522033,0.903232296242885,0.9218018305457732,0.9218018305457732,0.9218018305457732,0.908563359779475,0.9233505880076606,0.9233505880076606,0.9233505880076606,0.9233505880076606,0.9195662177082683,0.9290105979907756,0.9290105979907756,0.9290105979907756,0.9290105979907756,0.9275357024687482,0.9199513813715977,0.931777053820429,0.931777053820429,0.931777053820429,0.931777053820429,0.931777053820429,0.931777053820429,0.931777053820429,0.931777053820429,0.931777053820429,0.931777053820429,0.931777053820429,0.931777053820429,0.931777053820429,0.931777053820429,0.931777053820429,0.931777053820429,0.931777053820429,0.931777053820429,0.931777053820429,0.931777053820429,0.931777053820429,0.931777053820429,0.931777053820429,0.931777053820429,0.931777053820429,0.931777053820429,0.931777053820429,0.931777053820429,0.931777053820429,0.931777053820429,0.931777053820429,0.931777053820429,0.931777053820429,0.931777053820429,0.931777053820429,0.931777053820429,0.931777053820429,0.931777053820429,0.931777053820429,0.931777053820429,0.931777053820429,0.931777053820429,0.931777053820429,0.9308444379178237,0.9226890152910778,0.9226890152910778,0.8761548626980243,0.8836462101022544,0.9151669831861962,0.908737746021998,0.908737746021998,0.9231419821288888,0.9311879525510861,0.9311879525510861,0.9305841458861955,0.9235015204284753,0.9087049896079239,0.9087049896079239,0.92264252219343,0.9280860703000574,0.9310483918340425,0.9310483918340425,0.9310483918340425,0.9310483918340425,0.9310483918340425,0.9310483918340425,0.9310483918340425,0.8622981671086034,0.8622981671086034,0.8854220914283358,0.8854220914283358,0.9211520058100379,0.9276517773148472,0.9276517773148472,0.9276517773148472,0.9276517773148472,0.9276517773148472,0.9254819052041209]},{\"label\":\"gamma\",\"range\":[0,3],\"ticktext\":[\"0\",\"0.25\",\"0.5\",\"1.0\"],\"tickvals\":[0,1,2,3],\"values\":[0,0,0,0,0,0,0,0,0,0,0,0,0,0,0,0,0,0,0,0,0,0,0,0,0,0,0,0,0,0,0,0,0,0,0,0,0,0,0,0,0,0,0,0,0,0,0,0,0,0,0,0,0,0,0,0,0,0,0,0,0,0,0,0,0,0,0,0,1,1,1,1,1,1,1,1,1,1,2,2,2,2,2,2,2,2,2,2,2,3,3,3,3,3,3,3,3,3,3,3]},{\"label\":\"learning_rate\",\"range\":[0,2],\"ticktext\":[\"0.01\",\"0.05\",\"0.1\"],\"tickvals\":[0,1,2],\"values\":[0,0,0,0,0,0,1,1,1,1,1,2,2,2,2,2,2,2,2,2,2,2,2,2,2,2,2,2,2,2,2,2,2,2,2,2,2,2,2,2,2,2,2,2,2,2,2,2,2,2,2,2,2,2,2,2,2,2,2,2,2,2,2,2,2,2,2,2,0,0,1,1,1,2,2,2,2,2,1,1,2,2,2,2,2,2,2,2,2,0,0,0,0,1,2,2,2,2,2,2]},{\"label\":\"max_depth\",\"range\":[0,2],\"ticktext\":[\"3\",\"4\",\"5\"],\"tickvals\":[0,1,2],\"values\":[0,1,2,2,2,2,0,2,2,2,2,0,0,0,0,0,1,1,1,1,1,1,2,2,2,2,2,2,2,2,2,2,2,2,2,2,2,2,2,2,2,2,2,2,2,2,2,2,2,2,2,2,2,2,2,2,2,2,2,2,2,2,2,2,2,2,2,2,1,2,1,2,2,0,2,2,2,2,2,2,0,1,2,2,2,2,2,2,2,0,0,2,2,2,2,2,2,2,2,2]},{\"label\":\"reg_lambda\",\"range\":[0,2],\"ticktext\":[\"0\",\"1.0\",\"10.0\"],\"tickvals\":[0,1,2],\"values\":[1,1,0,0,1,1,1,0,0,0,2,0,0,0,0,1,0,0,0,0,1,2,0,0,0,0,0,0,0,0,0,0,0,0,0,0,0,0,0,0,0,0,0,0,0,0,0,0,0,0,0,0,0,0,0,0,0,0,0,0,0,0,0,0,0,1,2,2,0,1,0,2,2,0,0,0,1,2,2,2,0,0,0,0,0,0,0,0,0,2,2,0,0,0,0,0,0,0,0,1]}],\"labelangle\":30,\"labelside\":\"bottom\",\"line\":{\"color\":[0.8652407094403776,0.8749276622075962,0.8855388120189535,0.8855388120189535,0.8836941486522033,0.8836941486522033,0.903232296242885,0.9218018305457732,0.9218018305457732,0.9218018305457732,0.908563359779475,0.9233505880076606,0.9233505880076606,0.9233505880076606,0.9233505880076606,0.9195662177082683,0.9290105979907756,0.9290105979907756,0.9290105979907756,0.9290105979907756,0.9275357024687482,0.9199513813715977,0.931777053820429,0.931777053820429,0.931777053820429,0.931777053820429,0.931777053820429,0.931777053820429,0.931777053820429,0.931777053820429,0.931777053820429,0.931777053820429,0.931777053820429,0.931777053820429,0.931777053820429,0.931777053820429,0.931777053820429,0.931777053820429,0.931777053820429,0.931777053820429,0.931777053820429,0.931777053820429,0.931777053820429,0.931777053820429,0.931777053820429,0.931777053820429,0.931777053820429,0.931777053820429,0.931777053820429,0.931777053820429,0.931777053820429,0.931777053820429,0.931777053820429,0.931777053820429,0.931777053820429,0.931777053820429,0.931777053820429,0.931777053820429,0.931777053820429,0.931777053820429,0.931777053820429,0.931777053820429,0.931777053820429,0.931777053820429,0.931777053820429,0.9308444379178237,0.9226890152910778,0.9226890152910778,0.8761548626980243,0.8836462101022544,0.9151669831861962,0.908737746021998,0.908737746021998,0.9231419821288888,0.9311879525510861,0.9311879525510861,0.9305841458861955,0.9235015204284753,0.9087049896079239,0.9087049896079239,0.92264252219343,0.9280860703000574,0.9310483918340425,0.9310483918340425,0.9310483918340425,0.9310483918340425,0.9310483918340425,0.9310483918340425,0.9310483918340425,0.8622981671086034,0.8622981671086034,0.8854220914283358,0.8854220914283358,0.9211520058100379,0.9276517773148472,0.9276517773148472,0.9276517773148472,0.9276517773148472,0.9276517773148472,0.9254819052041209],\"colorbar\":{\"title\":{\"text\":\"Objective Value\"}},\"colorscale\":[[0.0,\"rgb(247,251,255)\"],[0.125,\"rgb(222,235,247)\"],[0.25,\"rgb(198,219,239)\"],[0.375,\"rgb(158,202,225)\"],[0.5,\"rgb(107,174,214)\"],[0.625,\"rgb(66,146,198)\"],[0.75,\"rgb(33,113,181)\"],[0.875,\"rgb(8,81,156)\"],[1.0,\"rgb(8,48,107)\"]],\"reversescale\":false,\"showscale\":true},\"type\":\"parcoords\"}],                        {\"title\":{\"text\":\"Parallel Coordinate Plot\"},\"template\":{\"data\":{\"histogram2dcontour\":[{\"type\":\"histogram2dcontour\",\"colorbar\":{\"outlinewidth\":0,\"ticks\":\"\"},\"colorscale\":[[0.0,\"#0d0887\"],[0.1111111111111111,\"#46039f\"],[0.2222222222222222,\"#7201a8\"],[0.3333333333333333,\"#9c179e\"],[0.4444444444444444,\"#bd3786\"],[0.5555555555555556,\"#d8576b\"],[0.6666666666666666,\"#ed7953\"],[0.7777777777777778,\"#fb9f3a\"],[0.8888888888888888,\"#fdca26\"],[1.0,\"#f0f921\"]]}],\"choropleth\":[{\"type\":\"choropleth\",\"colorbar\":{\"outlinewidth\":0,\"ticks\":\"\"}}],\"histogram2d\":[{\"type\":\"histogram2d\",\"colorbar\":{\"outlinewidth\":0,\"ticks\":\"\"},\"colorscale\":[[0.0,\"#0d0887\"],[0.1111111111111111,\"#46039f\"],[0.2222222222222222,\"#7201a8\"],[0.3333333333333333,\"#9c179e\"],[0.4444444444444444,\"#bd3786\"],[0.5555555555555556,\"#d8576b\"],[0.6666666666666666,\"#ed7953\"],[0.7777777777777778,\"#fb9f3a\"],[0.8888888888888888,\"#fdca26\"],[1.0,\"#f0f921\"]]}],\"heatmap\":[{\"type\":\"heatmap\",\"colorbar\":{\"outlinewidth\":0,\"ticks\":\"\"},\"colorscale\":[[0.0,\"#0d0887\"],[0.1111111111111111,\"#46039f\"],[0.2222222222222222,\"#7201a8\"],[0.3333333333333333,\"#9c179e\"],[0.4444444444444444,\"#bd3786\"],[0.5555555555555556,\"#d8576b\"],[0.6666666666666666,\"#ed7953\"],[0.7777777777777778,\"#fb9f3a\"],[0.8888888888888888,\"#fdca26\"],[1.0,\"#f0f921\"]]}],\"heatmapgl\":[{\"type\":\"heatmapgl\",\"colorbar\":{\"outlinewidth\":0,\"ticks\":\"\"},\"colorscale\":[[0.0,\"#0d0887\"],[0.1111111111111111,\"#46039f\"],[0.2222222222222222,\"#7201a8\"],[0.3333333333333333,\"#9c179e\"],[0.4444444444444444,\"#bd3786\"],[0.5555555555555556,\"#d8576b\"],[0.6666666666666666,\"#ed7953\"],[0.7777777777777778,\"#fb9f3a\"],[0.8888888888888888,\"#fdca26\"],[1.0,\"#f0f921\"]]}],\"contourcarpet\":[{\"type\":\"contourcarpet\",\"colorbar\":{\"outlinewidth\":0,\"ticks\":\"\"}}],\"contour\":[{\"type\":\"contour\",\"colorbar\":{\"outlinewidth\":0,\"ticks\":\"\"},\"colorscale\":[[0.0,\"#0d0887\"],[0.1111111111111111,\"#46039f\"],[0.2222222222222222,\"#7201a8\"],[0.3333333333333333,\"#9c179e\"],[0.4444444444444444,\"#bd3786\"],[0.5555555555555556,\"#d8576b\"],[0.6666666666666666,\"#ed7953\"],[0.7777777777777778,\"#fb9f3a\"],[0.8888888888888888,\"#fdca26\"],[1.0,\"#f0f921\"]]}],\"surface\":[{\"type\":\"surface\",\"colorbar\":{\"outlinewidth\":0,\"ticks\":\"\"},\"colorscale\":[[0.0,\"#0d0887\"],[0.1111111111111111,\"#46039f\"],[0.2222222222222222,\"#7201a8\"],[0.3333333333333333,\"#9c179e\"],[0.4444444444444444,\"#bd3786\"],[0.5555555555555556,\"#d8576b\"],[0.6666666666666666,\"#ed7953\"],[0.7777777777777778,\"#fb9f3a\"],[0.8888888888888888,\"#fdca26\"],[1.0,\"#f0f921\"]]}],\"mesh3d\":[{\"type\":\"mesh3d\",\"colorbar\":{\"outlinewidth\":0,\"ticks\":\"\"}}],\"scatter\":[{\"fillpattern\":{\"fillmode\":\"overlay\",\"size\":10,\"solidity\":0.2},\"type\":\"scatter\"}],\"parcoords\":[{\"type\":\"parcoords\",\"line\":{\"colorbar\":{\"outlinewidth\":0,\"ticks\":\"\"}}}],\"scatterpolargl\":[{\"type\":\"scatterpolargl\",\"marker\":{\"colorbar\":{\"outlinewidth\":0,\"ticks\":\"\"}}}],\"bar\":[{\"error_x\":{\"color\":\"#2a3f5f\"},\"error_y\":{\"color\":\"#2a3f5f\"},\"marker\":{\"line\":{\"color\":\"#E5ECF6\",\"width\":0.5},\"pattern\":{\"fillmode\":\"overlay\",\"size\":10,\"solidity\":0.2}},\"type\":\"bar\"}],\"scattergeo\":[{\"type\":\"scattergeo\",\"marker\":{\"colorbar\":{\"outlinewidth\":0,\"ticks\":\"\"}}}],\"scatterpolar\":[{\"type\":\"scatterpolar\",\"marker\":{\"colorbar\":{\"outlinewidth\":0,\"ticks\":\"\"}}}],\"histogram\":[{\"marker\":{\"pattern\":{\"fillmode\":\"overlay\",\"size\":10,\"solidity\":0.2}},\"type\":\"histogram\"}],\"scattergl\":[{\"type\":\"scattergl\",\"marker\":{\"colorbar\":{\"outlinewidth\":0,\"ticks\":\"\"}}}],\"scatter3d\":[{\"type\":\"scatter3d\",\"line\":{\"colorbar\":{\"outlinewidth\":0,\"ticks\":\"\"}},\"marker\":{\"colorbar\":{\"outlinewidth\":0,\"ticks\":\"\"}}}],\"scattermapbox\":[{\"type\":\"scattermapbox\",\"marker\":{\"colorbar\":{\"outlinewidth\":0,\"ticks\":\"\"}}}],\"scatterternary\":[{\"type\":\"scatterternary\",\"marker\":{\"colorbar\":{\"outlinewidth\":0,\"ticks\":\"\"}}}],\"scattercarpet\":[{\"type\":\"scattercarpet\",\"marker\":{\"colorbar\":{\"outlinewidth\":0,\"ticks\":\"\"}}}],\"carpet\":[{\"aaxis\":{\"endlinecolor\":\"#2a3f5f\",\"gridcolor\":\"white\",\"linecolor\":\"white\",\"minorgridcolor\":\"white\",\"startlinecolor\":\"#2a3f5f\"},\"baxis\":{\"endlinecolor\":\"#2a3f5f\",\"gridcolor\":\"white\",\"linecolor\":\"white\",\"minorgridcolor\":\"white\",\"startlinecolor\":\"#2a3f5f\"},\"type\":\"carpet\"}],\"table\":[{\"cells\":{\"fill\":{\"color\":\"#EBF0F8\"},\"line\":{\"color\":\"white\"}},\"header\":{\"fill\":{\"color\":\"#C8D4E3\"},\"line\":{\"color\":\"white\"}},\"type\":\"table\"}],\"barpolar\":[{\"marker\":{\"line\":{\"color\":\"#E5ECF6\",\"width\":0.5},\"pattern\":{\"fillmode\":\"overlay\",\"size\":10,\"solidity\":0.2}},\"type\":\"barpolar\"}],\"pie\":[{\"automargin\":true,\"type\":\"pie\"}]},\"layout\":{\"autotypenumbers\":\"strict\",\"colorway\":[\"#636efa\",\"#EF553B\",\"#00cc96\",\"#ab63fa\",\"#FFA15A\",\"#19d3f3\",\"#FF6692\",\"#B6E880\",\"#FF97FF\",\"#FECB52\"],\"font\":{\"color\":\"#2a3f5f\"},\"hovermode\":\"closest\",\"hoverlabel\":{\"align\":\"left\"},\"paper_bgcolor\":\"white\",\"plot_bgcolor\":\"#E5ECF6\",\"polar\":{\"bgcolor\":\"#E5ECF6\",\"angularaxis\":{\"gridcolor\":\"white\",\"linecolor\":\"white\",\"ticks\":\"\"},\"radialaxis\":{\"gridcolor\":\"white\",\"linecolor\":\"white\",\"ticks\":\"\"}},\"ternary\":{\"bgcolor\":\"#E5ECF6\",\"aaxis\":{\"gridcolor\":\"white\",\"linecolor\":\"white\",\"ticks\":\"\"},\"baxis\":{\"gridcolor\":\"white\",\"linecolor\":\"white\",\"ticks\":\"\"},\"caxis\":{\"gridcolor\":\"white\",\"linecolor\":\"white\",\"ticks\":\"\"}},\"coloraxis\":{\"colorbar\":{\"outlinewidth\":0,\"ticks\":\"\"}},\"colorscale\":{\"sequential\":[[0.0,\"#0d0887\"],[0.1111111111111111,\"#46039f\"],[0.2222222222222222,\"#7201a8\"],[0.3333333333333333,\"#9c179e\"],[0.4444444444444444,\"#bd3786\"],[0.5555555555555556,\"#d8576b\"],[0.6666666666666666,\"#ed7953\"],[0.7777777777777778,\"#fb9f3a\"],[0.8888888888888888,\"#fdca26\"],[1.0,\"#f0f921\"]],\"sequentialminus\":[[0.0,\"#0d0887\"],[0.1111111111111111,\"#46039f\"],[0.2222222222222222,\"#7201a8\"],[0.3333333333333333,\"#9c179e\"],[0.4444444444444444,\"#bd3786\"],[0.5555555555555556,\"#d8576b\"],[0.6666666666666666,\"#ed7953\"],[0.7777777777777778,\"#fb9f3a\"],[0.8888888888888888,\"#fdca26\"],[1.0,\"#f0f921\"]],\"diverging\":[[0,\"#8e0152\"],[0.1,\"#c51b7d\"],[0.2,\"#de77ae\"],[0.3,\"#f1b6da\"],[0.4,\"#fde0ef\"],[0.5,\"#f7f7f7\"],[0.6,\"#e6f5d0\"],[0.7,\"#b8e186\"],[0.8,\"#7fbc41\"],[0.9,\"#4d9221\"],[1,\"#276419\"]]},\"xaxis\":{\"gridcolor\":\"white\",\"linecolor\":\"white\",\"ticks\":\"\",\"title\":{\"standoff\":15},\"zerolinecolor\":\"white\",\"automargin\":true,\"zerolinewidth\":2},\"yaxis\":{\"gridcolor\":\"white\",\"linecolor\":\"white\",\"ticks\":\"\",\"title\":{\"standoff\":15},\"zerolinecolor\":\"white\",\"automargin\":true,\"zerolinewidth\":2},\"scene\":{\"xaxis\":{\"backgroundcolor\":\"#E5ECF6\",\"gridcolor\":\"white\",\"linecolor\":\"white\",\"showbackground\":true,\"ticks\":\"\",\"zerolinecolor\":\"white\",\"gridwidth\":2},\"yaxis\":{\"backgroundcolor\":\"#E5ECF6\",\"gridcolor\":\"white\",\"linecolor\":\"white\",\"showbackground\":true,\"ticks\":\"\",\"zerolinecolor\":\"white\",\"gridwidth\":2},\"zaxis\":{\"backgroundcolor\":\"#E5ECF6\",\"gridcolor\":\"white\",\"linecolor\":\"white\",\"showbackground\":true,\"ticks\":\"\",\"zerolinecolor\":\"white\",\"gridwidth\":2}},\"shapedefaults\":{\"line\":{\"color\":\"#2a3f5f\"}},\"annotationdefaults\":{\"arrowcolor\":\"#2a3f5f\",\"arrowhead\":0,\"arrowwidth\":1},\"geo\":{\"bgcolor\":\"white\",\"landcolor\":\"#E5ECF6\",\"subunitcolor\":\"white\",\"showland\":true,\"showlakes\":true,\"lakecolor\":\"white\"},\"title\":{\"x\":0.05},\"mapbox\":{\"style\":\"light\"}}}},                        {\"responsive\": true}                    ).then(function(){\n",
              "                            \n",
              "var gd = document.getElementById('fb4eb68b-0016-4a14-94fc-1a936b83e1f9');\n",
              "var x = new MutationObserver(function (mutations, observer) {{\n",
              "        var display = window.getComputedStyle(gd).display;\n",
              "        if (!display || display === 'none') {{\n",
              "            console.log([gd, 'removed!']);\n",
              "            Plotly.purge(gd);\n",
              "            observer.disconnect();\n",
              "        }}\n",
              "}});\n",
              "\n",
              "// Listen for the removal of the full notebook cells\n",
              "var notebookContainer = gd.closest('#notebook-container');\n",
              "if (notebookContainer) {{\n",
              "    x.observe(notebookContainer, {childList: true});\n",
              "}}\n",
              "\n",
              "// Listen for the clearing of the current output cell\n",
              "var outputEl = gd.closest('.output');\n",
              "if (outputEl) {{\n",
              "    x.observe(outputEl, {childList: true});\n",
              "}}\n",
              "\n",
              "                        })                };                            </script>        </div>\n",
              "</body>\n",
              "</html>"
            ]
          },
          "metadata": {}
        }
      ]
    },
    {
      "cell_type": "code",
      "source": [
        "# 3. Slice Plot\n",
        "plot_slice(study).show()"
      ],
      "metadata": {
        "colab": {
          "base_uri": "https://localhost:8080/",
          "height": 542
        },
        "id": "1iggAk9N8Sd4",
        "outputId": "a4866e41-0038-49a1-9071-8f23cecf3c84"
      },
      "execution_count": null,
      "outputs": [
        {
          "output_type": "display_data",
          "data": {
            "text/html": [
              "<html>\n",
              "<head><meta charset=\"utf-8\" /></head>\n",
              "<body>\n",
              "    <div>            <script src=\"https://cdnjs.cloudflare.com/ajax/libs/mathjax/2.7.5/MathJax.js?config=TeX-AMS-MML_SVG\"></script><script type=\"text/javascript\">if (window.MathJax && window.MathJax.Hub && window.MathJax.Hub.Config) {window.MathJax.Hub.Config({SVG: {font: \"STIX-Web\"}});}</script>                <script type=\"text/javascript\">window.PlotlyConfig = {MathJaxConfig: 'local'};</script>\n",
              "        <script charset=\"utf-8\" src=\"https://cdn.plot.ly/plotly-2.35.2.min.js\"></script>                <div id=\"003d8e72-1e17-47ba-aae8-1b10185f317e\" class=\"plotly-graph-div\" style=\"height:525px; width:1200px;\"></div>            <script type=\"text/javascript\">                                    window.PLOTLYENV=window.PLOTLYENV || {};                                    if (document.getElementById(\"003d8e72-1e17-47ba-aae8-1b10185f317e\")) {                    Plotly.newPlot(                        \"003d8e72-1e17-47ba-aae8-1b10185f317e\",                        [{\"marker\":{\"color\":[0,1,2,3,4,5,6,7,8,9,10,11,12,13,14,15,16,17,18,19,20,21,22,23,24,25,26,27,28,29,30,31,32,33,34,35,36,37,38,39,40,41,42,43,44,45,46,47,48,49,50,51,52,53,54,55,56,57,58,59,60,61,62,63,64,65,66,67,68,69,70,71,72,73,74,75,76,77,78,79,80,81,82,83,84,85,86,87,88,89,90,91,92,93,94,95,96,97,98,99],\"colorbar\":{\"title\":{\"text\":\"Trial\"},\"x\":1.0,\"xpad\":40},\"colorscale\":[[0.0,\"rgb(247,251,255)\"],[0.125,\"rgb(222,235,247)\"],[0.25,\"rgb(198,219,239)\"],[0.375,\"rgb(158,202,225)\"],[0.5,\"rgb(107,174,214)\"],[0.625,\"rgb(66,146,198)\"],[0.75,\"rgb(33,113,181)\"],[0.875,\"rgb(8,81,156)\"],[1.0,\"rgb(8,48,107)\"]],\"line\":{\"color\":\"Grey\",\"width\":0.5},\"showscale\":true},\"mode\":\"markers\",\"name\":\"Feasible Trial\",\"showlegend\":false,\"x\":[0.25,1.0,1.0,1.0,0,0.25,0.25,1.0,0.5,1.0,0.5,0.5,0.5,0.5,0.5,0.5,0,0,0,0,0,0,0,0,0,0,0,0,0,0.25,0,0,0,0,0,0,0,0.25,1.0,0,0.25,0,0,0,1.0,0,0,0,1.0,0,0.25,0,0,0,0,0,0.5,0,0,0,1.0,0,0,0,0,0,0,0.5,0.25,0,0,0,0,0,0,0,0,0,0.5,1.0,0,0,0,0,0,0.25,0,0,0,0,0,0,0,0,0,0,1.0,0,0.25,0.5],\"y\":[0.8836462101022544,0.8622981671086034,0.9276517773148472,0.8854220914283358,0.903232296242885,0.9151669831861962,0.8761548626980243,0.9254819052041209,0.9087049896079239,0.8622981671086034,0.9310483918340425,0.9310483918340425,0.9310483918340425,0.9310483918340425,0.9310483918340425,0.9280860703000574,0.931777053820429,0.931777053820429,0.9195662177082683,0.9199513813715977,0.9218018305457732,0.931777053820429,0.931777053820429,0.931777053820429,0.931777053820429,0.931777053820429,0.931777053820429,0.931777053820429,0.9275357024687482,0.908737746021998,0.8652407094403776,0.931777053820429,0.931777053820429,0.931777053820429,0.931777053820429,0.8855388120189535,0.9233505880076606,0.9235015204284753,0.9211520058100379,0.8749276622075962,0.9311879525510861,0.931777053820429,0.931777053820429,0.931777053820429,0.9276517773148472,0.9233505880076606,0.9218018305457732,0.9226890152910778,0.8854220914283358,0.9290105979907756,0.9305841458861955,0.931777053820429,0.931777053820429,0.931777053820429,0.931777053820429,0.931777053820429,0.92264252219343,0.9218018305457732,0.9226890152910778,0.9290105979907756,0.9276517773148472,0.931777053820429,0.931777053820429,0.931777053820429,0.931777053820429,0.8836941486522033,0.931777053820429,0.9310483918340425,0.9231419821288888,0.908563359779475,0.931777053820429,0.931777053820429,0.931777053820429,0.931777053820429,0.931777053820429,0.9290105979907756,0.8855388120189535,0.9308444379178237,0.9310483918340425,0.9276517773148472,0.9233505880076606,0.931777053820429,0.931777053820429,0.931777053820429,0.931777053820429,0.908737746021998,0.931777053820429,0.9290105979907756,0.931777053820429,0.8836941486522033,0.931777053820429,0.931777053820429,0.931777053820429,0.931777053820429,0.931777053820429,0.931777053820429,0.9276517773148472,0.9233505880076606,0.9311879525510861,0.9087049896079239],\"type\":\"scatter\",\"xaxis\":\"x\",\"yaxis\":\"y\"},{\"marker\":{\"color\":[0,1,2,3,4,5,6,7,8,9,10,11,12,13,14,15,16,17,18,19,20,21,22,23,24,25,26,27,28,29,30,31,32,33,34,35,36,37,38,39,40,41,42,43,44,45,46,47,48,49,50,51,52,53,54,55,56,57,58,59,60,61,62,63,64,65,66,67,68,69,70,71,72,73,74,75,76,77,78,79,80,81,82,83,84,85,86,87,88,89,90,91,92,93,94,95,96,97,98,99],\"colorbar\":{\"title\":{\"text\":\"Trial\"},\"x\":1.0,\"xpad\":40},\"colorscale\":[[0.0,\"rgb(247,251,255)\"],[0.125,\"rgb(222,235,247)\"],[0.25,\"rgb(198,219,239)\"],[0.375,\"rgb(158,202,225)\"],[0.5,\"rgb(107,174,214)\"],[0.625,\"rgb(66,146,198)\"],[0.75,\"rgb(33,113,181)\"],[0.875,\"rgb(8,81,156)\"],[1.0,\"rgb(8,48,107)\"]],\"line\":{\"color\":\"Grey\",\"width\":0.5},\"showscale\":false},\"mode\":\"markers\",\"name\":\"Feasible Trial\",\"showlegend\":false,\"x\":[0.01,0.01,0.1,0.01,0.05,0.05,0.01,0.1,0.05,0.01,0.1,0.1,0.1,0.1,0.1,0.1,0.1,0.1,0.1,0.1,0.05,0.1,0.1,0.1,0.1,0.1,0.1,0.1,0.1,0.05,0.01,0.1,0.1,0.1,0.1,0.01,0.1,0.1,0.05,0.01,0.1,0.1,0.1,0.1,0.1,0.1,0.05,0.1,0.01,0.1,0.1,0.1,0.1,0.1,0.1,0.1,0.1,0.05,0.1,0.1,0.1,0.1,0.1,0.1,0.1,0.01,0.1,0.1,0.1,0.05,0.1,0.1,0.1,0.1,0.1,0.1,0.01,0.1,0.1,0.1,0.1,0.1,0.1,0.1,0.1,0.05,0.1,0.1,0.1,0.01,0.1,0.1,0.1,0.1,0.1,0.1,0.1,0.1,0.1,0.05],\"y\":[0.8836462101022544,0.8622981671086034,0.9276517773148472,0.8854220914283358,0.903232296242885,0.9151669831861962,0.8761548626980243,0.9254819052041209,0.9087049896079239,0.8622981671086034,0.9310483918340425,0.9310483918340425,0.9310483918340425,0.9310483918340425,0.9310483918340425,0.9280860703000574,0.931777053820429,0.931777053820429,0.9195662177082683,0.9199513813715977,0.9218018305457732,0.931777053820429,0.931777053820429,0.931777053820429,0.931777053820429,0.931777053820429,0.931777053820429,0.931777053820429,0.9275357024687482,0.908737746021998,0.8652407094403776,0.931777053820429,0.931777053820429,0.931777053820429,0.931777053820429,0.8855388120189535,0.9233505880076606,0.9235015204284753,0.9211520058100379,0.8749276622075962,0.9311879525510861,0.931777053820429,0.931777053820429,0.931777053820429,0.9276517773148472,0.9233505880076606,0.9218018305457732,0.9226890152910778,0.8854220914283358,0.9290105979907756,0.9305841458861955,0.931777053820429,0.931777053820429,0.931777053820429,0.931777053820429,0.931777053820429,0.92264252219343,0.9218018305457732,0.9226890152910778,0.9290105979907756,0.9276517773148472,0.931777053820429,0.931777053820429,0.931777053820429,0.931777053820429,0.8836941486522033,0.931777053820429,0.9310483918340425,0.9231419821288888,0.908563359779475,0.931777053820429,0.931777053820429,0.931777053820429,0.931777053820429,0.931777053820429,0.9290105979907756,0.8855388120189535,0.9308444379178237,0.9310483918340425,0.9276517773148472,0.9233505880076606,0.931777053820429,0.931777053820429,0.931777053820429,0.931777053820429,0.908737746021998,0.931777053820429,0.9290105979907756,0.931777053820429,0.8836941486522033,0.931777053820429,0.931777053820429,0.931777053820429,0.931777053820429,0.931777053820429,0.931777053820429,0.9276517773148472,0.9233505880076606,0.9311879525510861,0.9087049896079239],\"type\":\"scatter\",\"xaxis\":\"x2\",\"yaxis\":\"y2\"},{\"marker\":{\"color\":[0,1,2,3,4,5,6,7,8,9,10,11,12,13,14,15,16,17,18,19,20,21,22,23,24,25,26,27,28,29,30,31,32,33,34,35,36,37,38,39,40,41,42,43,44,45,46,47,48,49,50,51,52,53,54,55,56,57,58,59,60,61,62,63,64,65,66,67,68,69,70,71,72,73,74,75,76,77,78,79,80,81,82,83,84,85,86,87,88,89,90,91,92,93,94,95,96,97,98,99],\"colorbar\":{\"title\":{\"text\":\"Trial\"},\"x\":1.0,\"xpad\":40},\"colorscale\":[[0.0,\"rgb(247,251,255)\"],[0.125,\"rgb(222,235,247)\"],[0.25,\"rgb(198,219,239)\"],[0.375,\"rgb(158,202,225)\"],[0.5,\"rgb(107,174,214)\"],[0.625,\"rgb(66,146,198)\"],[0.75,\"rgb(33,113,181)\"],[0.875,\"rgb(8,81,156)\"],[1.0,\"rgb(8,48,107)\"]],\"line\":{\"color\":\"Grey\",\"width\":0.5},\"showscale\":false},\"mode\":\"markers\",\"name\":\"Feasible Trial\",\"showlegend\":false,\"x\":[5,3,5,5,3,4,4,5,5,3,5,5,5,5,5,4,5,5,3,4,5,5,5,5,5,5,5,5,4,5,3,5,5,5,5,5,3,5,5,4,5,5,5,5,5,3,5,5,5,4,5,5,5,5,5,5,3,5,5,4,5,5,5,5,5,5,5,5,3,5,5,5,5,5,5,4,5,5,5,5,3,5,5,5,5,5,5,4,5,5,5,5,5,5,5,5,5,3,5,5],\"y\":[0.8836462101022544,0.8622981671086034,0.9276517773148472,0.8854220914283358,0.903232296242885,0.9151669831861962,0.8761548626980243,0.9254819052041209,0.9087049896079239,0.8622981671086034,0.9310483918340425,0.9310483918340425,0.9310483918340425,0.9310483918340425,0.9310483918340425,0.9280860703000574,0.931777053820429,0.931777053820429,0.9195662177082683,0.9199513813715977,0.9218018305457732,0.931777053820429,0.931777053820429,0.931777053820429,0.931777053820429,0.931777053820429,0.931777053820429,0.931777053820429,0.9275357024687482,0.908737746021998,0.8652407094403776,0.931777053820429,0.931777053820429,0.931777053820429,0.931777053820429,0.8855388120189535,0.9233505880076606,0.9235015204284753,0.9211520058100379,0.8749276622075962,0.9311879525510861,0.931777053820429,0.931777053820429,0.931777053820429,0.9276517773148472,0.9233505880076606,0.9218018305457732,0.9226890152910778,0.8854220914283358,0.9290105979907756,0.9305841458861955,0.931777053820429,0.931777053820429,0.931777053820429,0.931777053820429,0.931777053820429,0.92264252219343,0.9218018305457732,0.9226890152910778,0.9290105979907756,0.9276517773148472,0.931777053820429,0.931777053820429,0.931777053820429,0.931777053820429,0.8836941486522033,0.931777053820429,0.9310483918340425,0.9231419821288888,0.908563359779475,0.931777053820429,0.931777053820429,0.931777053820429,0.931777053820429,0.931777053820429,0.9290105979907756,0.8855388120189535,0.9308444379178237,0.9310483918340425,0.9276517773148472,0.9233505880076606,0.931777053820429,0.931777053820429,0.931777053820429,0.931777053820429,0.908737746021998,0.931777053820429,0.9290105979907756,0.931777053820429,0.8836941486522033,0.931777053820429,0.931777053820429,0.931777053820429,0.931777053820429,0.931777053820429,0.931777053820429,0.9276517773148472,0.9233505880076606,0.9311879525510861,0.9087049896079239],\"type\":\"scatter\",\"xaxis\":\"x3\",\"yaxis\":\"y3\"},{\"marker\":{\"color\":[0,1,2,3,4,5,6,7,8,9,10,11,12,13,14,15,16,17,18,19,20,21,22,23,24,25,26,27,28,29,30,31,32,33,34,35,36,37,38,39,40,41,42,43,44,45,46,47,48,49,50,51,52,53,54,55,56,57,58,59,60,61,62,63,64,65,66,67,68,69,70,71,72,73,74,75,76,77,78,79,80,81,82,83,84,85,86,87,88,89,90,91,92,93,94,95,96,97,98,99],\"colorbar\":{\"title\":{\"text\":\"Trial\"},\"x\":1.0,\"xpad\":40},\"colorscale\":[[0.0,\"rgb(247,251,255)\"],[0.125,\"rgb(222,235,247)\"],[0.25,\"rgb(198,219,239)\"],[0.375,\"rgb(158,202,225)\"],[0.5,\"rgb(107,174,214)\"],[0.625,\"rgb(66,146,198)\"],[0.75,\"rgb(33,113,181)\"],[0.875,\"rgb(8,81,156)\"],[1.0,\"rgb(8,48,107)\"]],\"line\":{\"color\":\"Grey\",\"width\":0.5},\"showscale\":false},\"mode\":\"markers\",\"name\":\"Feasible Trial\",\"showlegend\":false,\"x\":[1.0,10.0,0,0,1.0,0,0,1.0,10.0,10.0,0,0,0,0,0,0,0,0,1.0,10.0,0,0,0,0,0,0,0,0,1.0,10.0,1.0,0,0,0,0,0,0,10.0,0,1.0,0,0,0,0,0,0,0,10.0,0,0,1.0,0,0,0,0,0,0,0,10.0,0,0,0,0,0,0,1.0,0,0,0,10.0,0,0,0,0,0,0,0,1.0,0,0,0,0,0,0,0,10.0,0,0,0,1.0,0,0,0,0,0,0,0,0,0,10.0],\"y\":[0.8836462101022544,0.8622981671086034,0.9276517773148472,0.8854220914283358,0.903232296242885,0.9151669831861962,0.8761548626980243,0.9254819052041209,0.9087049896079239,0.8622981671086034,0.9310483918340425,0.9310483918340425,0.9310483918340425,0.9310483918340425,0.9310483918340425,0.9280860703000574,0.931777053820429,0.931777053820429,0.9195662177082683,0.9199513813715977,0.9218018305457732,0.931777053820429,0.931777053820429,0.931777053820429,0.931777053820429,0.931777053820429,0.931777053820429,0.931777053820429,0.9275357024687482,0.908737746021998,0.8652407094403776,0.931777053820429,0.931777053820429,0.931777053820429,0.931777053820429,0.8855388120189535,0.9233505880076606,0.9235015204284753,0.9211520058100379,0.8749276622075962,0.9311879525510861,0.931777053820429,0.931777053820429,0.931777053820429,0.9276517773148472,0.9233505880076606,0.9218018305457732,0.9226890152910778,0.8854220914283358,0.9290105979907756,0.9305841458861955,0.931777053820429,0.931777053820429,0.931777053820429,0.931777053820429,0.931777053820429,0.92264252219343,0.9218018305457732,0.9226890152910778,0.9290105979907756,0.9276517773148472,0.931777053820429,0.931777053820429,0.931777053820429,0.931777053820429,0.8836941486522033,0.931777053820429,0.9310483918340425,0.9231419821288888,0.908563359779475,0.931777053820429,0.931777053820429,0.931777053820429,0.931777053820429,0.931777053820429,0.9290105979907756,0.8855388120189535,0.9308444379178237,0.9310483918340425,0.9276517773148472,0.9233505880076606,0.931777053820429,0.931777053820429,0.931777053820429,0.931777053820429,0.908737746021998,0.931777053820429,0.9290105979907756,0.931777053820429,0.8836941486522033,0.931777053820429,0.931777053820429,0.931777053820429,0.931777053820429,0.931777053820429,0.931777053820429,0.9276517773148472,0.9233505880076606,0.9311879525510861,0.9087049896079239],\"type\":\"scatter\",\"xaxis\":\"x4\",\"yaxis\":\"y4\"}],                        {\"template\":{\"data\":{\"histogram2dcontour\":[{\"type\":\"histogram2dcontour\",\"colorbar\":{\"outlinewidth\":0,\"ticks\":\"\"},\"colorscale\":[[0.0,\"#0d0887\"],[0.1111111111111111,\"#46039f\"],[0.2222222222222222,\"#7201a8\"],[0.3333333333333333,\"#9c179e\"],[0.4444444444444444,\"#bd3786\"],[0.5555555555555556,\"#d8576b\"],[0.6666666666666666,\"#ed7953\"],[0.7777777777777778,\"#fb9f3a\"],[0.8888888888888888,\"#fdca26\"],[1.0,\"#f0f921\"]]}],\"choropleth\":[{\"type\":\"choropleth\",\"colorbar\":{\"outlinewidth\":0,\"ticks\":\"\"}}],\"histogram2d\":[{\"type\":\"histogram2d\",\"colorbar\":{\"outlinewidth\":0,\"ticks\":\"\"},\"colorscale\":[[0.0,\"#0d0887\"],[0.1111111111111111,\"#46039f\"],[0.2222222222222222,\"#7201a8\"],[0.3333333333333333,\"#9c179e\"],[0.4444444444444444,\"#bd3786\"],[0.5555555555555556,\"#d8576b\"],[0.6666666666666666,\"#ed7953\"],[0.7777777777777778,\"#fb9f3a\"],[0.8888888888888888,\"#fdca26\"],[1.0,\"#f0f921\"]]}],\"heatmap\":[{\"type\":\"heatmap\",\"colorbar\":{\"outlinewidth\":0,\"ticks\":\"\"},\"colorscale\":[[0.0,\"#0d0887\"],[0.1111111111111111,\"#46039f\"],[0.2222222222222222,\"#7201a8\"],[0.3333333333333333,\"#9c179e\"],[0.4444444444444444,\"#bd3786\"],[0.5555555555555556,\"#d8576b\"],[0.6666666666666666,\"#ed7953\"],[0.7777777777777778,\"#fb9f3a\"],[0.8888888888888888,\"#fdca26\"],[1.0,\"#f0f921\"]]}],\"heatmapgl\":[{\"type\":\"heatmapgl\",\"colorbar\":{\"outlinewidth\":0,\"ticks\":\"\"},\"colorscale\":[[0.0,\"#0d0887\"],[0.1111111111111111,\"#46039f\"],[0.2222222222222222,\"#7201a8\"],[0.3333333333333333,\"#9c179e\"],[0.4444444444444444,\"#bd3786\"],[0.5555555555555556,\"#d8576b\"],[0.6666666666666666,\"#ed7953\"],[0.7777777777777778,\"#fb9f3a\"],[0.8888888888888888,\"#fdca26\"],[1.0,\"#f0f921\"]]}],\"contourcarpet\":[{\"type\":\"contourcarpet\",\"colorbar\":{\"outlinewidth\":0,\"ticks\":\"\"}}],\"contour\":[{\"type\":\"contour\",\"colorbar\":{\"outlinewidth\":0,\"ticks\":\"\"},\"colorscale\":[[0.0,\"#0d0887\"],[0.1111111111111111,\"#46039f\"],[0.2222222222222222,\"#7201a8\"],[0.3333333333333333,\"#9c179e\"],[0.4444444444444444,\"#bd3786\"],[0.5555555555555556,\"#d8576b\"],[0.6666666666666666,\"#ed7953\"],[0.7777777777777778,\"#fb9f3a\"],[0.8888888888888888,\"#fdca26\"],[1.0,\"#f0f921\"]]}],\"surface\":[{\"type\":\"surface\",\"colorbar\":{\"outlinewidth\":0,\"ticks\":\"\"},\"colorscale\":[[0.0,\"#0d0887\"],[0.1111111111111111,\"#46039f\"],[0.2222222222222222,\"#7201a8\"],[0.3333333333333333,\"#9c179e\"],[0.4444444444444444,\"#bd3786\"],[0.5555555555555556,\"#d8576b\"],[0.6666666666666666,\"#ed7953\"],[0.7777777777777778,\"#fb9f3a\"],[0.8888888888888888,\"#fdca26\"],[1.0,\"#f0f921\"]]}],\"mesh3d\":[{\"type\":\"mesh3d\",\"colorbar\":{\"outlinewidth\":0,\"ticks\":\"\"}}],\"scatter\":[{\"fillpattern\":{\"fillmode\":\"overlay\",\"size\":10,\"solidity\":0.2},\"type\":\"scatter\"}],\"parcoords\":[{\"type\":\"parcoords\",\"line\":{\"colorbar\":{\"outlinewidth\":0,\"ticks\":\"\"}}}],\"scatterpolargl\":[{\"type\":\"scatterpolargl\",\"marker\":{\"colorbar\":{\"outlinewidth\":0,\"ticks\":\"\"}}}],\"bar\":[{\"error_x\":{\"color\":\"#2a3f5f\"},\"error_y\":{\"color\":\"#2a3f5f\"},\"marker\":{\"line\":{\"color\":\"#E5ECF6\",\"width\":0.5},\"pattern\":{\"fillmode\":\"overlay\",\"size\":10,\"solidity\":0.2}},\"type\":\"bar\"}],\"scattergeo\":[{\"type\":\"scattergeo\",\"marker\":{\"colorbar\":{\"outlinewidth\":0,\"ticks\":\"\"}}}],\"scatterpolar\":[{\"type\":\"scatterpolar\",\"marker\":{\"colorbar\":{\"outlinewidth\":0,\"ticks\":\"\"}}}],\"histogram\":[{\"marker\":{\"pattern\":{\"fillmode\":\"overlay\",\"size\":10,\"solidity\":0.2}},\"type\":\"histogram\"}],\"scattergl\":[{\"type\":\"scattergl\",\"marker\":{\"colorbar\":{\"outlinewidth\":0,\"ticks\":\"\"}}}],\"scatter3d\":[{\"type\":\"scatter3d\",\"line\":{\"colorbar\":{\"outlinewidth\":0,\"ticks\":\"\"}},\"marker\":{\"colorbar\":{\"outlinewidth\":0,\"ticks\":\"\"}}}],\"scattermapbox\":[{\"type\":\"scattermapbox\",\"marker\":{\"colorbar\":{\"outlinewidth\":0,\"ticks\":\"\"}}}],\"scatterternary\":[{\"type\":\"scatterternary\",\"marker\":{\"colorbar\":{\"outlinewidth\":0,\"ticks\":\"\"}}}],\"scattercarpet\":[{\"type\":\"scattercarpet\",\"marker\":{\"colorbar\":{\"outlinewidth\":0,\"ticks\":\"\"}}}],\"carpet\":[{\"aaxis\":{\"endlinecolor\":\"#2a3f5f\",\"gridcolor\":\"white\",\"linecolor\":\"white\",\"minorgridcolor\":\"white\",\"startlinecolor\":\"#2a3f5f\"},\"baxis\":{\"endlinecolor\":\"#2a3f5f\",\"gridcolor\":\"white\",\"linecolor\":\"white\",\"minorgridcolor\":\"white\",\"startlinecolor\":\"#2a3f5f\"},\"type\":\"carpet\"}],\"table\":[{\"cells\":{\"fill\":{\"color\":\"#EBF0F8\"},\"line\":{\"color\":\"white\"}},\"header\":{\"fill\":{\"color\":\"#C8D4E3\"},\"line\":{\"color\":\"white\"}},\"type\":\"table\"}],\"barpolar\":[{\"marker\":{\"line\":{\"color\":\"#E5ECF6\",\"width\":0.5},\"pattern\":{\"fillmode\":\"overlay\",\"size\":10,\"solidity\":0.2}},\"type\":\"barpolar\"}],\"pie\":[{\"automargin\":true,\"type\":\"pie\"}]},\"layout\":{\"autotypenumbers\":\"strict\",\"colorway\":[\"#636efa\",\"#EF553B\",\"#00cc96\",\"#ab63fa\",\"#FFA15A\",\"#19d3f3\",\"#FF6692\",\"#B6E880\",\"#FF97FF\",\"#FECB52\"],\"font\":{\"color\":\"#2a3f5f\"},\"hovermode\":\"closest\",\"hoverlabel\":{\"align\":\"left\"},\"paper_bgcolor\":\"white\",\"plot_bgcolor\":\"#E5ECF6\",\"polar\":{\"bgcolor\":\"#E5ECF6\",\"angularaxis\":{\"gridcolor\":\"white\",\"linecolor\":\"white\",\"ticks\":\"\"},\"radialaxis\":{\"gridcolor\":\"white\",\"linecolor\":\"white\",\"ticks\":\"\"}},\"ternary\":{\"bgcolor\":\"#E5ECF6\",\"aaxis\":{\"gridcolor\":\"white\",\"linecolor\":\"white\",\"ticks\":\"\"},\"baxis\":{\"gridcolor\":\"white\",\"linecolor\":\"white\",\"ticks\":\"\"},\"caxis\":{\"gridcolor\":\"white\",\"linecolor\":\"white\",\"ticks\":\"\"}},\"coloraxis\":{\"colorbar\":{\"outlinewidth\":0,\"ticks\":\"\"}},\"colorscale\":{\"sequential\":[[0.0,\"#0d0887\"],[0.1111111111111111,\"#46039f\"],[0.2222222222222222,\"#7201a8\"],[0.3333333333333333,\"#9c179e\"],[0.4444444444444444,\"#bd3786\"],[0.5555555555555556,\"#d8576b\"],[0.6666666666666666,\"#ed7953\"],[0.7777777777777778,\"#fb9f3a\"],[0.8888888888888888,\"#fdca26\"],[1.0,\"#f0f921\"]],\"sequentialminus\":[[0.0,\"#0d0887\"],[0.1111111111111111,\"#46039f\"],[0.2222222222222222,\"#7201a8\"],[0.3333333333333333,\"#9c179e\"],[0.4444444444444444,\"#bd3786\"],[0.5555555555555556,\"#d8576b\"],[0.6666666666666666,\"#ed7953\"],[0.7777777777777778,\"#fb9f3a\"],[0.8888888888888888,\"#fdca26\"],[1.0,\"#f0f921\"]],\"diverging\":[[0,\"#8e0152\"],[0.1,\"#c51b7d\"],[0.2,\"#de77ae\"],[0.3,\"#f1b6da\"],[0.4,\"#fde0ef\"],[0.5,\"#f7f7f7\"],[0.6,\"#e6f5d0\"],[0.7,\"#b8e186\"],[0.8,\"#7fbc41\"],[0.9,\"#4d9221\"],[1,\"#276419\"]]},\"xaxis\":{\"gridcolor\":\"white\",\"linecolor\":\"white\",\"ticks\":\"\",\"title\":{\"standoff\":15},\"zerolinecolor\":\"white\",\"automargin\":true,\"zerolinewidth\":2},\"yaxis\":{\"gridcolor\":\"white\",\"linecolor\":\"white\",\"ticks\":\"\",\"title\":{\"standoff\":15},\"zerolinecolor\":\"white\",\"automargin\":true,\"zerolinewidth\":2},\"scene\":{\"xaxis\":{\"backgroundcolor\":\"#E5ECF6\",\"gridcolor\":\"white\",\"linecolor\":\"white\",\"showbackground\":true,\"ticks\":\"\",\"zerolinecolor\":\"white\",\"gridwidth\":2},\"yaxis\":{\"backgroundcolor\":\"#E5ECF6\",\"gridcolor\":\"white\",\"linecolor\":\"white\",\"showbackground\":true,\"ticks\":\"\",\"zerolinecolor\":\"white\",\"gridwidth\":2},\"zaxis\":{\"backgroundcolor\":\"#E5ECF6\",\"gridcolor\":\"white\",\"linecolor\":\"white\",\"showbackground\":true,\"ticks\":\"\",\"zerolinecolor\":\"white\",\"gridwidth\":2}},\"shapedefaults\":{\"line\":{\"color\":\"#2a3f5f\"}},\"annotationdefaults\":{\"arrowcolor\":\"#2a3f5f\",\"arrowhead\":0,\"arrowwidth\":1},\"geo\":{\"bgcolor\":\"white\",\"landcolor\":\"#E5ECF6\",\"subunitcolor\":\"white\",\"showland\":true,\"showlakes\":true,\"lakecolor\":\"white\"},\"title\":{\"x\":0.05},\"mapbox\":{\"style\":\"light\"}}},\"xaxis\":{\"anchor\":\"y\",\"domain\":[0.0,0.2125],\"title\":{\"text\":\"gamma\"},\"type\":\"category\",\"categoryorder\":\"array\",\"categoryarray\":[0,0.25,0.5,1.0]},\"yaxis\":{\"anchor\":\"x\",\"domain\":[0.0,1.0],\"title\":{\"text\":\"Objective Value\"}},\"xaxis2\":{\"anchor\":\"y2\",\"domain\":[0.2625,0.475],\"title\":{\"text\":\"learning_rate\"},\"type\":\"category\",\"categoryorder\":\"array\",\"categoryarray\":[0.1,0.01,0.05]},\"yaxis2\":{\"anchor\":\"x2\",\"domain\":[0.0,1.0],\"matches\":\"y\",\"showticklabels\":false},\"xaxis3\":{\"anchor\":\"y3\",\"domain\":[0.525,0.7375],\"title\":{\"text\":\"max_depth\"},\"type\":\"category\",\"categoryorder\":\"array\",\"categoryarray\":[3,4,5]},\"yaxis3\":{\"anchor\":\"x3\",\"domain\":[0.0,1.0],\"matches\":\"y\",\"showticklabels\":false},\"xaxis4\":{\"anchor\":\"y4\",\"domain\":[0.7875,1.0],\"title\":{\"text\":\"reg_lambda\"},\"type\":\"category\",\"categoryorder\":\"array\",\"categoryarray\":[0,1.0,10.0]},\"yaxis4\":{\"anchor\":\"x4\",\"domain\":[0.0,1.0],\"matches\":\"y\",\"showticklabels\":false},\"title\":{\"text\":\"Slice Plot\"},\"width\":1200},                        {\"responsive\": true}                    ).then(function(){\n",
              "                            \n",
              "var gd = document.getElementById('003d8e72-1e17-47ba-aae8-1b10185f317e');\n",
              "var x = new MutationObserver(function (mutations, observer) {{\n",
              "        var display = window.getComputedStyle(gd).display;\n",
              "        if (!display || display === 'none') {{\n",
              "            console.log([gd, 'removed!']);\n",
              "            Plotly.purge(gd);\n",
              "            observer.disconnect();\n",
              "        }}\n",
              "}});\n",
              "\n",
              "// Listen for the removal of the full notebook cells\n",
              "var notebookContainer = gd.closest('#notebook-container');\n",
              "if (notebookContainer) {{\n",
              "    x.observe(notebookContainer, {childList: true});\n",
              "}}\n",
              "\n",
              "// Listen for the clearing of the current output cell\n",
              "var outputEl = gd.closest('.output');\n",
              "if (outputEl) {{\n",
              "    x.observe(outputEl, {childList: true});\n",
              "}}\n",
              "\n",
              "                        })                };                            </script>        </div>\n",
              "</body>\n",
              "</html>"
            ]
          },
          "metadata": {}
        }
      ]
    },
    {
      "cell_type": "code",
      "source": [
        "# 4. Contour Plot\n",
        "plot_contour(study).show()"
      ],
      "metadata": {
        "colab": {
          "base_uri": "https://localhost:8080/",
          "height": 542
        },
        "id": "8xV9yVg38WAy",
        "outputId": "e2de5936-a28c-4742-f076-c187c4c8f626"
      },
      "execution_count": null,
      "outputs": [
        {
          "output_type": "display_data",
          "data": {
            "text/html": [
              "<html>\n",
              "<head><meta charset=\"utf-8\" /></head>\n",
              "<body>\n",
              "    <div>            <script src=\"https://cdnjs.cloudflare.com/ajax/libs/mathjax/2.7.5/MathJax.js?config=TeX-AMS-MML_SVG\"></script><script type=\"text/javascript\">if (window.MathJax && window.MathJax.Hub && window.MathJax.Hub.Config) {window.MathJax.Hub.Config({SVG: {font: \"STIX-Web\"}});}</script>                <script type=\"text/javascript\">window.PlotlyConfig = {MathJaxConfig: 'local'};</script>\n",
              "        <script charset=\"utf-8\" src=\"https://cdn.plot.ly/plotly-2.35.2.min.js\"></script>                <div id=\"59fb541d-aa3a-46f0-82f1-632ead186894\" class=\"plotly-graph-div\" style=\"height:525px; width:100%;\"></div>            <script type=\"text/javascript\">                                    window.PLOTLYENV=window.PLOTLYENV || {};                                    if (document.getElementById(\"59fb541d-aa3a-46f0-82f1-632ead186894\")) {                    Plotly.newPlot(                        \"59fb541d-aa3a-46f0-82f1-632ead186894\",                        [{\"type\":\"scatter\",\"xaxis\":\"x\",\"yaxis\":\"y\"},{\"colorbar\":{\"title\":{\"text\":\"Objective Value\"}},\"colorscale\":[[0.0,\"rgb(247,251,255)\"],[0.125,\"rgb(222,235,247)\"],[0.25,\"rgb(198,219,239)\"],[0.375,\"rgb(158,202,225)\"],[0.5,\"rgb(107,174,214)\"],[0.625,\"rgb(66,146,198)\"],[0.75,\"rgb(33,113,181)\"],[0.875,\"rgb(8,81,156)\"],[1.0,\"rgb(8,48,107)\"]],\"connectgaps\":true,\"contours\":{\"coloring\":\"heatmap\"},\"hoverinfo\":\"none\",\"line\":{\"smoothing\":1.3},\"reversescale\":false,\"showscale\":true,\"x\":[-0.05,0,0.25,0.5,1.0,1.05],\"y\":[0.0055,0.01,0.05,0.1,0.10450000000000001],\"z\":[[null,null,null,null,null,null],[null,0.8855388120189535,0.8836462101022544,null,0.8854220914283358,null],[null,0.9218018305457732,0.9151669831861962,0.9087049896079239,0.9211520058100379,null],[null,0.931777053820429,0.9311879525510861,0.9310483918340425,0.9276517773148472,null],[null,null,null,null,null,null]],\"type\":\"contour\",\"xaxis\":\"x5\",\"yaxis\":\"y5\"},{\"marker\":{\"color\":\"black\",\"line\":{\"color\":\"Gray\",\"width\":2.0}},\"mode\":\"markers\",\"name\":\"Feasible Trial\",\"showlegend\":false,\"x\":[0.25,1.0,1.0,1.0,0,0.25,0.25,1.0,0.5,1.0,0.5,0.5,0.5,0.5,0.5,0.5,0,0,0,0,0,0,0,0,0,0,0,0,0,0.25,0,0,0,0,0,0,0,0.25,1.0,0,0.25,0,0,0,1.0,0,0,0,1.0,0,0.25,0,0,0,0,0,0.5,0,0,0,1.0,0,0,0,0,0,0,0.5,0.25,0,0,0,0,0,0,0,0,0,0.5,1.0,0,0,0,0,0,0.25,0,0,0,0,0,0,0,0,0,0,1.0,0,0.25,0.5],\"y\":[0.01,0.01,0.1,0.01,0.05,0.05,0.01,0.1,0.05,0.01,0.1,0.1,0.1,0.1,0.1,0.1,0.1,0.1,0.1,0.1,0.05,0.1,0.1,0.1,0.1,0.1,0.1,0.1,0.1,0.05,0.01,0.1,0.1,0.1,0.1,0.01,0.1,0.1,0.05,0.01,0.1,0.1,0.1,0.1,0.1,0.1,0.05,0.1,0.01,0.1,0.1,0.1,0.1,0.1,0.1,0.1,0.1,0.05,0.1,0.1,0.1,0.1,0.1,0.1,0.1,0.01,0.1,0.1,0.1,0.05,0.1,0.1,0.1,0.1,0.1,0.1,0.01,0.1,0.1,0.1,0.1,0.1,0.1,0.1,0.1,0.05,0.1,0.1,0.1,0.01,0.1,0.1,0.1,0.1,0.1,0.1,0.1,0.1,0.1,0.05],\"type\":\"scatter\",\"xaxis\":\"x5\",\"yaxis\":\"y5\"},{\"colorbar\":{\"title\":{\"text\":\"Objective Value\"}},\"colorscale\":[[0.0,\"rgb(247,251,255)\"],[0.125,\"rgb(222,235,247)\"],[0.25,\"rgb(198,219,239)\"],[0.375,\"rgb(158,202,225)\"],[0.5,\"rgb(107,174,214)\"],[0.625,\"rgb(66,146,198)\"],[0.75,\"rgb(33,113,181)\"],[0.875,\"rgb(8,81,156)\"],[1.0,\"rgb(8,48,107)\"]],\"connectgaps\":true,\"contours\":{\"coloring\":\"heatmap\"},\"hoverinfo\":\"none\",\"line\":{\"smoothing\":1.3},\"reversescale\":false,\"showscale\":false,\"x\":[-0.05,0,0.25,0.5,1.0,1.05],\"y\":[2.9,3,4,5,5.1],\"z\":[[null,null,null,null,null,null],[null,0.9233505880076606,0.9231419821288888,0.92264252219343,0.8622981671086034,null],[null,0.9290105979907756,0.9151669831861962,0.9280860703000574,null,null],[null,0.931777053820429,0.9311879525510861,0.9310483918340425,0.9276517773148472,null],[null,null,null,null,null,null]],\"type\":\"contour\",\"xaxis\":\"x9\",\"yaxis\":\"y9\"},{\"marker\":{\"color\":\"black\",\"line\":{\"color\":\"Gray\",\"width\":2.0}},\"mode\":\"markers\",\"name\":\"Feasible Trial\",\"showlegend\":false,\"x\":[0.25,1.0,1.0,1.0,0,0.25,0.25,1.0,0.5,1.0,0.5,0.5,0.5,0.5,0.5,0.5,0,0,0,0,0,0,0,0,0,0,0,0,0,0.25,0,0,0,0,0,0,0,0.25,1.0,0,0.25,0,0,0,1.0,0,0,0,1.0,0,0.25,0,0,0,0,0,0.5,0,0,0,1.0,0,0,0,0,0,0,0.5,0.25,0,0,0,0,0,0,0,0,0,0.5,1.0,0,0,0,0,0,0.25,0,0,0,0,0,0,0,0,0,0,1.0,0,0.25,0.5],\"y\":[5,3,5,5,3,4,4,5,5,3,5,5,5,5,5,4,5,5,3,4,5,5,5,5,5,5,5,5,4,5,3,5,5,5,5,5,3,5,5,4,5,5,5,5,5,3,5,5,5,4,5,5,5,5,5,5,3,5,5,4,5,5,5,5,5,5,5,5,3,5,5,5,5,5,5,4,5,5,5,5,3,5,5,5,5,5,5,4,5,5,5,5,5,5,5,5,5,3,5,5],\"type\":\"scatter\",\"xaxis\":\"x9\",\"yaxis\":\"y9\"},{\"colorbar\":{\"title\":{\"text\":\"Objective Value\"}},\"colorscale\":[[0.0,\"rgb(247,251,255)\"],[0.125,\"rgb(222,235,247)\"],[0.25,\"rgb(198,219,239)\"],[0.375,\"rgb(158,202,225)\"],[0.5,\"rgb(107,174,214)\"],[0.625,\"rgb(66,146,198)\"],[0.75,\"rgb(33,113,181)\"],[0.875,\"rgb(8,81,156)\"],[1.0,\"rgb(8,48,107)\"]],\"connectgaps\":true,\"contours\":{\"coloring\":\"heatmap\"},\"hoverinfo\":\"none\",\"line\":{\"smoothing\":1.3},\"reversescale\":false,\"showscale\":false,\"x\":[-0.05,0,0.25,0.5,1.0,1.05],\"y\":[-0.5,0,1.0,10.0,10.5],\"z\":[[null,null,null,null,null,null],[null,0.931777053820429,0.9311879525510861,0.9310483918340425,0.9276517773148472,null],[null,0.9308444379178237,0.9305841458861955,null,0.9254819052041209,null],[null,0.9226890152910778,0.9235015204284753,0.9087049896079239,0.8622981671086034,null],[null,null,null,null,null,null]],\"type\":\"contour\",\"xaxis\":\"x13\",\"yaxis\":\"y13\"},{\"marker\":{\"color\":\"black\",\"line\":{\"color\":\"Gray\",\"width\":2.0}},\"mode\":\"markers\",\"name\":\"Feasible Trial\",\"showlegend\":false,\"x\":[0.25,1.0,1.0,1.0,0,0.25,0.25,1.0,0.5,1.0,0.5,0.5,0.5,0.5,0.5,0.5,0,0,0,0,0,0,0,0,0,0,0,0,0,0.25,0,0,0,0,0,0,0,0.25,1.0,0,0.25,0,0,0,1.0,0,0,0,1.0,0,0.25,0,0,0,0,0,0.5,0,0,0,1.0,0,0,0,0,0,0,0.5,0.25,0,0,0,0,0,0,0,0,0,0.5,1.0,0,0,0,0,0,0.25,0,0,0,0,0,0,0,0,0,0,1.0,0,0.25,0.5],\"y\":[1.0,10.0,0,0,1.0,0,0,1.0,10.0,10.0,0,0,0,0,0,0,0,0,1.0,10.0,0,0,0,0,0,0,0,0,1.0,10.0,1.0,0,0,0,0,0,0,10.0,0,1.0,0,0,0,0,0,0,0,10.0,0,0,1.0,0,0,0,0,0,0,0,10.0,0,0,0,0,0,0,1.0,0,0,0,10.0,0,0,0,0,0,0,0,1.0,0,0,0,0,0,0,0,10.0,0,0,0,1.0,0,0,0,0,0,0,0,0,0,10.0],\"type\":\"scatter\",\"xaxis\":\"x13\",\"yaxis\":\"y13\"},{\"colorbar\":{\"title\":{\"text\":\"Objective Value\"}},\"colorscale\":[[0.0,\"rgb(247,251,255)\"],[0.125,\"rgb(222,235,247)\"],[0.25,\"rgb(198,219,239)\"],[0.375,\"rgb(158,202,225)\"],[0.5,\"rgb(107,174,214)\"],[0.625,\"rgb(66,146,198)\"],[0.75,\"rgb(33,113,181)\"],[0.875,\"rgb(8,81,156)\"],[1.0,\"rgb(8,48,107)\"]],\"connectgaps\":true,\"contours\":{\"coloring\":\"heatmap\"},\"hoverinfo\":\"none\",\"line\":{\"smoothing\":1.3},\"reversescale\":false,\"showscale\":false,\"x\":[0.0055,0.01,0.05,0.1,0.10450000000000001],\"y\":[-0.05,0,0.25,0.5,1.0,1.05],\"z\":[[null,null,null,null,null],[null,0.8855388120189535,0.9218018305457732,0.931777053820429,null],[null,0.8836462101022544,0.9151669831861962,0.9311879525510861,null],[null,null,0.9087049896079239,0.9310483918340425,null],[null,0.8854220914283358,0.9211520058100379,0.9276517773148472,null],[null,null,null,null,null]],\"type\":\"contour\",\"xaxis\":\"x2\",\"yaxis\":\"y2\"},{\"marker\":{\"color\":\"black\",\"line\":{\"color\":\"Gray\",\"width\":2.0}},\"mode\":\"markers\",\"name\":\"Feasible Trial\",\"showlegend\":false,\"x\":[0.01,0.01,0.1,0.01,0.05,0.05,0.01,0.1,0.05,0.01,0.1,0.1,0.1,0.1,0.1,0.1,0.1,0.1,0.1,0.1,0.05,0.1,0.1,0.1,0.1,0.1,0.1,0.1,0.1,0.05,0.01,0.1,0.1,0.1,0.1,0.01,0.1,0.1,0.05,0.01,0.1,0.1,0.1,0.1,0.1,0.1,0.05,0.1,0.01,0.1,0.1,0.1,0.1,0.1,0.1,0.1,0.1,0.05,0.1,0.1,0.1,0.1,0.1,0.1,0.1,0.01,0.1,0.1,0.1,0.05,0.1,0.1,0.1,0.1,0.1,0.1,0.01,0.1,0.1,0.1,0.1,0.1,0.1,0.1,0.1,0.05,0.1,0.1,0.1,0.01,0.1,0.1,0.1,0.1,0.1,0.1,0.1,0.1,0.1,0.05],\"y\":[0.25,1.0,1.0,1.0,0,0.25,0.25,1.0,0.5,1.0,0.5,0.5,0.5,0.5,0.5,0.5,0,0,0,0,0,0,0,0,0,0,0,0,0,0.25,0,0,0,0,0,0,0,0.25,1.0,0,0.25,0,0,0,1.0,0,0,0,1.0,0,0.25,0,0,0,0,0,0.5,0,0,0,1.0,0,0,0,0,0,0,0.5,0.25,0,0,0,0,0,0,0,0,0,0.5,1.0,0,0,0,0,0,0.25,0,0,0,0,0,0,0,0,0,0,1.0,0,0.25,0.5],\"type\":\"scatter\",\"xaxis\":\"x2\",\"yaxis\":\"y2\"},{\"type\":\"scatter\",\"xaxis\":\"x6\",\"yaxis\":\"y6\"},{\"colorbar\":{\"title\":{\"text\":\"Objective Value\"}},\"colorscale\":[[0.0,\"rgb(247,251,255)\"],[0.125,\"rgb(222,235,247)\"],[0.25,\"rgb(198,219,239)\"],[0.375,\"rgb(158,202,225)\"],[0.5,\"rgb(107,174,214)\"],[0.625,\"rgb(66,146,198)\"],[0.75,\"rgb(33,113,181)\"],[0.875,\"rgb(8,81,156)\"],[1.0,\"rgb(8,48,107)\"]],\"connectgaps\":true,\"contours\":{\"coloring\":\"heatmap\"},\"hoverinfo\":\"none\",\"line\":{\"smoothing\":1.3},\"reversescale\":false,\"showscale\":false,\"x\":[0.0055,0.01,0.05,0.1,0.10450000000000001],\"y\":[2.9,3,4,5,5.1],\"z\":[[null,null,null,null,null],[null,0.8652407094403776,0.903232296242885,0.9233505880076606,null],[null,0.8761548626980243,0.9151669831861962,0.9290105979907756,null],[null,0.8855388120189535,0.9218018305457732,0.931777053820429,null],[null,null,null,null,null]],\"type\":\"contour\",\"xaxis\":\"x10\",\"yaxis\":\"y10\"},{\"marker\":{\"color\":\"black\",\"line\":{\"color\":\"Gray\",\"width\":2.0}},\"mode\":\"markers\",\"name\":\"Feasible Trial\",\"showlegend\":false,\"x\":[0.01,0.01,0.1,0.01,0.05,0.05,0.01,0.1,0.05,0.01,0.1,0.1,0.1,0.1,0.1,0.1,0.1,0.1,0.1,0.1,0.05,0.1,0.1,0.1,0.1,0.1,0.1,0.1,0.1,0.05,0.01,0.1,0.1,0.1,0.1,0.01,0.1,0.1,0.05,0.01,0.1,0.1,0.1,0.1,0.1,0.1,0.05,0.1,0.01,0.1,0.1,0.1,0.1,0.1,0.1,0.1,0.1,0.05,0.1,0.1,0.1,0.1,0.1,0.1,0.1,0.01,0.1,0.1,0.1,0.05,0.1,0.1,0.1,0.1,0.1,0.1,0.01,0.1,0.1,0.1,0.1,0.1,0.1,0.1,0.1,0.05,0.1,0.1,0.1,0.01,0.1,0.1,0.1,0.1,0.1,0.1,0.1,0.1,0.1,0.05],\"y\":[5,3,5,5,3,4,4,5,5,3,5,5,5,5,5,4,5,5,3,4,5,5,5,5,5,5,5,5,4,5,3,5,5,5,5,5,3,5,5,4,5,5,5,5,5,3,5,5,5,4,5,5,5,5,5,5,3,5,5,4,5,5,5,5,5,5,5,5,3,5,5,5,5,5,5,4,5,5,5,5,3,5,5,5,5,5,5,4,5,5,5,5,5,5,5,5,5,3,5,5],\"type\":\"scatter\",\"xaxis\":\"x10\",\"yaxis\":\"y10\"},{\"colorbar\":{\"title\":{\"text\":\"Objective Value\"}},\"colorscale\":[[0.0,\"rgb(247,251,255)\"],[0.125,\"rgb(222,235,247)\"],[0.25,\"rgb(198,219,239)\"],[0.375,\"rgb(158,202,225)\"],[0.5,\"rgb(107,174,214)\"],[0.625,\"rgb(66,146,198)\"],[0.75,\"rgb(33,113,181)\"],[0.875,\"rgb(8,81,156)\"],[1.0,\"rgb(8,48,107)\"]],\"connectgaps\":true,\"contours\":{\"coloring\":\"heatmap\"},\"hoverinfo\":\"none\",\"line\":{\"smoothing\":1.3},\"reversescale\":false,\"showscale\":false,\"x\":[0.0055,0.01,0.05,0.1,0.10450000000000001],\"y\":[-0.5,0,1.0,10.0,10.5],\"z\":[[null,null,null,null,null],[null,0.8855388120189535,0.9218018305457732,0.931777053820429,null],[null,0.8836941486522033,0.903232296242885,0.9308444379178237,null],[null,0.8622981671086034,0.908737746021998,0.9235015204284753,null],[null,null,null,null,null]],\"type\":\"contour\",\"xaxis\":\"x14\",\"yaxis\":\"y14\"},{\"marker\":{\"color\":\"black\",\"line\":{\"color\":\"Gray\",\"width\":2.0}},\"mode\":\"markers\",\"name\":\"Feasible Trial\",\"showlegend\":false,\"x\":[0.01,0.01,0.1,0.01,0.05,0.05,0.01,0.1,0.05,0.01,0.1,0.1,0.1,0.1,0.1,0.1,0.1,0.1,0.1,0.1,0.05,0.1,0.1,0.1,0.1,0.1,0.1,0.1,0.1,0.05,0.01,0.1,0.1,0.1,0.1,0.01,0.1,0.1,0.05,0.01,0.1,0.1,0.1,0.1,0.1,0.1,0.05,0.1,0.01,0.1,0.1,0.1,0.1,0.1,0.1,0.1,0.1,0.05,0.1,0.1,0.1,0.1,0.1,0.1,0.1,0.01,0.1,0.1,0.1,0.05,0.1,0.1,0.1,0.1,0.1,0.1,0.01,0.1,0.1,0.1,0.1,0.1,0.1,0.1,0.1,0.05,0.1,0.1,0.1,0.01,0.1,0.1,0.1,0.1,0.1,0.1,0.1,0.1,0.1,0.05],\"y\":[1.0,10.0,0,0,1.0,0,0,1.0,10.0,10.0,0,0,0,0,0,0,0,0,1.0,10.0,0,0,0,0,0,0,0,0,1.0,10.0,1.0,0,0,0,0,0,0,10.0,0,1.0,0,0,0,0,0,0,0,10.0,0,0,1.0,0,0,0,0,0,0,0,10.0,0,0,0,0,0,0,1.0,0,0,0,10.0,0,0,0,0,0,0,0,1.0,0,0,0,0,0,0,0,10.0,0,0,0,1.0,0,0,0,0,0,0,0,0,0,10.0],\"type\":\"scatter\",\"xaxis\":\"x14\",\"yaxis\":\"y14\"},{\"colorbar\":{\"title\":{\"text\":\"Objective Value\"}},\"colorscale\":[[0.0,\"rgb(247,251,255)\"],[0.125,\"rgb(222,235,247)\"],[0.25,\"rgb(198,219,239)\"],[0.375,\"rgb(158,202,225)\"],[0.5,\"rgb(107,174,214)\"],[0.625,\"rgb(66,146,198)\"],[0.75,\"rgb(33,113,181)\"],[0.875,\"rgb(8,81,156)\"],[1.0,\"rgb(8,48,107)\"]],\"connectgaps\":true,\"contours\":{\"coloring\":\"heatmap\"},\"hoverinfo\":\"none\",\"line\":{\"smoothing\":1.3},\"reversescale\":false,\"showscale\":false,\"x\":[2.9,3,4,5,5.1],\"y\":[-0.05,0,0.25,0.5,1.0,1.05],\"z\":[[null,null,null,null,null],[null,0.9233505880076606,0.9290105979907756,0.931777053820429,null],[null,0.9231419821288888,0.9151669831861962,0.9311879525510861,null],[null,0.92264252219343,0.9280860703000574,0.9310483918340425,null],[null,0.8622981671086034,null,0.9276517773148472,null],[null,null,null,null,null]],\"type\":\"contour\",\"xaxis\":\"x3\",\"yaxis\":\"y3\"},{\"marker\":{\"color\":\"black\",\"line\":{\"color\":\"Gray\",\"width\":2.0}},\"mode\":\"markers\",\"name\":\"Feasible Trial\",\"showlegend\":false,\"x\":[5,3,5,5,3,4,4,5,5,3,5,5,5,5,5,4,5,5,3,4,5,5,5,5,5,5,5,5,4,5,3,5,5,5,5,5,3,5,5,4,5,5,5,5,5,3,5,5,5,4,5,5,5,5,5,5,3,5,5,4,5,5,5,5,5,5,5,5,3,5,5,5,5,5,5,4,5,5,5,5,3,5,5,5,5,5,5,4,5,5,5,5,5,5,5,5,5,3,5,5],\"y\":[0.25,1.0,1.0,1.0,0,0.25,0.25,1.0,0.5,1.0,0.5,0.5,0.5,0.5,0.5,0.5,0,0,0,0,0,0,0,0,0,0,0,0,0,0.25,0,0,0,0,0,0,0,0.25,1.0,0,0.25,0,0,0,1.0,0,0,0,1.0,0,0.25,0,0,0,0,0,0.5,0,0,0,1.0,0,0,0,0,0,0,0.5,0.25,0,0,0,0,0,0,0,0,0,0.5,1.0,0,0,0,0,0,0.25,0,0,0,0,0,0,0,0,0,0,1.0,0,0.25,0.5],\"type\":\"scatter\",\"xaxis\":\"x3\",\"yaxis\":\"y3\"},{\"colorbar\":{\"title\":{\"text\":\"Objective Value\"}},\"colorscale\":[[0.0,\"rgb(247,251,255)\"],[0.125,\"rgb(222,235,247)\"],[0.25,\"rgb(198,219,239)\"],[0.375,\"rgb(158,202,225)\"],[0.5,\"rgb(107,174,214)\"],[0.625,\"rgb(66,146,198)\"],[0.75,\"rgb(33,113,181)\"],[0.875,\"rgb(8,81,156)\"],[1.0,\"rgb(8,48,107)\"]],\"connectgaps\":true,\"contours\":{\"coloring\":\"heatmap\"},\"hoverinfo\":\"none\",\"line\":{\"smoothing\":1.3},\"reversescale\":false,\"showscale\":false,\"x\":[2.9,3,4,5,5.1],\"y\":[0.0055,0.01,0.05,0.1,0.10450000000000001],\"z\":[[null,null,null,null,null],[null,0.8652407094403776,0.8761548626980243,0.8855388120189535,null],[null,0.903232296242885,0.9151669831861962,0.9218018305457732,null],[null,0.9233505880076606,0.9290105979907756,0.931777053820429,null],[null,null,null,null,null]],\"type\":\"contour\",\"xaxis\":\"x7\",\"yaxis\":\"y7\"},{\"marker\":{\"color\":\"black\",\"line\":{\"color\":\"Gray\",\"width\":2.0}},\"mode\":\"markers\",\"name\":\"Feasible Trial\",\"showlegend\":false,\"x\":[5,3,5,5,3,4,4,5,5,3,5,5,5,5,5,4,5,5,3,4,5,5,5,5,5,5,5,5,4,5,3,5,5,5,5,5,3,5,5,4,5,5,5,5,5,3,5,5,5,4,5,5,5,5,5,5,3,5,5,4,5,5,5,5,5,5,5,5,3,5,5,5,5,5,5,4,5,5,5,5,3,5,5,5,5,5,5,4,5,5,5,5,5,5,5,5,5,3,5,5],\"y\":[0.01,0.01,0.1,0.01,0.05,0.05,0.01,0.1,0.05,0.01,0.1,0.1,0.1,0.1,0.1,0.1,0.1,0.1,0.1,0.1,0.05,0.1,0.1,0.1,0.1,0.1,0.1,0.1,0.1,0.05,0.01,0.1,0.1,0.1,0.1,0.01,0.1,0.1,0.05,0.01,0.1,0.1,0.1,0.1,0.1,0.1,0.05,0.1,0.01,0.1,0.1,0.1,0.1,0.1,0.1,0.1,0.1,0.05,0.1,0.1,0.1,0.1,0.1,0.1,0.1,0.01,0.1,0.1,0.1,0.05,0.1,0.1,0.1,0.1,0.1,0.1,0.01,0.1,0.1,0.1,0.1,0.1,0.1,0.1,0.1,0.05,0.1,0.1,0.1,0.01,0.1,0.1,0.1,0.1,0.1,0.1,0.1,0.1,0.1,0.05],\"type\":\"scatter\",\"xaxis\":\"x7\",\"yaxis\":\"y7\"},{\"type\":\"scatter\",\"xaxis\":\"x11\",\"yaxis\":\"y11\"},{\"colorbar\":{\"title\":{\"text\":\"Objective Value\"}},\"colorscale\":[[0.0,\"rgb(247,251,255)\"],[0.125,\"rgb(222,235,247)\"],[0.25,\"rgb(198,219,239)\"],[0.375,\"rgb(158,202,225)\"],[0.5,\"rgb(107,174,214)\"],[0.625,\"rgb(66,146,198)\"],[0.75,\"rgb(33,113,181)\"],[0.875,\"rgb(8,81,156)\"],[1.0,\"rgb(8,48,107)\"]],\"connectgaps\":true,\"contours\":{\"coloring\":\"heatmap\"},\"hoverinfo\":\"none\",\"line\":{\"smoothing\":1.3},\"reversescale\":false,\"showscale\":false,\"x\":[2.9,3,4,5,5.1],\"y\":[-0.5,0,1.0,10.0,10.5],\"z\":[[null,null,null,null,null],[null,0.9233505880076606,0.9290105979907756,0.931777053820429,null],[null,0.9195662177082683,0.9275357024687482,0.9308444379178237,null],[null,0.8622981671086034,0.9199513813715977,0.9235015204284753,null],[null,null,null,null,null]],\"type\":\"contour\",\"xaxis\":\"x15\",\"yaxis\":\"y15\"},{\"marker\":{\"color\":\"black\",\"line\":{\"color\":\"Gray\",\"width\":2.0}},\"mode\":\"markers\",\"name\":\"Feasible Trial\",\"showlegend\":false,\"x\":[5,3,5,5,3,4,4,5,5,3,5,5,5,5,5,4,5,5,3,4,5,5,5,5,5,5,5,5,4,5,3,5,5,5,5,5,3,5,5,4,5,5,5,5,5,3,5,5,5,4,5,5,5,5,5,5,3,5,5,4,5,5,5,5,5,5,5,5,3,5,5,5,5,5,5,4,5,5,5,5,3,5,5,5,5,5,5,4,5,5,5,5,5,5,5,5,5,3,5,5],\"y\":[1.0,10.0,0,0,1.0,0,0,1.0,10.0,10.0,0,0,0,0,0,0,0,0,1.0,10.0,0,0,0,0,0,0,0,0,1.0,10.0,1.0,0,0,0,0,0,0,10.0,0,1.0,0,0,0,0,0,0,0,10.0,0,0,1.0,0,0,0,0,0,0,0,10.0,0,0,0,0,0,0,1.0,0,0,0,10.0,0,0,0,0,0,0,0,1.0,0,0,0,0,0,0,0,10.0,0,0,0,1.0,0,0,0,0,0,0,0,0,0,10.0],\"type\":\"scatter\",\"xaxis\":\"x15\",\"yaxis\":\"y15\"},{\"colorbar\":{\"title\":{\"text\":\"Objective Value\"}},\"colorscale\":[[0.0,\"rgb(247,251,255)\"],[0.125,\"rgb(222,235,247)\"],[0.25,\"rgb(198,219,239)\"],[0.375,\"rgb(158,202,225)\"],[0.5,\"rgb(107,174,214)\"],[0.625,\"rgb(66,146,198)\"],[0.75,\"rgb(33,113,181)\"],[0.875,\"rgb(8,81,156)\"],[1.0,\"rgb(8,48,107)\"]],\"connectgaps\":true,\"contours\":{\"coloring\":\"heatmap\"},\"hoverinfo\":\"none\",\"line\":{\"smoothing\":1.3},\"reversescale\":false,\"showscale\":false,\"x\":[-0.5,0,1.0,10.0,10.5],\"y\":[-0.05,0,0.25,0.5,1.0,1.05],\"z\":[[null,null,null,null,null],[null,0.931777053820429,0.9308444379178237,0.9226890152910778,null],[null,0.9311879525510861,0.9305841458861955,0.9235015204284753,null],[null,0.9310483918340425,null,0.9087049896079239,null],[null,0.9276517773148472,0.9254819052041209,0.8622981671086034,null],[null,null,null,null,null]],\"type\":\"contour\",\"xaxis\":\"x4\",\"yaxis\":\"y4\"},{\"marker\":{\"color\":\"black\",\"line\":{\"color\":\"Gray\",\"width\":2.0}},\"mode\":\"markers\",\"name\":\"Feasible Trial\",\"showlegend\":false,\"x\":[1.0,10.0,0,0,1.0,0,0,1.0,10.0,10.0,0,0,0,0,0,0,0,0,1.0,10.0,0,0,0,0,0,0,0,0,1.0,10.0,1.0,0,0,0,0,0,0,10.0,0,1.0,0,0,0,0,0,0,0,10.0,0,0,1.0,0,0,0,0,0,0,0,10.0,0,0,0,0,0,0,1.0,0,0,0,10.0,0,0,0,0,0,0,0,1.0,0,0,0,0,0,0,0,10.0,0,0,0,1.0,0,0,0,0,0,0,0,0,0,10.0],\"y\":[0.25,1.0,1.0,1.0,0,0.25,0.25,1.0,0.5,1.0,0.5,0.5,0.5,0.5,0.5,0.5,0,0,0,0,0,0,0,0,0,0,0,0,0,0.25,0,0,0,0,0,0,0,0.25,1.0,0,0.25,0,0,0,1.0,0,0,0,1.0,0,0.25,0,0,0,0,0,0.5,0,0,0,1.0,0,0,0,0,0,0,0.5,0.25,0,0,0,0,0,0,0,0,0,0.5,1.0,0,0,0,0,0,0.25,0,0,0,0,0,0,0,0,0,0,1.0,0,0.25,0.5],\"type\":\"scatter\",\"xaxis\":\"x4\",\"yaxis\":\"y4\"},{\"colorbar\":{\"title\":{\"text\":\"Objective Value\"}},\"colorscale\":[[0.0,\"rgb(247,251,255)\"],[0.125,\"rgb(222,235,247)\"],[0.25,\"rgb(198,219,239)\"],[0.375,\"rgb(158,202,225)\"],[0.5,\"rgb(107,174,214)\"],[0.625,\"rgb(66,146,198)\"],[0.75,\"rgb(33,113,181)\"],[0.875,\"rgb(8,81,156)\"],[1.0,\"rgb(8,48,107)\"]],\"connectgaps\":true,\"contours\":{\"coloring\":\"heatmap\"},\"hoverinfo\":\"none\",\"line\":{\"smoothing\":1.3},\"reversescale\":false,\"showscale\":false,\"x\":[-0.5,0,1.0,10.0,10.5],\"y\":[0.0055,0.01,0.05,0.1,0.10450000000000001],\"z\":[[null,null,null,null,null],[null,0.8855388120189535,0.8836941486522033,0.8622981671086034,null],[null,0.9218018305457732,0.903232296242885,0.908737746021998,null],[null,0.931777053820429,0.9308444379178237,0.9235015204284753,null],[null,null,null,null,null]],\"type\":\"contour\",\"xaxis\":\"x8\",\"yaxis\":\"y8\"},{\"marker\":{\"color\":\"black\",\"line\":{\"color\":\"Gray\",\"width\":2.0}},\"mode\":\"markers\",\"name\":\"Feasible Trial\",\"showlegend\":false,\"x\":[1.0,10.0,0,0,1.0,0,0,1.0,10.0,10.0,0,0,0,0,0,0,0,0,1.0,10.0,0,0,0,0,0,0,0,0,1.0,10.0,1.0,0,0,0,0,0,0,10.0,0,1.0,0,0,0,0,0,0,0,10.0,0,0,1.0,0,0,0,0,0,0,0,10.0,0,0,0,0,0,0,1.0,0,0,0,10.0,0,0,0,0,0,0,0,1.0,0,0,0,0,0,0,0,10.0,0,0,0,1.0,0,0,0,0,0,0,0,0,0,10.0],\"y\":[0.01,0.01,0.1,0.01,0.05,0.05,0.01,0.1,0.05,0.01,0.1,0.1,0.1,0.1,0.1,0.1,0.1,0.1,0.1,0.1,0.05,0.1,0.1,0.1,0.1,0.1,0.1,0.1,0.1,0.05,0.01,0.1,0.1,0.1,0.1,0.01,0.1,0.1,0.05,0.01,0.1,0.1,0.1,0.1,0.1,0.1,0.05,0.1,0.01,0.1,0.1,0.1,0.1,0.1,0.1,0.1,0.1,0.05,0.1,0.1,0.1,0.1,0.1,0.1,0.1,0.01,0.1,0.1,0.1,0.05,0.1,0.1,0.1,0.1,0.1,0.1,0.01,0.1,0.1,0.1,0.1,0.1,0.1,0.1,0.1,0.05,0.1,0.1,0.1,0.01,0.1,0.1,0.1,0.1,0.1,0.1,0.1,0.1,0.1,0.05],\"type\":\"scatter\",\"xaxis\":\"x8\",\"yaxis\":\"y8\"},{\"colorbar\":{\"title\":{\"text\":\"Objective Value\"}},\"colorscale\":[[0.0,\"rgb(247,251,255)\"],[0.125,\"rgb(222,235,247)\"],[0.25,\"rgb(198,219,239)\"],[0.375,\"rgb(158,202,225)\"],[0.5,\"rgb(107,174,214)\"],[0.625,\"rgb(66,146,198)\"],[0.75,\"rgb(33,113,181)\"],[0.875,\"rgb(8,81,156)\"],[1.0,\"rgb(8,48,107)\"]],\"connectgaps\":true,\"contours\":{\"coloring\":\"heatmap\"},\"hoverinfo\":\"none\",\"line\":{\"smoothing\":1.3},\"reversescale\":false,\"showscale\":false,\"x\":[-0.5,0,1.0,10.0,10.5],\"y\":[2.9,3,4,5,5.1],\"z\":[[null,null,null,null,null],[null,0.9233505880076606,0.9195662177082683,0.8622981671086034,null],[null,0.9290105979907756,0.9275357024687482,0.9199513813715977,null],[null,0.931777053820429,0.9308444379178237,0.9235015204284753,null],[null,null,null,null,null]],\"type\":\"contour\",\"xaxis\":\"x12\",\"yaxis\":\"y12\"},{\"marker\":{\"color\":\"black\",\"line\":{\"color\":\"Gray\",\"width\":2.0}},\"mode\":\"markers\",\"name\":\"Feasible Trial\",\"showlegend\":false,\"x\":[1.0,10.0,0,0,1.0,0,0,1.0,10.0,10.0,0,0,0,0,0,0,0,0,1.0,10.0,0,0,0,0,0,0,0,0,1.0,10.0,1.0,0,0,0,0,0,0,10.0,0,1.0,0,0,0,0,0,0,0,10.0,0,0,1.0,0,0,0,0,0,0,0,10.0,0,0,0,0,0,0,1.0,0,0,0,10.0,0,0,0,0,0,0,0,1.0,0,0,0,0,0,0,0,10.0,0,0,0,1.0,0,0,0,0,0,0,0,0,0,10.0],\"y\":[5,3,5,5,3,4,4,5,5,3,5,5,5,5,5,4,5,5,3,4,5,5,5,5,5,5,5,5,4,5,3,5,5,5,5,5,3,5,5,4,5,5,5,5,5,3,5,5,5,4,5,5,5,5,5,5,3,5,5,4,5,5,5,5,5,5,5,5,3,5,5,5,5,5,5,4,5,5,5,5,3,5,5,5,5,5,5,4,5,5,5,5,5,5,5,5,5,3,5,5],\"type\":\"scatter\",\"xaxis\":\"x12\",\"yaxis\":\"y12\"},{\"type\":\"scatter\",\"xaxis\":\"x16\",\"yaxis\":\"y16\"}],                        {\"template\":{\"data\":{\"histogram2dcontour\":[{\"type\":\"histogram2dcontour\",\"colorbar\":{\"outlinewidth\":0,\"ticks\":\"\"},\"colorscale\":[[0.0,\"#0d0887\"],[0.1111111111111111,\"#46039f\"],[0.2222222222222222,\"#7201a8\"],[0.3333333333333333,\"#9c179e\"],[0.4444444444444444,\"#bd3786\"],[0.5555555555555556,\"#d8576b\"],[0.6666666666666666,\"#ed7953\"],[0.7777777777777778,\"#fb9f3a\"],[0.8888888888888888,\"#fdca26\"],[1.0,\"#f0f921\"]]}],\"choropleth\":[{\"type\":\"choropleth\",\"colorbar\":{\"outlinewidth\":0,\"ticks\":\"\"}}],\"histogram2d\":[{\"type\":\"histogram2d\",\"colorbar\":{\"outlinewidth\":0,\"ticks\":\"\"},\"colorscale\":[[0.0,\"#0d0887\"],[0.1111111111111111,\"#46039f\"],[0.2222222222222222,\"#7201a8\"],[0.3333333333333333,\"#9c179e\"],[0.4444444444444444,\"#bd3786\"],[0.5555555555555556,\"#d8576b\"],[0.6666666666666666,\"#ed7953\"],[0.7777777777777778,\"#fb9f3a\"],[0.8888888888888888,\"#fdca26\"],[1.0,\"#f0f921\"]]}],\"heatmap\":[{\"type\":\"heatmap\",\"colorbar\":{\"outlinewidth\":0,\"ticks\":\"\"},\"colorscale\":[[0.0,\"#0d0887\"],[0.1111111111111111,\"#46039f\"],[0.2222222222222222,\"#7201a8\"],[0.3333333333333333,\"#9c179e\"],[0.4444444444444444,\"#bd3786\"],[0.5555555555555556,\"#d8576b\"],[0.6666666666666666,\"#ed7953\"],[0.7777777777777778,\"#fb9f3a\"],[0.8888888888888888,\"#fdca26\"],[1.0,\"#f0f921\"]]}],\"heatmapgl\":[{\"type\":\"heatmapgl\",\"colorbar\":{\"outlinewidth\":0,\"ticks\":\"\"},\"colorscale\":[[0.0,\"#0d0887\"],[0.1111111111111111,\"#46039f\"],[0.2222222222222222,\"#7201a8\"],[0.3333333333333333,\"#9c179e\"],[0.4444444444444444,\"#bd3786\"],[0.5555555555555556,\"#d8576b\"],[0.6666666666666666,\"#ed7953\"],[0.7777777777777778,\"#fb9f3a\"],[0.8888888888888888,\"#fdca26\"],[1.0,\"#f0f921\"]]}],\"contourcarpet\":[{\"type\":\"contourcarpet\",\"colorbar\":{\"outlinewidth\":0,\"ticks\":\"\"}}],\"contour\":[{\"type\":\"contour\",\"colorbar\":{\"outlinewidth\":0,\"ticks\":\"\"},\"colorscale\":[[0.0,\"#0d0887\"],[0.1111111111111111,\"#46039f\"],[0.2222222222222222,\"#7201a8\"],[0.3333333333333333,\"#9c179e\"],[0.4444444444444444,\"#bd3786\"],[0.5555555555555556,\"#d8576b\"],[0.6666666666666666,\"#ed7953\"],[0.7777777777777778,\"#fb9f3a\"],[0.8888888888888888,\"#fdca26\"],[1.0,\"#f0f921\"]]}],\"surface\":[{\"type\":\"surface\",\"colorbar\":{\"outlinewidth\":0,\"ticks\":\"\"},\"colorscale\":[[0.0,\"#0d0887\"],[0.1111111111111111,\"#46039f\"],[0.2222222222222222,\"#7201a8\"],[0.3333333333333333,\"#9c179e\"],[0.4444444444444444,\"#bd3786\"],[0.5555555555555556,\"#d8576b\"],[0.6666666666666666,\"#ed7953\"],[0.7777777777777778,\"#fb9f3a\"],[0.8888888888888888,\"#fdca26\"],[1.0,\"#f0f921\"]]}],\"mesh3d\":[{\"type\":\"mesh3d\",\"colorbar\":{\"outlinewidth\":0,\"ticks\":\"\"}}],\"scatter\":[{\"fillpattern\":{\"fillmode\":\"overlay\",\"size\":10,\"solidity\":0.2},\"type\":\"scatter\"}],\"parcoords\":[{\"type\":\"parcoords\",\"line\":{\"colorbar\":{\"outlinewidth\":0,\"ticks\":\"\"}}}],\"scatterpolargl\":[{\"type\":\"scatterpolargl\",\"marker\":{\"colorbar\":{\"outlinewidth\":0,\"ticks\":\"\"}}}],\"bar\":[{\"error_x\":{\"color\":\"#2a3f5f\"},\"error_y\":{\"color\":\"#2a3f5f\"},\"marker\":{\"line\":{\"color\":\"#E5ECF6\",\"width\":0.5},\"pattern\":{\"fillmode\":\"overlay\",\"size\":10,\"solidity\":0.2}},\"type\":\"bar\"}],\"scattergeo\":[{\"type\":\"scattergeo\",\"marker\":{\"colorbar\":{\"outlinewidth\":0,\"ticks\":\"\"}}}],\"scatterpolar\":[{\"type\":\"scatterpolar\",\"marker\":{\"colorbar\":{\"outlinewidth\":0,\"ticks\":\"\"}}}],\"histogram\":[{\"marker\":{\"pattern\":{\"fillmode\":\"overlay\",\"size\":10,\"solidity\":0.2}},\"type\":\"histogram\"}],\"scattergl\":[{\"type\":\"scattergl\",\"marker\":{\"colorbar\":{\"outlinewidth\":0,\"ticks\":\"\"}}}],\"scatter3d\":[{\"type\":\"scatter3d\",\"line\":{\"colorbar\":{\"outlinewidth\":0,\"ticks\":\"\"}},\"marker\":{\"colorbar\":{\"outlinewidth\":0,\"ticks\":\"\"}}}],\"scattermapbox\":[{\"type\":\"scattermapbox\",\"marker\":{\"colorbar\":{\"outlinewidth\":0,\"ticks\":\"\"}}}],\"scatterternary\":[{\"type\":\"scatterternary\",\"marker\":{\"colorbar\":{\"outlinewidth\":0,\"ticks\":\"\"}}}],\"scattercarpet\":[{\"type\":\"scattercarpet\",\"marker\":{\"colorbar\":{\"outlinewidth\":0,\"ticks\":\"\"}}}],\"carpet\":[{\"aaxis\":{\"endlinecolor\":\"#2a3f5f\",\"gridcolor\":\"white\",\"linecolor\":\"white\",\"minorgridcolor\":\"white\",\"startlinecolor\":\"#2a3f5f\"},\"baxis\":{\"endlinecolor\":\"#2a3f5f\",\"gridcolor\":\"white\",\"linecolor\":\"white\",\"minorgridcolor\":\"white\",\"startlinecolor\":\"#2a3f5f\"},\"type\":\"carpet\"}],\"table\":[{\"cells\":{\"fill\":{\"color\":\"#EBF0F8\"},\"line\":{\"color\":\"white\"}},\"header\":{\"fill\":{\"color\":\"#C8D4E3\"},\"line\":{\"color\":\"white\"}},\"type\":\"table\"}],\"barpolar\":[{\"marker\":{\"line\":{\"color\":\"#E5ECF6\",\"width\":0.5},\"pattern\":{\"fillmode\":\"overlay\",\"size\":10,\"solidity\":0.2}},\"type\":\"barpolar\"}],\"pie\":[{\"automargin\":true,\"type\":\"pie\"}]},\"layout\":{\"autotypenumbers\":\"strict\",\"colorway\":[\"#636efa\",\"#EF553B\",\"#00cc96\",\"#ab63fa\",\"#FFA15A\",\"#19d3f3\",\"#FF6692\",\"#B6E880\",\"#FF97FF\",\"#FECB52\"],\"font\":{\"color\":\"#2a3f5f\"},\"hovermode\":\"closest\",\"hoverlabel\":{\"align\":\"left\"},\"paper_bgcolor\":\"white\",\"plot_bgcolor\":\"#E5ECF6\",\"polar\":{\"bgcolor\":\"#E5ECF6\",\"angularaxis\":{\"gridcolor\":\"white\",\"linecolor\":\"white\",\"ticks\":\"\"},\"radialaxis\":{\"gridcolor\":\"white\",\"linecolor\":\"white\",\"ticks\":\"\"}},\"ternary\":{\"bgcolor\":\"#E5ECF6\",\"aaxis\":{\"gridcolor\":\"white\",\"linecolor\":\"white\",\"ticks\":\"\"},\"baxis\":{\"gridcolor\":\"white\",\"linecolor\":\"white\",\"ticks\":\"\"},\"caxis\":{\"gridcolor\":\"white\",\"linecolor\":\"white\",\"ticks\":\"\"}},\"coloraxis\":{\"colorbar\":{\"outlinewidth\":0,\"ticks\":\"\"}},\"colorscale\":{\"sequential\":[[0.0,\"#0d0887\"],[0.1111111111111111,\"#46039f\"],[0.2222222222222222,\"#7201a8\"],[0.3333333333333333,\"#9c179e\"],[0.4444444444444444,\"#bd3786\"],[0.5555555555555556,\"#d8576b\"],[0.6666666666666666,\"#ed7953\"],[0.7777777777777778,\"#fb9f3a\"],[0.8888888888888888,\"#fdca26\"],[1.0,\"#f0f921\"]],\"sequentialminus\":[[0.0,\"#0d0887\"],[0.1111111111111111,\"#46039f\"],[0.2222222222222222,\"#7201a8\"],[0.3333333333333333,\"#9c179e\"],[0.4444444444444444,\"#bd3786\"],[0.5555555555555556,\"#d8576b\"],[0.6666666666666666,\"#ed7953\"],[0.7777777777777778,\"#fb9f3a\"],[0.8888888888888888,\"#fdca26\"],[1.0,\"#f0f921\"]],\"diverging\":[[0,\"#8e0152\"],[0.1,\"#c51b7d\"],[0.2,\"#de77ae\"],[0.3,\"#f1b6da\"],[0.4,\"#fde0ef\"],[0.5,\"#f7f7f7\"],[0.6,\"#e6f5d0\"],[0.7,\"#b8e186\"],[0.8,\"#7fbc41\"],[0.9,\"#4d9221\"],[1,\"#276419\"]]},\"xaxis\":{\"gridcolor\":\"white\",\"linecolor\":\"white\",\"ticks\":\"\",\"title\":{\"standoff\":15},\"zerolinecolor\":\"white\",\"automargin\":true,\"zerolinewidth\":2},\"yaxis\":{\"gridcolor\":\"white\",\"linecolor\":\"white\",\"ticks\":\"\",\"title\":{\"standoff\":15},\"zerolinecolor\":\"white\",\"automargin\":true,\"zerolinewidth\":2},\"scene\":{\"xaxis\":{\"backgroundcolor\":\"#E5ECF6\",\"gridcolor\":\"white\",\"linecolor\":\"white\",\"showbackground\":true,\"ticks\":\"\",\"zerolinecolor\":\"white\",\"gridwidth\":2},\"yaxis\":{\"backgroundcolor\":\"#E5ECF6\",\"gridcolor\":\"white\",\"linecolor\":\"white\",\"showbackground\":true,\"ticks\":\"\",\"zerolinecolor\":\"white\",\"gridwidth\":2},\"zaxis\":{\"backgroundcolor\":\"#E5ECF6\",\"gridcolor\":\"white\",\"linecolor\":\"white\",\"showbackground\":true,\"ticks\":\"\",\"zerolinecolor\":\"white\",\"gridwidth\":2}},\"shapedefaults\":{\"line\":{\"color\":\"#2a3f5f\"}},\"annotationdefaults\":{\"arrowcolor\":\"#2a3f5f\",\"arrowhead\":0,\"arrowwidth\":1},\"geo\":{\"bgcolor\":\"white\",\"landcolor\":\"#E5ECF6\",\"subunitcolor\":\"white\",\"showland\":true,\"showlakes\":true,\"lakecolor\":\"white\"},\"title\":{\"x\":0.05},\"mapbox\":{\"style\":\"light\"}}},\"xaxis\":{\"anchor\":\"y\",\"domain\":[0.0,0.2125],\"matches\":\"x13\",\"showticklabels\":false,\"range\":[-0.05,1.05]},\"yaxis\":{\"anchor\":\"x\",\"domain\":[0.80625,1.0],\"range\":[-0.05,1.05],\"title\":{\"text\":\"gamma\"}},\"xaxis2\":{\"anchor\":\"y2\",\"domain\":[0.2625,0.475],\"matches\":\"x14\",\"showticklabels\":false,\"range\":[0.0055,0.10450000000000001]},\"yaxis2\":{\"anchor\":\"x2\",\"domain\":[0.80625,1.0],\"matches\":\"y\",\"showticklabels\":false,\"range\":[-0.05,1.05]},\"xaxis3\":{\"anchor\":\"y3\",\"domain\":[0.525,0.7375],\"matches\":\"x15\",\"showticklabels\":false,\"range\":[2.9,5.1]},\"yaxis3\":{\"anchor\":\"x3\",\"domain\":[0.80625,1.0],\"matches\":\"y\",\"showticklabels\":false,\"range\":[-0.05,1.05]},\"xaxis4\":{\"anchor\":\"y4\",\"domain\":[0.7875,1.0],\"matches\":\"x16\",\"showticklabels\":false,\"range\":[-0.5,10.5]},\"yaxis4\":{\"anchor\":\"x4\",\"domain\":[0.80625,1.0],\"matches\":\"y\",\"showticklabels\":false,\"range\":[-0.05,1.05]},\"xaxis5\":{\"anchor\":\"y5\",\"domain\":[0.0,0.2125],\"matches\":\"x13\",\"showticklabels\":false,\"range\":[-0.05,1.05]},\"yaxis5\":{\"anchor\":\"x5\",\"domain\":[0.5375,0.73125],\"range\":[0.0055,0.10450000000000001],\"title\":{\"text\":\"learning_rate\"}},\"xaxis6\":{\"anchor\":\"y6\",\"domain\":[0.2625,0.475],\"matches\":\"x14\",\"showticklabels\":false,\"range\":[0.0055,0.10450000000000001]},\"yaxis6\":{\"anchor\":\"x6\",\"domain\":[0.5375,0.73125],\"matches\":\"y5\",\"showticklabels\":false,\"range\":[0.0055,0.10450000000000001]},\"xaxis7\":{\"anchor\":\"y7\",\"domain\":[0.525,0.7375],\"matches\":\"x15\",\"showticklabels\":false,\"range\":[2.9,5.1]},\"yaxis7\":{\"anchor\":\"x7\",\"domain\":[0.5375,0.73125],\"matches\":\"y5\",\"showticklabels\":false,\"range\":[0.0055,0.10450000000000001]},\"xaxis8\":{\"anchor\":\"y8\",\"domain\":[0.7875,1.0],\"matches\":\"x16\",\"showticklabels\":false,\"range\":[-0.5,10.5]},\"yaxis8\":{\"anchor\":\"x8\",\"domain\":[0.5375,0.73125],\"matches\":\"y5\",\"showticklabels\":false,\"range\":[0.0055,0.10450000000000001]},\"xaxis9\":{\"anchor\":\"y9\",\"domain\":[0.0,0.2125],\"matches\":\"x13\",\"showticklabels\":false,\"range\":[-0.05,1.05]},\"yaxis9\":{\"anchor\":\"x9\",\"domain\":[0.26875,0.4625],\"range\":[2.9,5.1],\"title\":{\"text\":\"max_depth\"}},\"xaxis10\":{\"anchor\":\"y10\",\"domain\":[0.2625,0.475],\"matches\":\"x14\",\"showticklabels\":false,\"range\":[0.0055,0.10450000000000001]},\"yaxis10\":{\"anchor\":\"x10\",\"domain\":[0.26875,0.4625],\"matches\":\"y9\",\"showticklabels\":false,\"range\":[2.9,5.1]},\"xaxis11\":{\"anchor\":\"y11\",\"domain\":[0.525,0.7375],\"matches\":\"x15\",\"showticklabels\":false,\"range\":[2.9,5.1]},\"yaxis11\":{\"anchor\":\"x11\",\"domain\":[0.26875,0.4625],\"matches\":\"y9\",\"showticklabels\":false,\"range\":[2.9,5.1]},\"xaxis12\":{\"anchor\":\"y12\",\"domain\":[0.7875,1.0],\"matches\":\"x16\",\"showticklabels\":false,\"range\":[-0.5,10.5]},\"yaxis12\":{\"anchor\":\"x12\",\"domain\":[0.26875,0.4625],\"matches\":\"y9\",\"showticklabels\":false,\"range\":[2.9,5.1]},\"xaxis13\":{\"anchor\":\"y13\",\"domain\":[0.0,0.2125],\"range\":[-0.05,1.05],\"title\":{\"text\":\"gamma\"}},\"yaxis13\":{\"anchor\":\"x13\",\"domain\":[0.0,0.19375],\"range\":[-0.5,10.5],\"title\":{\"text\":\"reg_lambda\"}},\"xaxis14\":{\"anchor\":\"y14\",\"domain\":[0.2625,0.475],\"range\":[0.0055,0.10450000000000001],\"title\":{\"text\":\"learning_rate\"}},\"yaxis14\":{\"anchor\":\"x14\",\"domain\":[0.0,0.19375],\"matches\":\"y13\",\"showticklabels\":false,\"range\":[-0.5,10.5]},\"xaxis15\":{\"anchor\":\"y15\",\"domain\":[0.525,0.7375],\"range\":[2.9,5.1],\"title\":{\"text\":\"max_depth\"}},\"yaxis15\":{\"anchor\":\"x15\",\"domain\":[0.0,0.19375],\"matches\":\"y13\",\"showticklabels\":false,\"range\":[-0.5,10.5]},\"xaxis16\":{\"anchor\":\"y16\",\"domain\":[0.7875,1.0],\"range\":[-0.5,10.5],\"title\":{\"text\":\"reg_lambda\"}},\"yaxis16\":{\"anchor\":\"x16\",\"domain\":[0.0,0.19375],\"matches\":\"y13\",\"showticklabels\":false,\"range\":[-0.5,10.5]},\"title\":{\"text\":\"Contour Plot\"}},                        {\"responsive\": true}                    ).then(function(){\n",
              "                            \n",
              "var gd = document.getElementById('59fb541d-aa3a-46f0-82f1-632ead186894');\n",
              "var x = new MutationObserver(function (mutations, observer) {{\n",
              "        var display = window.getComputedStyle(gd).display;\n",
              "        if (!display || display === 'none') {{\n",
              "            console.log([gd, 'removed!']);\n",
              "            Plotly.purge(gd);\n",
              "            observer.disconnect();\n",
              "        }}\n",
              "}});\n",
              "\n",
              "// Listen for the removal of the full notebook cells\n",
              "var notebookContainer = gd.closest('#notebook-container');\n",
              "if (notebookContainer) {{\n",
              "    x.observe(notebookContainer, {childList: true});\n",
              "}}\n",
              "\n",
              "// Listen for the clearing of the current output cell\n",
              "var outputEl = gd.closest('.output');\n",
              "if (outputEl) {{\n",
              "    x.observe(outputEl, {childList: true});\n",
              "}}\n",
              "\n",
              "                        })                };                            </script>        </div>\n",
              "</body>\n",
              "</html>"
            ]
          },
          "metadata": {}
        }
      ]
    },
    {
      "cell_type": "code",
      "source": [
        "# 5. Hyperparameter Importance\n",
        "plot_param_importances(study).show()"
      ],
      "metadata": {
        "colab": {
          "base_uri": "https://localhost:8080/",
          "height": 542
        },
        "id": "hjD_DgpV8YwU",
        "outputId": "bd80286e-0393-4157-de72-84d49eb6a1c0"
      },
      "execution_count": null,
      "outputs": [
        {
          "output_type": "display_data",
          "data": {
            "text/html": [
              "<html>\n",
              "<head><meta charset=\"utf-8\" /></head>\n",
              "<body>\n",
              "    <div>            <script src=\"https://cdnjs.cloudflare.com/ajax/libs/mathjax/2.7.5/MathJax.js?config=TeX-AMS-MML_SVG\"></script><script type=\"text/javascript\">if (window.MathJax && window.MathJax.Hub && window.MathJax.Hub.Config) {window.MathJax.Hub.Config({SVG: {font: \"STIX-Web\"}});}</script>                <script type=\"text/javascript\">window.PlotlyConfig = {MathJaxConfig: 'local'};</script>\n",
              "        <script charset=\"utf-8\" src=\"https://cdn.plot.ly/plotly-2.35.2.min.js\"></script>                <div id=\"10ea12dc-21fd-4120-97c2-b1d32eece6c8\" class=\"plotly-graph-div\" style=\"height:525px; width:100%;\"></div>            <script type=\"text/javascript\">                                    window.PLOTLYENV=window.PLOTLYENV || {};                                    if (document.getElementById(\"10ea12dc-21fd-4120-97c2-b1d32eece6c8\")) {                    Plotly.newPlot(                        \"10ea12dc-21fd-4120-97c2-b1d32eece6c8\",                        [{\"cliponaxis\":false,\"hovertemplate\":[\"gamma (CategoricalDistribution): 0.0004758140166463493\\u003cextra\\u003e\\u003c\\u002fextra\\u003e\",\"reg_lambda (CategoricalDistribution): 0.012622320559435518\\u003cextra\\u003e\\u003c\\u002fextra\\u003e\",\"max_depth (CategoricalDistribution): 0.03407216644564266\\u003cextra\\u003e\\u003c\\u002fextra\\u003e\",\"learning_rate (CategoricalDistribution): 0.9528296989782754\\u003cextra\\u003e\\u003c\\u002fextra\\u003e\"],\"name\":\"Objective Value\",\"orientation\":\"h\",\"text\":[\"\\u003c0.01\",\"0.01\",\"0.03\",\"0.95\"],\"textposition\":\"outside\",\"x\":[0.0004758140166463493,0.012622320559435518,0.03407216644564266,0.9528296989782754],\"y\":[\"gamma\",\"reg_lambda\",\"max_depth\",\"learning_rate\"],\"type\":\"bar\"}],                        {\"title\":{\"text\":\"Hyperparameter Importances\"},\"xaxis\":{\"title\":{\"text\":\"Hyperparameter Importance\"}},\"yaxis\":{\"title\":{\"text\":\"Hyperparameter\"}},\"template\":{\"data\":{\"histogram2dcontour\":[{\"type\":\"histogram2dcontour\",\"colorbar\":{\"outlinewidth\":0,\"ticks\":\"\"},\"colorscale\":[[0.0,\"#0d0887\"],[0.1111111111111111,\"#46039f\"],[0.2222222222222222,\"#7201a8\"],[0.3333333333333333,\"#9c179e\"],[0.4444444444444444,\"#bd3786\"],[0.5555555555555556,\"#d8576b\"],[0.6666666666666666,\"#ed7953\"],[0.7777777777777778,\"#fb9f3a\"],[0.8888888888888888,\"#fdca26\"],[1.0,\"#f0f921\"]]}],\"choropleth\":[{\"type\":\"choropleth\",\"colorbar\":{\"outlinewidth\":0,\"ticks\":\"\"}}],\"histogram2d\":[{\"type\":\"histogram2d\",\"colorbar\":{\"outlinewidth\":0,\"ticks\":\"\"},\"colorscale\":[[0.0,\"#0d0887\"],[0.1111111111111111,\"#46039f\"],[0.2222222222222222,\"#7201a8\"],[0.3333333333333333,\"#9c179e\"],[0.4444444444444444,\"#bd3786\"],[0.5555555555555556,\"#d8576b\"],[0.6666666666666666,\"#ed7953\"],[0.7777777777777778,\"#fb9f3a\"],[0.8888888888888888,\"#fdca26\"],[1.0,\"#f0f921\"]]}],\"heatmap\":[{\"type\":\"heatmap\",\"colorbar\":{\"outlinewidth\":0,\"ticks\":\"\"},\"colorscale\":[[0.0,\"#0d0887\"],[0.1111111111111111,\"#46039f\"],[0.2222222222222222,\"#7201a8\"],[0.3333333333333333,\"#9c179e\"],[0.4444444444444444,\"#bd3786\"],[0.5555555555555556,\"#d8576b\"],[0.6666666666666666,\"#ed7953\"],[0.7777777777777778,\"#fb9f3a\"],[0.8888888888888888,\"#fdca26\"],[1.0,\"#f0f921\"]]}],\"heatmapgl\":[{\"type\":\"heatmapgl\",\"colorbar\":{\"outlinewidth\":0,\"ticks\":\"\"},\"colorscale\":[[0.0,\"#0d0887\"],[0.1111111111111111,\"#46039f\"],[0.2222222222222222,\"#7201a8\"],[0.3333333333333333,\"#9c179e\"],[0.4444444444444444,\"#bd3786\"],[0.5555555555555556,\"#d8576b\"],[0.6666666666666666,\"#ed7953\"],[0.7777777777777778,\"#fb9f3a\"],[0.8888888888888888,\"#fdca26\"],[1.0,\"#f0f921\"]]}],\"contourcarpet\":[{\"type\":\"contourcarpet\",\"colorbar\":{\"outlinewidth\":0,\"ticks\":\"\"}}],\"contour\":[{\"type\":\"contour\",\"colorbar\":{\"outlinewidth\":0,\"ticks\":\"\"},\"colorscale\":[[0.0,\"#0d0887\"],[0.1111111111111111,\"#46039f\"],[0.2222222222222222,\"#7201a8\"],[0.3333333333333333,\"#9c179e\"],[0.4444444444444444,\"#bd3786\"],[0.5555555555555556,\"#d8576b\"],[0.6666666666666666,\"#ed7953\"],[0.7777777777777778,\"#fb9f3a\"],[0.8888888888888888,\"#fdca26\"],[1.0,\"#f0f921\"]]}],\"surface\":[{\"type\":\"surface\",\"colorbar\":{\"outlinewidth\":0,\"ticks\":\"\"},\"colorscale\":[[0.0,\"#0d0887\"],[0.1111111111111111,\"#46039f\"],[0.2222222222222222,\"#7201a8\"],[0.3333333333333333,\"#9c179e\"],[0.4444444444444444,\"#bd3786\"],[0.5555555555555556,\"#d8576b\"],[0.6666666666666666,\"#ed7953\"],[0.7777777777777778,\"#fb9f3a\"],[0.8888888888888888,\"#fdca26\"],[1.0,\"#f0f921\"]]}],\"mesh3d\":[{\"type\":\"mesh3d\",\"colorbar\":{\"outlinewidth\":0,\"ticks\":\"\"}}],\"scatter\":[{\"fillpattern\":{\"fillmode\":\"overlay\",\"size\":10,\"solidity\":0.2},\"type\":\"scatter\"}],\"parcoords\":[{\"type\":\"parcoords\",\"line\":{\"colorbar\":{\"outlinewidth\":0,\"ticks\":\"\"}}}],\"scatterpolargl\":[{\"type\":\"scatterpolargl\",\"marker\":{\"colorbar\":{\"outlinewidth\":0,\"ticks\":\"\"}}}],\"bar\":[{\"error_x\":{\"color\":\"#2a3f5f\"},\"error_y\":{\"color\":\"#2a3f5f\"},\"marker\":{\"line\":{\"color\":\"#E5ECF6\",\"width\":0.5},\"pattern\":{\"fillmode\":\"overlay\",\"size\":10,\"solidity\":0.2}},\"type\":\"bar\"}],\"scattergeo\":[{\"type\":\"scattergeo\",\"marker\":{\"colorbar\":{\"outlinewidth\":0,\"ticks\":\"\"}}}],\"scatterpolar\":[{\"type\":\"scatterpolar\",\"marker\":{\"colorbar\":{\"outlinewidth\":0,\"ticks\":\"\"}}}],\"histogram\":[{\"marker\":{\"pattern\":{\"fillmode\":\"overlay\",\"size\":10,\"solidity\":0.2}},\"type\":\"histogram\"}],\"scattergl\":[{\"type\":\"scattergl\",\"marker\":{\"colorbar\":{\"outlinewidth\":0,\"ticks\":\"\"}}}],\"scatter3d\":[{\"type\":\"scatter3d\",\"line\":{\"colorbar\":{\"outlinewidth\":0,\"ticks\":\"\"}},\"marker\":{\"colorbar\":{\"outlinewidth\":0,\"ticks\":\"\"}}}],\"scattermapbox\":[{\"type\":\"scattermapbox\",\"marker\":{\"colorbar\":{\"outlinewidth\":0,\"ticks\":\"\"}}}],\"scatterternary\":[{\"type\":\"scatterternary\",\"marker\":{\"colorbar\":{\"outlinewidth\":0,\"ticks\":\"\"}}}],\"scattercarpet\":[{\"type\":\"scattercarpet\",\"marker\":{\"colorbar\":{\"outlinewidth\":0,\"ticks\":\"\"}}}],\"carpet\":[{\"aaxis\":{\"endlinecolor\":\"#2a3f5f\",\"gridcolor\":\"white\",\"linecolor\":\"white\",\"minorgridcolor\":\"white\",\"startlinecolor\":\"#2a3f5f\"},\"baxis\":{\"endlinecolor\":\"#2a3f5f\",\"gridcolor\":\"white\",\"linecolor\":\"white\",\"minorgridcolor\":\"white\",\"startlinecolor\":\"#2a3f5f\"},\"type\":\"carpet\"}],\"table\":[{\"cells\":{\"fill\":{\"color\":\"#EBF0F8\"},\"line\":{\"color\":\"white\"}},\"header\":{\"fill\":{\"color\":\"#C8D4E3\"},\"line\":{\"color\":\"white\"}},\"type\":\"table\"}],\"barpolar\":[{\"marker\":{\"line\":{\"color\":\"#E5ECF6\",\"width\":0.5},\"pattern\":{\"fillmode\":\"overlay\",\"size\":10,\"solidity\":0.2}},\"type\":\"barpolar\"}],\"pie\":[{\"automargin\":true,\"type\":\"pie\"}]},\"layout\":{\"autotypenumbers\":\"strict\",\"colorway\":[\"#636efa\",\"#EF553B\",\"#00cc96\",\"#ab63fa\",\"#FFA15A\",\"#19d3f3\",\"#FF6692\",\"#B6E880\",\"#FF97FF\",\"#FECB52\"],\"font\":{\"color\":\"#2a3f5f\"},\"hovermode\":\"closest\",\"hoverlabel\":{\"align\":\"left\"},\"paper_bgcolor\":\"white\",\"plot_bgcolor\":\"#E5ECF6\",\"polar\":{\"bgcolor\":\"#E5ECF6\",\"angularaxis\":{\"gridcolor\":\"white\",\"linecolor\":\"white\",\"ticks\":\"\"},\"radialaxis\":{\"gridcolor\":\"white\",\"linecolor\":\"white\",\"ticks\":\"\"}},\"ternary\":{\"bgcolor\":\"#E5ECF6\",\"aaxis\":{\"gridcolor\":\"white\",\"linecolor\":\"white\",\"ticks\":\"\"},\"baxis\":{\"gridcolor\":\"white\",\"linecolor\":\"white\",\"ticks\":\"\"},\"caxis\":{\"gridcolor\":\"white\",\"linecolor\":\"white\",\"ticks\":\"\"}},\"coloraxis\":{\"colorbar\":{\"outlinewidth\":0,\"ticks\":\"\"}},\"colorscale\":{\"sequential\":[[0.0,\"#0d0887\"],[0.1111111111111111,\"#46039f\"],[0.2222222222222222,\"#7201a8\"],[0.3333333333333333,\"#9c179e\"],[0.4444444444444444,\"#bd3786\"],[0.5555555555555556,\"#d8576b\"],[0.6666666666666666,\"#ed7953\"],[0.7777777777777778,\"#fb9f3a\"],[0.8888888888888888,\"#fdca26\"],[1.0,\"#f0f921\"]],\"sequentialminus\":[[0.0,\"#0d0887\"],[0.1111111111111111,\"#46039f\"],[0.2222222222222222,\"#7201a8\"],[0.3333333333333333,\"#9c179e\"],[0.4444444444444444,\"#bd3786\"],[0.5555555555555556,\"#d8576b\"],[0.6666666666666666,\"#ed7953\"],[0.7777777777777778,\"#fb9f3a\"],[0.8888888888888888,\"#fdca26\"],[1.0,\"#f0f921\"]],\"diverging\":[[0,\"#8e0152\"],[0.1,\"#c51b7d\"],[0.2,\"#de77ae\"],[0.3,\"#f1b6da\"],[0.4,\"#fde0ef\"],[0.5,\"#f7f7f7\"],[0.6,\"#e6f5d0\"],[0.7,\"#b8e186\"],[0.8,\"#7fbc41\"],[0.9,\"#4d9221\"],[1,\"#276419\"]]},\"xaxis\":{\"gridcolor\":\"white\",\"linecolor\":\"white\",\"ticks\":\"\",\"title\":{\"standoff\":15},\"zerolinecolor\":\"white\",\"automargin\":true,\"zerolinewidth\":2},\"yaxis\":{\"gridcolor\":\"white\",\"linecolor\":\"white\",\"ticks\":\"\",\"title\":{\"standoff\":15},\"zerolinecolor\":\"white\",\"automargin\":true,\"zerolinewidth\":2},\"scene\":{\"xaxis\":{\"backgroundcolor\":\"#E5ECF6\",\"gridcolor\":\"white\",\"linecolor\":\"white\",\"showbackground\":true,\"ticks\":\"\",\"zerolinecolor\":\"white\",\"gridwidth\":2},\"yaxis\":{\"backgroundcolor\":\"#E5ECF6\",\"gridcolor\":\"white\",\"linecolor\":\"white\",\"showbackground\":true,\"ticks\":\"\",\"zerolinecolor\":\"white\",\"gridwidth\":2},\"zaxis\":{\"backgroundcolor\":\"#E5ECF6\",\"gridcolor\":\"white\",\"linecolor\":\"white\",\"showbackground\":true,\"ticks\":\"\",\"zerolinecolor\":\"white\",\"gridwidth\":2}},\"shapedefaults\":{\"line\":{\"color\":\"#2a3f5f\"}},\"annotationdefaults\":{\"arrowcolor\":\"#2a3f5f\",\"arrowhead\":0,\"arrowwidth\":1},\"geo\":{\"bgcolor\":\"white\",\"landcolor\":\"#E5ECF6\",\"subunitcolor\":\"white\",\"showland\":true,\"showlakes\":true,\"lakecolor\":\"white\"},\"title\":{\"x\":0.05},\"mapbox\":{\"style\":\"light\"}}}},                        {\"responsive\": true}                    ).then(function(){\n",
              "                            \n",
              "var gd = document.getElementById('10ea12dc-21fd-4120-97c2-b1d32eece6c8');\n",
              "var x = new MutationObserver(function (mutations, observer) {{\n",
              "        var display = window.getComputedStyle(gd).display;\n",
              "        if (!display || display === 'none') {{\n",
              "            console.log([gd, 'removed!']);\n",
              "            Plotly.purge(gd);\n",
              "            observer.disconnect();\n",
              "        }}\n",
              "}});\n",
              "\n",
              "// Listen for the removal of the full notebook cells\n",
              "var notebookContainer = gd.closest('#notebook-container');\n",
              "if (notebookContainer) {{\n",
              "    x.observe(notebookContainer, {childList: true});\n",
              "}}\n",
              "\n",
              "// Listen for the clearing of the current output cell\n",
              "var outputEl = gd.closest('.output');\n",
              "if (outputEl) {{\n",
              "    x.observe(outputEl, {childList: true});\n",
              "}}\n",
              "\n",
              "                        })                };                            </script>        </div>\n",
              "</body>\n",
              "</html>"
            ]
          },
          "metadata": {}
        }
      ]
    },
    {
      "cell_type": "markdown",
      "source": [
        "#  Pipeline"
      ],
      "metadata": {
        "id": "3NQx2zuL_me7"
      }
    },
    {
      "cell_type": "code",
      "source": [
        "# Here splitting the training and testing dataset again\n",
        "\n",
        "X_train,X_test,y_train,y_test = train_test_split(df.drop(columns=['Churn']),\n",
        "                                                 df['Churn'],\n",
        "                                                 test_size=0.2,\n",
        "                                                 stratify = df['Churn'],\n",
        "                                                 random_state=42)"
      ],
      "metadata": {
        "id": "kXE35S_bV1MP"
      },
      "execution_count": null,
      "outputs": []
    },
    {
      "cell_type": "code",
      "source": [
        "imputer = KNNImputer()\n",
        "scaler = StandardScaler()\n",
        "ohe = OneHotEncoder(drop = 'first', handle_unknown='ignore', sparse_output=False)\n",
        "\n",
        "\n",
        "# Indices of both categorical and numerical columns\n",
        "CAT_FEATURES = [0, 1, 2, 3, 5, 6, 7, 8, 9, 10, 11, 12, 13, 14, 15, 16]\n",
        "NUM_FEATURES = [4, 17, 18]\n",
        "\n",
        "preprocessor = ColumnTransformer(\n",
        "    transformers=[\n",
        "        ('num_pipe',\n",
        "         Pipeline([('imputer', imputer), ('scaler', scaler)]),\n",
        "         NUM_FEATURES),\n",
        "\n",
        "        ('cat_pipe', ohe, CAT_FEATURES)\n",
        "    ],\n",
        "    remainder='passthrough'\n",
        ")\n",
        "\n",
        "le = LabelEncoder()\n",
        "y_train = le.fit_transform(y_train)\n",
        "\n",
        "# Final Pipeline with SMOTE\n",
        "\n",
        "final_pipe = ImbPipeline([\n",
        "    ('preprocessor', preprocessor),\n",
        "    ('smote', SMOTE(random_state=42)),\n",
        "    ('model', XGBClassifier(\n",
        "                  learning_rate= 0.1,\n",
        "                  max_depth= 5,\n",
        "                  gamma= 0,\n",
        "                  reg_lambda= 0,\n",
        "                  random_state=42))\n",
        "])\n",
        "\n",
        "# Fit the Final Pipeline\n",
        "final_pipe.fit(X_train, y_train)"
      ],
      "metadata": {
        "colab": {
          "base_uri": "https://localhost:8080/",
          "height": 330
        },
        "id": "bXWu5da3p_uo",
        "outputId": "a40c9e0c-071c-4014-9499-ca20908c38e5"
      },
      "execution_count": null,
      "outputs": [
        {
          "output_type": "execute_result",
          "data": {
            "text/plain": [
              "Pipeline(steps=[('preprocessor',\n",
              "                 ColumnTransformer(remainder='passthrough',\n",
              "                                   transformers=[('num_pipe',\n",
              "                                                  Pipeline(steps=[('imputer',\n",
              "                                                                   KNNImputer()),\n",
              "                                                                  ('scaler',\n",
              "                                                                   StandardScaler())]),\n",
              "                                                  [4, 17, 18]),\n",
              "                                                 ('cat_pipe',\n",
              "                                                  OneHotEncoder(drop='first',\n",
              "                                                                handle_unknown='ignore',\n",
              "                                                                sparse_output=False),\n",
              "                                                  [0, 1, 2, 3, 5, 6, 7, 8, 9,\n",
              "                                                   10, 11, 12, 13, 14, 15,\n",
              "                                                   16])])),\n",
              "                ('smote', SMOTE(random_state=42)),\n",
              "                ('mode...\n",
              "                               feature_types=None, feature_weights=None,\n",
              "                               gamma=0, grow_policy=None, importance_type=None,\n",
              "                               interaction_constraints=None, learning_rate=0.1,\n",
              "                               max_bin=None, max_cat_threshold=None,\n",
              "                               max_cat_to_onehot=None, max_delta_step=None,\n",
              "                               max_depth=5, max_leaves=None,\n",
              "                               min_child_weight=None, missing=nan,\n",
              "                               monotone_constraints=None, multi_strategy=None,\n",
              "                               n_estimators=None, n_jobs=None,\n",
              "                               num_parallel_tree=None, ...))])"
            ],
            "text/html": [
              "<style>#sk-container-id-5 {\n",
              "  /* Definition of color scheme common for light and dark mode */\n",
              "  --sklearn-color-text: #000;\n",
              "  --sklearn-color-text-muted: #666;\n",
              "  --sklearn-color-line: gray;\n",
              "  /* Definition of color scheme for unfitted estimators */\n",
              "  --sklearn-color-unfitted-level-0: #fff5e6;\n",
              "  --sklearn-color-unfitted-level-1: #f6e4d2;\n",
              "  --sklearn-color-unfitted-level-2: #ffe0b3;\n",
              "  --sklearn-color-unfitted-level-3: chocolate;\n",
              "  /* Definition of color scheme for fitted estimators */\n",
              "  --sklearn-color-fitted-level-0: #f0f8ff;\n",
              "  --sklearn-color-fitted-level-1: #d4ebff;\n",
              "  --sklearn-color-fitted-level-2: #b3dbfd;\n",
              "  --sklearn-color-fitted-level-3: cornflowerblue;\n",
              "\n",
              "  /* Specific color for light theme */\n",
              "  --sklearn-color-text-on-default-background: var(--sg-text-color, var(--theme-code-foreground, var(--jp-content-font-color1, black)));\n",
              "  --sklearn-color-background: var(--sg-background-color, var(--theme-background, var(--jp-layout-color0, white)));\n",
              "  --sklearn-color-border-box: var(--sg-text-color, var(--theme-code-foreground, var(--jp-content-font-color1, black)));\n",
              "  --sklearn-color-icon: #696969;\n",
              "\n",
              "  @media (prefers-color-scheme: dark) {\n",
              "    /* Redefinition of color scheme for dark theme */\n",
              "    --sklearn-color-text-on-default-background: var(--sg-text-color, var(--theme-code-foreground, var(--jp-content-font-color1, white)));\n",
              "    --sklearn-color-background: var(--sg-background-color, var(--theme-background, var(--jp-layout-color0, #111)));\n",
              "    --sklearn-color-border-box: var(--sg-text-color, var(--theme-code-foreground, var(--jp-content-font-color1, white)));\n",
              "    --sklearn-color-icon: #878787;\n",
              "  }\n",
              "}\n",
              "\n",
              "#sk-container-id-5 {\n",
              "  color: var(--sklearn-color-text);\n",
              "}\n",
              "\n",
              "#sk-container-id-5 pre {\n",
              "  padding: 0;\n",
              "}\n",
              "\n",
              "#sk-container-id-5 input.sk-hidden--visually {\n",
              "  border: 0;\n",
              "  clip: rect(1px 1px 1px 1px);\n",
              "  clip: rect(1px, 1px, 1px, 1px);\n",
              "  height: 1px;\n",
              "  margin: -1px;\n",
              "  overflow: hidden;\n",
              "  padding: 0;\n",
              "  position: absolute;\n",
              "  width: 1px;\n",
              "}\n",
              "\n",
              "#sk-container-id-5 div.sk-dashed-wrapped {\n",
              "  border: 1px dashed var(--sklearn-color-line);\n",
              "  margin: 0 0.4em 0.5em 0.4em;\n",
              "  box-sizing: border-box;\n",
              "  padding-bottom: 0.4em;\n",
              "  background-color: var(--sklearn-color-background);\n",
              "}\n",
              "\n",
              "#sk-container-id-5 div.sk-container {\n",
              "  /* jupyter's `normalize.less` sets `[hidden] { display: none; }`\n",
              "     but bootstrap.min.css set `[hidden] { display: none !important; }`\n",
              "     so we also need the `!important` here to be able to override the\n",
              "     default hidden behavior on the sphinx rendered scikit-learn.org.\n",
              "     See: https://github.com/scikit-learn/scikit-learn/issues/21755 */\n",
              "  display: inline-block !important;\n",
              "  position: relative;\n",
              "}\n",
              "\n",
              "#sk-container-id-5 div.sk-text-repr-fallback {\n",
              "  display: none;\n",
              "}\n",
              "\n",
              "div.sk-parallel-item,\n",
              "div.sk-serial,\n",
              "div.sk-item {\n",
              "  /* draw centered vertical line to link estimators */\n",
              "  background-image: linear-gradient(var(--sklearn-color-text-on-default-background), var(--sklearn-color-text-on-default-background));\n",
              "  background-size: 2px 100%;\n",
              "  background-repeat: no-repeat;\n",
              "  background-position: center center;\n",
              "}\n",
              "\n",
              "/* Parallel-specific style estimator block */\n",
              "\n",
              "#sk-container-id-5 div.sk-parallel-item::after {\n",
              "  content: \"\";\n",
              "  width: 100%;\n",
              "  border-bottom: 2px solid var(--sklearn-color-text-on-default-background);\n",
              "  flex-grow: 1;\n",
              "}\n",
              "\n",
              "#sk-container-id-5 div.sk-parallel {\n",
              "  display: flex;\n",
              "  align-items: stretch;\n",
              "  justify-content: center;\n",
              "  background-color: var(--sklearn-color-background);\n",
              "  position: relative;\n",
              "}\n",
              "\n",
              "#sk-container-id-5 div.sk-parallel-item {\n",
              "  display: flex;\n",
              "  flex-direction: column;\n",
              "}\n",
              "\n",
              "#sk-container-id-5 div.sk-parallel-item:first-child::after {\n",
              "  align-self: flex-end;\n",
              "  width: 50%;\n",
              "}\n",
              "\n",
              "#sk-container-id-5 div.sk-parallel-item:last-child::after {\n",
              "  align-self: flex-start;\n",
              "  width: 50%;\n",
              "}\n",
              "\n",
              "#sk-container-id-5 div.sk-parallel-item:only-child::after {\n",
              "  width: 0;\n",
              "}\n",
              "\n",
              "/* Serial-specific style estimator block */\n",
              "\n",
              "#sk-container-id-5 div.sk-serial {\n",
              "  display: flex;\n",
              "  flex-direction: column;\n",
              "  align-items: center;\n",
              "  background-color: var(--sklearn-color-background);\n",
              "  padding-right: 1em;\n",
              "  padding-left: 1em;\n",
              "}\n",
              "\n",
              "\n",
              "/* Toggleable style: style used for estimator/Pipeline/ColumnTransformer box that is\n",
              "clickable and can be expanded/collapsed.\n",
              "- Pipeline and ColumnTransformer use this feature and define the default style\n",
              "- Estimators will overwrite some part of the style using the `sk-estimator` class\n",
              "*/\n",
              "\n",
              "/* Pipeline and ColumnTransformer style (default) */\n",
              "\n",
              "#sk-container-id-5 div.sk-toggleable {\n",
              "  /* Default theme specific background. It is overwritten whether we have a\n",
              "  specific estimator or a Pipeline/ColumnTransformer */\n",
              "  background-color: var(--sklearn-color-background);\n",
              "}\n",
              "\n",
              "/* Toggleable label */\n",
              "#sk-container-id-5 label.sk-toggleable__label {\n",
              "  cursor: pointer;\n",
              "  display: flex;\n",
              "  width: 100%;\n",
              "  margin-bottom: 0;\n",
              "  padding: 0.5em;\n",
              "  box-sizing: border-box;\n",
              "  text-align: center;\n",
              "  align-items: start;\n",
              "  justify-content: space-between;\n",
              "  gap: 0.5em;\n",
              "}\n",
              "\n",
              "#sk-container-id-5 label.sk-toggleable__label .caption {\n",
              "  font-size: 0.6rem;\n",
              "  font-weight: lighter;\n",
              "  color: var(--sklearn-color-text-muted);\n",
              "}\n",
              "\n",
              "#sk-container-id-5 label.sk-toggleable__label-arrow:before {\n",
              "  /* Arrow on the left of the label */\n",
              "  content: \"▸\";\n",
              "  float: left;\n",
              "  margin-right: 0.25em;\n",
              "  color: var(--sklearn-color-icon);\n",
              "}\n",
              "\n",
              "#sk-container-id-5 label.sk-toggleable__label-arrow:hover:before {\n",
              "  color: var(--sklearn-color-text);\n",
              "}\n",
              "\n",
              "/* Toggleable content - dropdown */\n",
              "\n",
              "#sk-container-id-5 div.sk-toggleable__content {\n",
              "  max-height: 0;\n",
              "  max-width: 0;\n",
              "  overflow: hidden;\n",
              "  text-align: left;\n",
              "  /* unfitted */\n",
              "  background-color: var(--sklearn-color-unfitted-level-0);\n",
              "}\n",
              "\n",
              "#sk-container-id-5 div.sk-toggleable__content.fitted {\n",
              "  /* fitted */\n",
              "  background-color: var(--sklearn-color-fitted-level-0);\n",
              "}\n",
              "\n",
              "#sk-container-id-5 div.sk-toggleable__content pre {\n",
              "  margin: 0.2em;\n",
              "  border-radius: 0.25em;\n",
              "  color: var(--sklearn-color-text);\n",
              "  /* unfitted */\n",
              "  background-color: var(--sklearn-color-unfitted-level-0);\n",
              "}\n",
              "\n",
              "#sk-container-id-5 div.sk-toggleable__content.fitted pre {\n",
              "  /* unfitted */\n",
              "  background-color: var(--sklearn-color-fitted-level-0);\n",
              "}\n",
              "\n",
              "#sk-container-id-5 input.sk-toggleable__control:checked~div.sk-toggleable__content {\n",
              "  /* Expand drop-down */\n",
              "  max-height: 200px;\n",
              "  max-width: 100%;\n",
              "  overflow: auto;\n",
              "}\n",
              "\n",
              "#sk-container-id-5 input.sk-toggleable__control:checked~label.sk-toggleable__label-arrow:before {\n",
              "  content: \"▾\";\n",
              "}\n",
              "\n",
              "/* Pipeline/ColumnTransformer-specific style */\n",
              "\n",
              "#sk-container-id-5 div.sk-label input.sk-toggleable__control:checked~label.sk-toggleable__label {\n",
              "  color: var(--sklearn-color-text);\n",
              "  background-color: var(--sklearn-color-unfitted-level-2);\n",
              "}\n",
              "\n",
              "#sk-container-id-5 div.sk-label.fitted input.sk-toggleable__control:checked~label.sk-toggleable__label {\n",
              "  background-color: var(--sklearn-color-fitted-level-2);\n",
              "}\n",
              "\n",
              "/* Estimator-specific style */\n",
              "\n",
              "/* Colorize estimator box */\n",
              "#sk-container-id-5 div.sk-estimator input.sk-toggleable__control:checked~label.sk-toggleable__label {\n",
              "  /* unfitted */\n",
              "  background-color: var(--sklearn-color-unfitted-level-2);\n",
              "}\n",
              "\n",
              "#sk-container-id-5 div.sk-estimator.fitted input.sk-toggleable__control:checked~label.sk-toggleable__label {\n",
              "  /* fitted */\n",
              "  background-color: var(--sklearn-color-fitted-level-2);\n",
              "}\n",
              "\n",
              "#sk-container-id-5 div.sk-label label.sk-toggleable__label,\n",
              "#sk-container-id-5 div.sk-label label {\n",
              "  /* The background is the default theme color */\n",
              "  color: var(--sklearn-color-text-on-default-background);\n",
              "}\n",
              "\n",
              "/* On hover, darken the color of the background */\n",
              "#sk-container-id-5 div.sk-label:hover label.sk-toggleable__label {\n",
              "  color: var(--sklearn-color-text);\n",
              "  background-color: var(--sklearn-color-unfitted-level-2);\n",
              "}\n",
              "\n",
              "/* Label box, darken color on hover, fitted */\n",
              "#sk-container-id-5 div.sk-label.fitted:hover label.sk-toggleable__label.fitted {\n",
              "  color: var(--sklearn-color-text);\n",
              "  background-color: var(--sklearn-color-fitted-level-2);\n",
              "}\n",
              "\n",
              "/* Estimator label */\n",
              "\n",
              "#sk-container-id-5 div.sk-label label {\n",
              "  font-family: monospace;\n",
              "  font-weight: bold;\n",
              "  display: inline-block;\n",
              "  line-height: 1.2em;\n",
              "}\n",
              "\n",
              "#sk-container-id-5 div.sk-label-container {\n",
              "  text-align: center;\n",
              "}\n",
              "\n",
              "/* Estimator-specific */\n",
              "#sk-container-id-5 div.sk-estimator {\n",
              "  font-family: monospace;\n",
              "  border: 1px dotted var(--sklearn-color-border-box);\n",
              "  border-radius: 0.25em;\n",
              "  box-sizing: border-box;\n",
              "  margin-bottom: 0.5em;\n",
              "  /* unfitted */\n",
              "  background-color: var(--sklearn-color-unfitted-level-0);\n",
              "}\n",
              "\n",
              "#sk-container-id-5 div.sk-estimator.fitted {\n",
              "  /* fitted */\n",
              "  background-color: var(--sklearn-color-fitted-level-0);\n",
              "}\n",
              "\n",
              "/* on hover */\n",
              "#sk-container-id-5 div.sk-estimator:hover {\n",
              "  /* unfitted */\n",
              "  background-color: var(--sklearn-color-unfitted-level-2);\n",
              "}\n",
              "\n",
              "#sk-container-id-5 div.sk-estimator.fitted:hover {\n",
              "  /* fitted */\n",
              "  background-color: var(--sklearn-color-fitted-level-2);\n",
              "}\n",
              "\n",
              "/* Specification for estimator info (e.g. \"i\" and \"?\") */\n",
              "\n",
              "/* Common style for \"i\" and \"?\" */\n",
              "\n",
              ".sk-estimator-doc-link,\n",
              "a:link.sk-estimator-doc-link,\n",
              "a:visited.sk-estimator-doc-link {\n",
              "  float: right;\n",
              "  font-size: smaller;\n",
              "  line-height: 1em;\n",
              "  font-family: monospace;\n",
              "  background-color: var(--sklearn-color-background);\n",
              "  border-radius: 1em;\n",
              "  height: 1em;\n",
              "  width: 1em;\n",
              "  text-decoration: none !important;\n",
              "  margin-left: 0.5em;\n",
              "  text-align: center;\n",
              "  /* unfitted */\n",
              "  border: var(--sklearn-color-unfitted-level-1) 1pt solid;\n",
              "  color: var(--sklearn-color-unfitted-level-1);\n",
              "}\n",
              "\n",
              ".sk-estimator-doc-link.fitted,\n",
              "a:link.sk-estimator-doc-link.fitted,\n",
              "a:visited.sk-estimator-doc-link.fitted {\n",
              "  /* fitted */\n",
              "  border: var(--sklearn-color-fitted-level-1) 1pt solid;\n",
              "  color: var(--sklearn-color-fitted-level-1);\n",
              "}\n",
              "\n",
              "/* On hover */\n",
              "div.sk-estimator:hover .sk-estimator-doc-link:hover,\n",
              ".sk-estimator-doc-link:hover,\n",
              "div.sk-label-container:hover .sk-estimator-doc-link:hover,\n",
              ".sk-estimator-doc-link:hover {\n",
              "  /* unfitted */\n",
              "  background-color: var(--sklearn-color-unfitted-level-3);\n",
              "  color: var(--sklearn-color-background);\n",
              "  text-decoration: none;\n",
              "}\n",
              "\n",
              "div.sk-estimator.fitted:hover .sk-estimator-doc-link.fitted:hover,\n",
              ".sk-estimator-doc-link.fitted:hover,\n",
              "div.sk-label-container:hover .sk-estimator-doc-link.fitted:hover,\n",
              ".sk-estimator-doc-link.fitted:hover {\n",
              "  /* fitted */\n",
              "  background-color: var(--sklearn-color-fitted-level-3);\n",
              "  color: var(--sklearn-color-background);\n",
              "  text-decoration: none;\n",
              "}\n",
              "\n",
              "/* Span, style for the box shown on hovering the info icon */\n",
              ".sk-estimator-doc-link span {\n",
              "  display: none;\n",
              "  z-index: 9999;\n",
              "  position: relative;\n",
              "  font-weight: normal;\n",
              "  right: .2ex;\n",
              "  padding: .5ex;\n",
              "  margin: .5ex;\n",
              "  width: min-content;\n",
              "  min-width: 20ex;\n",
              "  max-width: 50ex;\n",
              "  color: var(--sklearn-color-text);\n",
              "  box-shadow: 2pt 2pt 4pt #999;\n",
              "  /* unfitted */\n",
              "  background: var(--sklearn-color-unfitted-level-0);\n",
              "  border: .5pt solid var(--sklearn-color-unfitted-level-3);\n",
              "}\n",
              "\n",
              ".sk-estimator-doc-link.fitted span {\n",
              "  /* fitted */\n",
              "  background: var(--sklearn-color-fitted-level-0);\n",
              "  border: var(--sklearn-color-fitted-level-3);\n",
              "}\n",
              "\n",
              ".sk-estimator-doc-link:hover span {\n",
              "  display: block;\n",
              "}\n",
              "\n",
              "/* \"?\"-specific style due to the `<a>` HTML tag */\n",
              "\n",
              "#sk-container-id-5 a.estimator_doc_link {\n",
              "  float: right;\n",
              "  font-size: 1rem;\n",
              "  line-height: 1em;\n",
              "  font-family: monospace;\n",
              "  background-color: var(--sklearn-color-background);\n",
              "  border-radius: 1rem;\n",
              "  height: 1rem;\n",
              "  width: 1rem;\n",
              "  text-decoration: none;\n",
              "  /* unfitted */\n",
              "  color: var(--sklearn-color-unfitted-level-1);\n",
              "  border: var(--sklearn-color-unfitted-level-1) 1pt solid;\n",
              "}\n",
              "\n",
              "#sk-container-id-5 a.estimator_doc_link.fitted {\n",
              "  /* fitted */\n",
              "  border: var(--sklearn-color-fitted-level-1) 1pt solid;\n",
              "  color: var(--sklearn-color-fitted-level-1);\n",
              "}\n",
              "\n",
              "/* On hover */\n",
              "#sk-container-id-5 a.estimator_doc_link:hover {\n",
              "  /* unfitted */\n",
              "  background-color: var(--sklearn-color-unfitted-level-3);\n",
              "  color: var(--sklearn-color-background);\n",
              "  text-decoration: none;\n",
              "}\n",
              "\n",
              "#sk-container-id-5 a.estimator_doc_link.fitted:hover {\n",
              "  /* fitted */\n",
              "  background-color: var(--sklearn-color-fitted-level-3);\n",
              "}\n",
              "</style><div id=\"sk-container-id-5\" class=\"sk-top-container\"><div class=\"sk-text-repr-fallback\"><pre>Pipeline(steps=[(&#x27;preprocessor&#x27;,\n",
              "                 ColumnTransformer(remainder=&#x27;passthrough&#x27;,\n",
              "                                   transformers=[(&#x27;num_pipe&#x27;,\n",
              "                                                  Pipeline(steps=[(&#x27;imputer&#x27;,\n",
              "                                                                   KNNImputer()),\n",
              "                                                                  (&#x27;scaler&#x27;,\n",
              "                                                                   StandardScaler())]),\n",
              "                                                  [4, 17, 18]),\n",
              "                                                 (&#x27;cat_pipe&#x27;,\n",
              "                                                  OneHotEncoder(drop=&#x27;first&#x27;,\n",
              "                                                                handle_unknown=&#x27;ignore&#x27;,\n",
              "                                                                sparse_output=False),\n",
              "                                                  [0, 1, 2, 3, 5, 6, 7, 8, 9,\n",
              "                                                   10, 11, 12, 13, 14, 15,\n",
              "                                                   16])])),\n",
              "                (&#x27;smote&#x27;, SMOTE(random_state=42)),\n",
              "                (&#x27;mode...\n",
              "                               feature_types=None, feature_weights=None,\n",
              "                               gamma=0, grow_policy=None, importance_type=None,\n",
              "                               interaction_constraints=None, learning_rate=0.1,\n",
              "                               max_bin=None, max_cat_threshold=None,\n",
              "                               max_cat_to_onehot=None, max_delta_step=None,\n",
              "                               max_depth=5, max_leaves=None,\n",
              "                               min_child_weight=None, missing=nan,\n",
              "                               monotone_constraints=None, multi_strategy=None,\n",
              "                               n_estimators=None, n_jobs=None,\n",
              "                               num_parallel_tree=None, ...))])</pre><b>In a Jupyter environment, please rerun this cell to show the HTML representation or trust the notebook. <br />On GitHub, the HTML representation is unable to render, please try loading this page with nbviewer.org.</b></div><div class=\"sk-container\" hidden><div class=\"sk-item sk-dashed-wrapped\"><div class=\"sk-label-container\"><div class=\"sk-label fitted sk-toggleable\"><input class=\"sk-toggleable__control sk-hidden--visually\" id=\"sk-estimator-id-35\" type=\"checkbox\" ><label for=\"sk-estimator-id-35\" class=\"sk-toggleable__label fitted sk-toggleable__label-arrow\"><div><div>Pipeline</div></div><div><span class=\"sk-estimator-doc-link fitted\">i<span>Fitted</span></span></div></label><div class=\"sk-toggleable__content fitted\"><pre>Pipeline(steps=[(&#x27;preprocessor&#x27;,\n",
              "                 ColumnTransformer(remainder=&#x27;passthrough&#x27;,\n",
              "                                   transformers=[(&#x27;num_pipe&#x27;,\n",
              "                                                  Pipeline(steps=[(&#x27;imputer&#x27;,\n",
              "                                                                   KNNImputer()),\n",
              "                                                                  (&#x27;scaler&#x27;,\n",
              "                                                                   StandardScaler())]),\n",
              "                                                  [4, 17, 18]),\n",
              "                                                 (&#x27;cat_pipe&#x27;,\n",
              "                                                  OneHotEncoder(drop=&#x27;first&#x27;,\n",
              "                                                                handle_unknown=&#x27;ignore&#x27;,\n",
              "                                                                sparse_output=False),\n",
              "                                                  [0, 1, 2, 3, 5, 6, 7, 8, 9,\n",
              "                                                   10, 11, 12, 13, 14, 15,\n",
              "                                                   16])])),\n",
              "                (&#x27;smote&#x27;, SMOTE(random_state=42)),\n",
              "                (&#x27;mode...\n",
              "                               feature_types=None, feature_weights=None,\n",
              "                               gamma=0, grow_policy=None, importance_type=None,\n",
              "                               interaction_constraints=None, learning_rate=0.1,\n",
              "                               max_bin=None, max_cat_threshold=None,\n",
              "                               max_cat_to_onehot=None, max_delta_step=None,\n",
              "                               max_depth=5, max_leaves=None,\n",
              "                               min_child_weight=None, missing=nan,\n",
              "                               monotone_constraints=None, multi_strategy=None,\n",
              "                               n_estimators=None, n_jobs=None,\n",
              "                               num_parallel_tree=None, ...))])</pre></div> </div></div><div class=\"sk-serial\"><div class=\"sk-item sk-dashed-wrapped\"><div class=\"sk-label-container\"><div class=\"sk-label fitted sk-toggleable\"><input class=\"sk-toggleable__control sk-hidden--visually\" id=\"sk-estimator-id-36\" type=\"checkbox\" ><label for=\"sk-estimator-id-36\" class=\"sk-toggleable__label fitted sk-toggleable__label-arrow\"><div><div>preprocessor: ColumnTransformer</div></div><div><a class=\"sk-estimator-doc-link fitted\" rel=\"noreferrer\" target=\"_blank\" href=\"https://scikit-learn.org/1.6/modules/generated/sklearn.compose.ColumnTransformer.html\">?<span>Documentation for preprocessor: ColumnTransformer</span></a></div></label><div class=\"sk-toggleable__content fitted\"><pre>ColumnTransformer(remainder=&#x27;passthrough&#x27;,\n",
              "                  transformers=[(&#x27;num_pipe&#x27;,\n",
              "                                 Pipeline(steps=[(&#x27;imputer&#x27;, KNNImputer()),\n",
              "                                                 (&#x27;scaler&#x27;, StandardScaler())]),\n",
              "                                 [4, 17, 18]),\n",
              "                                (&#x27;cat_pipe&#x27;,\n",
              "                                 OneHotEncoder(drop=&#x27;first&#x27;,\n",
              "                                               handle_unknown=&#x27;ignore&#x27;,\n",
              "                                               sparse_output=False),\n",
              "                                 [0, 1, 2, 3, 5, 6, 7, 8, 9, 10, 11, 12, 13, 14,\n",
              "                                  15, 16])])</pre></div> </div></div><div class=\"sk-parallel\"><div class=\"sk-parallel-item\"><div class=\"sk-item\"><div class=\"sk-label-container\"><div class=\"sk-label fitted sk-toggleable\"><input class=\"sk-toggleable__control sk-hidden--visually\" id=\"sk-estimator-id-37\" type=\"checkbox\" ><label for=\"sk-estimator-id-37\" class=\"sk-toggleable__label fitted sk-toggleable__label-arrow\"><div><div>num_pipe</div></div></label><div class=\"sk-toggleable__content fitted\"><pre>[4, 17, 18]</pre></div> </div></div><div class=\"sk-serial\"><div class=\"sk-item\"><div class=\"sk-serial\"><div class=\"sk-item\"><div class=\"sk-estimator fitted sk-toggleable\"><input class=\"sk-toggleable__control sk-hidden--visually\" id=\"sk-estimator-id-38\" type=\"checkbox\" ><label for=\"sk-estimator-id-38\" class=\"sk-toggleable__label fitted sk-toggleable__label-arrow\"><div><div>KNNImputer</div></div><div><a class=\"sk-estimator-doc-link fitted\" rel=\"noreferrer\" target=\"_blank\" href=\"https://scikit-learn.org/1.6/modules/generated/sklearn.impute.KNNImputer.html\">?<span>Documentation for KNNImputer</span></a></div></label><div class=\"sk-toggleable__content fitted\"><pre>KNNImputer()</pre></div> </div></div><div class=\"sk-item\"><div class=\"sk-estimator fitted sk-toggleable\"><input class=\"sk-toggleable__control sk-hidden--visually\" id=\"sk-estimator-id-39\" type=\"checkbox\" ><label for=\"sk-estimator-id-39\" class=\"sk-toggleable__label fitted sk-toggleable__label-arrow\"><div><div>StandardScaler</div></div><div><a class=\"sk-estimator-doc-link fitted\" rel=\"noreferrer\" target=\"_blank\" href=\"https://scikit-learn.org/1.6/modules/generated/sklearn.preprocessing.StandardScaler.html\">?<span>Documentation for StandardScaler</span></a></div></label><div class=\"sk-toggleable__content fitted\"><pre>StandardScaler()</pre></div> </div></div></div></div></div></div></div><div class=\"sk-parallel-item\"><div class=\"sk-item\"><div class=\"sk-label-container\"><div class=\"sk-label fitted sk-toggleable\"><input class=\"sk-toggleable__control sk-hidden--visually\" id=\"sk-estimator-id-40\" type=\"checkbox\" ><label for=\"sk-estimator-id-40\" class=\"sk-toggleable__label fitted sk-toggleable__label-arrow\"><div><div>cat_pipe</div></div></label><div class=\"sk-toggleable__content fitted\"><pre>[0, 1, 2, 3, 5, 6, 7, 8, 9, 10, 11, 12, 13, 14, 15, 16]</pre></div> </div></div><div class=\"sk-serial\"><div class=\"sk-item\"><div class=\"sk-estimator fitted sk-toggleable\"><input class=\"sk-toggleable__control sk-hidden--visually\" id=\"sk-estimator-id-41\" type=\"checkbox\" ><label for=\"sk-estimator-id-41\" class=\"sk-toggleable__label fitted sk-toggleable__label-arrow\"><div><div>OneHotEncoder</div></div><div><a class=\"sk-estimator-doc-link fitted\" rel=\"noreferrer\" target=\"_blank\" href=\"https://scikit-learn.org/1.6/modules/generated/sklearn.preprocessing.OneHotEncoder.html\">?<span>Documentation for OneHotEncoder</span></a></div></label><div class=\"sk-toggleable__content fitted\"><pre>OneHotEncoder(drop=&#x27;first&#x27;, handle_unknown=&#x27;ignore&#x27;, sparse_output=False)</pre></div> </div></div></div></div></div><div class=\"sk-parallel-item\"><div class=\"sk-item\"><div class=\"sk-label-container\"><div class=\"sk-label fitted sk-toggleable\"><input class=\"sk-toggleable__control sk-hidden--visually\" id=\"sk-estimator-id-42\" type=\"checkbox\" ><label for=\"sk-estimator-id-42\" class=\"sk-toggleable__label fitted sk-toggleable__label-arrow\"><div><div>remainder</div></div></label><div class=\"sk-toggleable__content fitted\"><pre>[]</pre></div> </div></div><div class=\"sk-serial\"><div class=\"sk-item\"><div class=\"sk-estimator fitted sk-toggleable\"><input class=\"sk-toggleable__control sk-hidden--visually\" id=\"sk-estimator-id-43\" type=\"checkbox\" ><label for=\"sk-estimator-id-43\" class=\"sk-toggleable__label fitted sk-toggleable__label-arrow\"><div><div>passthrough</div></div></label><div class=\"sk-toggleable__content fitted\"><pre>passthrough</pre></div> </div></div></div></div></div></div></div><div class=\"sk-item\"><div class=\"sk-estimator fitted sk-toggleable\"><input class=\"sk-toggleable__control sk-hidden--visually\" id=\"sk-estimator-id-44\" type=\"checkbox\" ><label for=\"sk-estimator-id-44\" class=\"sk-toggleable__label fitted sk-toggleable__label-arrow\"><div><div>SMOTE</div></div></label><div class=\"sk-toggleable__content fitted\"><pre>SMOTE(random_state=42)</pre></div> </div></div><div class=\"sk-item\"><div class=\"sk-estimator fitted sk-toggleable\"><input class=\"sk-toggleable__control sk-hidden--visually\" id=\"sk-estimator-id-45\" type=\"checkbox\" ><label for=\"sk-estimator-id-45\" class=\"sk-toggleable__label fitted sk-toggleable__label-arrow\"><div><div>XGBClassifier</div></div><div><a class=\"sk-estimator-doc-link fitted\" rel=\"noreferrer\" target=\"_blank\" href=\"https://xgboost.readthedocs.io/en/release_3.1.0/python/python_api.html#xgboost.XGBClassifier\">?<span>Documentation for XGBClassifier</span></a></div></label><div class=\"sk-toggleable__content fitted\"><pre>XGBClassifier(base_score=None, booster=None, callbacks=None,\n",
              "              colsample_bylevel=None, colsample_bynode=None,\n",
              "              colsample_bytree=None, device=None, early_stopping_rounds=None,\n",
              "              enable_categorical=False, eval_metric=None, feature_types=None,\n",
              "              feature_weights=None, gamma=0, grow_policy=None,\n",
              "              importance_type=None, interaction_constraints=None,\n",
              "              learning_rate=0.1, max_bin=None, max_cat_threshold=None,\n",
              "              max_cat_to_onehot=None, max_delta_step=None, max_depth=5,\n",
              "              max_leaves=None, min_child_weight=None, missing=nan,\n",
              "              monotone_constraints=None, multi_strategy=None, n_estimators=None,\n",
              "              n_jobs=None, num_parallel_tree=None, ...)</pre></div> </div></div></div></div></div></div>"
            ]
          },
          "metadata": {},
          "execution_count": 97
        }
      ]
    },
    {
      "cell_type": "code",
      "source": [
        "final_pipe.named_steps"
      ],
      "metadata": {
        "colab": {
          "base_uri": "https://localhost:8080/"
        },
        "id": "PGqD7BsOE1mh",
        "outputId": "3ee6b303-af4d-4c00-fa69-f70bd0f0d68a"
      },
      "execution_count": null,
      "outputs": [
        {
          "output_type": "execute_result",
          "data": {
            "text/plain": [
              "{'preprocessor': ColumnTransformer(remainder='passthrough',\n",
              "                   transformers=[('num_pipe',\n",
              "                                  Pipeline(steps=[('imputer', KNNImputer()),\n",
              "                                                  ('scaler', StandardScaler())]),\n",
              "                                  [4, 17, 18]),\n",
              "                                 ('cat_pipe',\n",
              "                                  OneHotEncoder(drop='first',\n",
              "                                                handle_unknown='ignore',\n",
              "                                                sparse_output=False),\n",
              "                                  [0, 1, 2, 3, 5, 6, 7, 8, 9, 10, 11, 12, 13, 14,\n",
              "                                   15, 16])]),\n",
              " 'smote': SMOTE(random_state=42),\n",
              " 'model': XGBClassifier(base_score=None, booster=None, callbacks=None,\n",
              "               colsample_bylevel=None, colsample_bynode=None,\n",
              "               colsample_bytree=None, device=None, early_stopping_rounds=None,\n",
              "               enable_categorical=False, eval_metric=None, feature_types=None,\n",
              "               feature_weights=None, gamma=0, grow_policy=None,\n",
              "               importance_type=None, interaction_constraints=None,\n",
              "               learning_rate=0.1, max_bin=None, max_cat_threshold=None,\n",
              "               max_cat_to_onehot=None, max_delta_step=None, max_depth=5,\n",
              "               max_leaves=None, min_child_weight=None, missing=nan,\n",
              "               monotone_constraints=None, multi_strategy=None, n_estimators=None,\n",
              "               n_jobs=None, num_parallel_tree=None, ...)}"
            ]
          },
          "metadata": {},
          "execution_count": 98
        }
      ]
    },
    {
      "cell_type": "code",
      "source": [
        "# Exporting the Pipeline\n",
        "\n",
        "pickle.dump(final_pipe,open('Prediction.pkl','wb'))"
      ],
      "metadata": {
        "id": "Oti_dd91HJ3F"
      },
      "execution_count": null,
      "outputs": []
    },
    {
      "cell_type": "code",
      "source": [],
      "metadata": {
        "id": "3ztPb5KyrYnE"
      },
      "execution_count": null,
      "outputs": []
    }
  ]
}